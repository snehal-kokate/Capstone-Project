{
 "cells": [
  {
   "cell_type": "markdown",
   "id": "6c07cc28",
   "metadata": {},
   "source": [
    "# Phase4"
   ]
  },
  {
   "cell_type": "markdown",
   "id": "60086ea3",
   "metadata": {},
   "source": [
    "# Unsupervised ML (Clustering)"
   ]
  },
  {
   "cell_type": "markdown",
   "id": "ed4560d9",
   "metadata": {},
   "source": [
    "# 4.1] Create 3 Clusters:\n",
    "    1.Sensitive Areas\n",
    "    2.Moderate Areas\n",
    "    3.Peaceful Areas\n"
   ]
  },
  {
   "cell_type": "markdown",
   "id": "7401201f",
   "metadata": {},
   "source": [
    "1]Sensitive area: where number of crimes is more.(highest number of crimes)\n",
    "    state,district,total ipc crimes: 01_District_wise_crimes_committed_IPC_2001_2012.csv'.\n",
    "    \n",
    "2]Moderate Area: where number of crimes in medium not so high.\n",
    "    state,district,total ipc crimes: 01_District_wise_crimes_committed_IPC_2001_2012.csv'.\n",
    "    \n",
    "3]Peaceful Areas: where lowest number of crimes.\n",
    "\n",
    "file:\n",
    "Districtwise_crimes.csv"
   ]
  },
  {
   "cell_type": "code",
   "execution_count": 49,
   "id": "b945ab77",
   "metadata": {},
   "outputs": [],
   "source": [
    "import pandas as pd\n",
    "import numpy as np\n",
    "from sqlalchemy import create_engine\n",
    "import seaborn as sns\n",
    "import plotly.express as px\n",
    "\n",
    "import matplotlib.pyplot as plt\n",
    "import sqlite3\n",
    "import warnings\n",
    "warnings.filterwarnings('ignore')"
   ]
  },
  {
   "cell_type": "code",
   "execution_count": 2,
   "id": "3dd8981c",
   "metadata": {},
   "outputs": [
    {
     "data": {
      "text/html": [
       "<div>\n",
       "<style scoped>\n",
       "    .dataframe tbody tr th:only-of-type {\n",
       "        vertical-align: middle;\n",
       "    }\n",
       "\n",
       "    .dataframe tbody tr th {\n",
       "        vertical-align: top;\n",
       "    }\n",
       "\n",
       "    .dataframe thead th {\n",
       "        text-align: right;\n",
       "    }\n",
       "</style>\n",
       "<table border=\"1\" class=\"dataframe\">\n",
       "  <thead>\n",
       "    <tr style=\"text-align: right;\">\n",
       "      <th></th>\n",
       "      <th>STATE/UT</th>\n",
       "      <th>DISTRICT</th>\n",
       "      <th>YEAR</th>\n",
       "      <th>MURDER</th>\n",
       "      <th>ATTEMPT TO MURDER</th>\n",
       "      <th>CULPABLE HOMICIDE NOT AMOUNTING TO MURDER</th>\n",
       "      <th>RAPE</th>\n",
       "      <th>CUSTODIAL RAPE</th>\n",
       "      <th>OTHER RAPE</th>\n",
       "      <th>KIDNAPPING &amp; ABDUCTION</th>\n",
       "      <th>...</th>\n",
       "      <th>ARSON</th>\n",
       "      <th>HURT/GREVIOUS HURT</th>\n",
       "      <th>DOWRY DEATHS</th>\n",
       "      <th>ASSAULT ON WOMEN WITH INTENT TO OUTRAGE HER MODESTY</th>\n",
       "      <th>INSULT TO MODESTY OF WOMEN</th>\n",
       "      <th>CRUELTY BY HUSBAND OR HIS RELATIVES</th>\n",
       "      <th>IMPORTATION OF GIRLS FROM FOREIGN COUNTRIES</th>\n",
       "      <th>CAUSING DEATH BY NEGLIGENCE</th>\n",
       "      <th>OTHER IPC CRIMES</th>\n",
       "      <th>TOTAL IPC CRIMES</th>\n",
       "    </tr>\n",
       "  </thead>\n",
       "  <tbody>\n",
       "    <tr>\n",
       "      <th>0</th>\n",
       "      <td>ANDHRA PRADESH</td>\n",
       "      <td>ADILABAD</td>\n",
       "      <td>2001</td>\n",
       "      <td>101</td>\n",
       "      <td>60</td>\n",
       "      <td>17</td>\n",
       "      <td>50</td>\n",
       "      <td>0</td>\n",
       "      <td>50</td>\n",
       "      <td>46</td>\n",
       "      <td>...</td>\n",
       "      <td>30</td>\n",
       "      <td>1131</td>\n",
       "      <td>16</td>\n",
       "      <td>149</td>\n",
       "      <td>34</td>\n",
       "      <td>175</td>\n",
       "      <td>0</td>\n",
       "      <td>181</td>\n",
       "      <td>1518</td>\n",
       "      <td>4154</td>\n",
       "    </tr>\n",
       "    <tr>\n",
       "      <th>1</th>\n",
       "      <td>ANDHRA PRADESH</td>\n",
       "      <td>ANANTAPUR</td>\n",
       "      <td>2001</td>\n",
       "      <td>151</td>\n",
       "      <td>125</td>\n",
       "      <td>1</td>\n",
       "      <td>23</td>\n",
       "      <td>0</td>\n",
       "      <td>23</td>\n",
       "      <td>53</td>\n",
       "      <td>...</td>\n",
       "      <td>69</td>\n",
       "      <td>1543</td>\n",
       "      <td>7</td>\n",
       "      <td>118</td>\n",
       "      <td>24</td>\n",
       "      <td>154</td>\n",
       "      <td>0</td>\n",
       "      <td>270</td>\n",
       "      <td>754</td>\n",
       "      <td>4125</td>\n",
       "    </tr>\n",
       "    <tr>\n",
       "      <th>2</th>\n",
       "      <td>ANDHRA PRADESH</td>\n",
       "      <td>CHITTOOR</td>\n",
       "      <td>2001</td>\n",
       "      <td>101</td>\n",
       "      <td>57</td>\n",
       "      <td>2</td>\n",
       "      <td>27</td>\n",
       "      <td>0</td>\n",
       "      <td>27</td>\n",
       "      <td>59</td>\n",
       "      <td>...</td>\n",
       "      <td>38</td>\n",
       "      <td>2088</td>\n",
       "      <td>14</td>\n",
       "      <td>112</td>\n",
       "      <td>83</td>\n",
       "      <td>186</td>\n",
       "      <td>0</td>\n",
       "      <td>404</td>\n",
       "      <td>1262</td>\n",
       "      <td>5818</td>\n",
       "    </tr>\n",
       "    <tr>\n",
       "      <th>3</th>\n",
       "      <td>ANDHRA PRADESH</td>\n",
       "      <td>CUDDAPAH</td>\n",
       "      <td>2001</td>\n",
       "      <td>80</td>\n",
       "      <td>53</td>\n",
       "      <td>1</td>\n",
       "      <td>20</td>\n",
       "      <td>0</td>\n",
       "      <td>20</td>\n",
       "      <td>25</td>\n",
       "      <td>...</td>\n",
       "      <td>23</td>\n",
       "      <td>795</td>\n",
       "      <td>17</td>\n",
       "      <td>126</td>\n",
       "      <td>38</td>\n",
       "      <td>57</td>\n",
       "      <td>0</td>\n",
       "      <td>233</td>\n",
       "      <td>1181</td>\n",
       "      <td>3140</td>\n",
       "    </tr>\n",
       "    <tr>\n",
       "      <th>4</th>\n",
       "      <td>ANDHRA PRADESH</td>\n",
       "      <td>EAST GODAVARI</td>\n",
       "      <td>2001</td>\n",
       "      <td>82</td>\n",
       "      <td>67</td>\n",
       "      <td>1</td>\n",
       "      <td>23</td>\n",
       "      <td>0</td>\n",
       "      <td>23</td>\n",
       "      <td>49</td>\n",
       "      <td>...</td>\n",
       "      <td>41</td>\n",
       "      <td>1244</td>\n",
       "      <td>12</td>\n",
       "      <td>109</td>\n",
       "      <td>58</td>\n",
       "      <td>247</td>\n",
       "      <td>0</td>\n",
       "      <td>431</td>\n",
       "      <td>2313</td>\n",
       "      <td>6507</td>\n",
       "    </tr>\n",
       "    <tr>\n",
       "      <th>...</th>\n",
       "      <td>...</td>\n",
       "      <td>...</td>\n",
       "      <td>...</td>\n",
       "      <td>...</td>\n",
       "      <td>...</td>\n",
       "      <td>...</td>\n",
       "      <td>...</td>\n",
       "      <td>...</td>\n",
       "      <td>...</td>\n",
       "      <td>...</td>\n",
       "      <td>...</td>\n",
       "      <td>...</td>\n",
       "      <td>...</td>\n",
       "      <td>...</td>\n",
       "      <td>...</td>\n",
       "      <td>...</td>\n",
       "      <td>...</td>\n",
       "      <td>...</td>\n",
       "      <td>...</td>\n",
       "      <td>...</td>\n",
       "      <td>...</td>\n",
       "    </tr>\n",
       "    <tr>\n",
       "      <th>9012</th>\n",
       "      <td>LAKSHADWEEP</td>\n",
       "      <td>LAKSHADWEEP</td>\n",
       "      <td>2012</td>\n",
       "      <td>0</td>\n",
       "      <td>0</td>\n",
       "      <td>0</td>\n",
       "      <td>0</td>\n",
       "      <td>0</td>\n",
       "      <td>0</td>\n",
       "      <td>0</td>\n",
       "      <td>...</td>\n",
       "      <td>3</td>\n",
       "      <td>3</td>\n",
       "      <td>0</td>\n",
       "      <td>1</td>\n",
       "      <td>0</td>\n",
       "      <td>1</td>\n",
       "      <td>0</td>\n",
       "      <td>0</td>\n",
       "      <td>32</td>\n",
       "      <td>60</td>\n",
       "    </tr>\n",
       "    <tr>\n",
       "      <th>9013</th>\n",
       "      <td>LAKSHADWEEP</td>\n",
       "      <td>TOTAL</td>\n",
       "      <td>2012</td>\n",
       "      <td>0</td>\n",
       "      <td>0</td>\n",
       "      <td>0</td>\n",
       "      <td>0</td>\n",
       "      <td>0</td>\n",
       "      <td>0</td>\n",
       "      <td>0</td>\n",
       "      <td>...</td>\n",
       "      <td>3</td>\n",
       "      <td>3</td>\n",
       "      <td>0</td>\n",
       "      <td>1</td>\n",
       "      <td>0</td>\n",
       "      <td>1</td>\n",
       "      <td>0</td>\n",
       "      <td>0</td>\n",
       "      <td>32</td>\n",
       "      <td>60</td>\n",
       "    </tr>\n",
       "    <tr>\n",
       "      <th>9014</th>\n",
       "      <td>PUDUCHERRY</td>\n",
       "      <td>KARAIKAL</td>\n",
       "      <td>2012</td>\n",
       "      <td>5</td>\n",
       "      <td>6</td>\n",
       "      <td>2</td>\n",
       "      <td>6</td>\n",
       "      <td>0</td>\n",
       "      <td>6</td>\n",
       "      <td>2</td>\n",
       "      <td>...</td>\n",
       "      <td>1</td>\n",
       "      <td>186</td>\n",
       "      <td>0</td>\n",
       "      <td>2</td>\n",
       "      <td>0</td>\n",
       "      <td>1</td>\n",
       "      <td>0</td>\n",
       "      <td>44</td>\n",
       "      <td>392</td>\n",
       "      <td>787</td>\n",
       "    </tr>\n",
       "    <tr>\n",
       "      <th>9015</th>\n",
       "      <td>PUDUCHERRY</td>\n",
       "      <td>PUDUCHERRY</td>\n",
       "      <td>2012</td>\n",
       "      <td>24</td>\n",
       "      <td>21</td>\n",
       "      <td>10</td>\n",
       "      <td>7</td>\n",
       "      <td>0</td>\n",
       "      <td>7</td>\n",
       "      <td>17</td>\n",
       "      <td>...</td>\n",
       "      <td>20</td>\n",
       "      <td>632</td>\n",
       "      <td>0</td>\n",
       "      <td>7</td>\n",
       "      <td>2</td>\n",
       "      <td>5</td>\n",
       "      <td>0</td>\n",
       "      <td>219</td>\n",
       "      <td>1668</td>\n",
       "      <td>3494</td>\n",
       "    </tr>\n",
       "    <tr>\n",
       "      <th>9016</th>\n",
       "      <td>PUDUCHERRY</td>\n",
       "      <td>TOTAL</td>\n",
       "      <td>2012</td>\n",
       "      <td>29</td>\n",
       "      <td>27</td>\n",
       "      <td>12</td>\n",
       "      <td>13</td>\n",
       "      <td>0</td>\n",
       "      <td>13</td>\n",
       "      <td>19</td>\n",
       "      <td>...</td>\n",
       "      <td>21</td>\n",
       "      <td>818</td>\n",
       "      <td>0</td>\n",
       "      <td>9</td>\n",
       "      <td>2</td>\n",
       "      <td>6</td>\n",
       "      <td>0</td>\n",
       "      <td>263</td>\n",
       "      <td>2060</td>\n",
       "      <td>4281</td>\n",
       "    </tr>\n",
       "  </tbody>\n",
       "</table>\n",
       "<p>9017 rows × 33 columns</p>\n",
       "</div>"
      ],
      "text/plain": [
       "            STATE/UT       DISTRICT  YEAR  MURDER  ATTEMPT TO MURDER  \\\n",
       "0     ANDHRA PRADESH       ADILABAD  2001     101                 60   \n",
       "1     ANDHRA PRADESH      ANANTAPUR  2001     151                125   \n",
       "2     ANDHRA PRADESH       CHITTOOR  2001     101                 57   \n",
       "3     ANDHRA PRADESH       CUDDAPAH  2001      80                 53   \n",
       "4     ANDHRA PRADESH  EAST GODAVARI  2001      82                 67   \n",
       "...              ...            ...   ...     ...                ...   \n",
       "9012     LAKSHADWEEP    LAKSHADWEEP  2012       0                  0   \n",
       "9013     LAKSHADWEEP          TOTAL  2012       0                  0   \n",
       "9014      PUDUCHERRY       KARAIKAL  2012       5                  6   \n",
       "9015      PUDUCHERRY     PUDUCHERRY  2012      24                 21   \n",
       "9016      PUDUCHERRY          TOTAL  2012      29                 27   \n",
       "\n",
       "      CULPABLE HOMICIDE NOT AMOUNTING TO MURDER  RAPE  CUSTODIAL RAPE  \\\n",
       "0                                            17    50               0   \n",
       "1                                             1    23               0   \n",
       "2                                             2    27               0   \n",
       "3                                             1    20               0   \n",
       "4                                             1    23               0   \n",
       "...                                         ...   ...             ...   \n",
       "9012                                          0     0               0   \n",
       "9013                                          0     0               0   \n",
       "9014                                          2     6               0   \n",
       "9015                                         10     7               0   \n",
       "9016                                         12    13               0   \n",
       "\n",
       "      OTHER RAPE  KIDNAPPING & ABDUCTION  ...  ARSON  HURT/GREVIOUS HURT  \\\n",
       "0             50                      46  ...     30                1131   \n",
       "1             23                      53  ...     69                1543   \n",
       "2             27                      59  ...     38                2088   \n",
       "3             20                      25  ...     23                 795   \n",
       "4             23                      49  ...     41                1244   \n",
       "...          ...                     ...  ...    ...                 ...   \n",
       "9012           0                       0  ...      3                   3   \n",
       "9013           0                       0  ...      3                   3   \n",
       "9014           6                       2  ...      1                 186   \n",
       "9015           7                      17  ...     20                 632   \n",
       "9016          13                      19  ...     21                 818   \n",
       "\n",
       "      DOWRY DEATHS  ASSAULT ON WOMEN WITH INTENT TO OUTRAGE HER MODESTY  \\\n",
       "0               16                                                149     \n",
       "1                7                                                118     \n",
       "2               14                                                112     \n",
       "3               17                                                126     \n",
       "4               12                                                109     \n",
       "...            ...                                                ...     \n",
       "9012             0                                                  1     \n",
       "9013             0                                                  1     \n",
       "9014             0                                                  2     \n",
       "9015             0                                                  7     \n",
       "9016             0                                                  9     \n",
       "\n",
       "      INSULT TO MODESTY OF WOMEN  CRUELTY BY HUSBAND OR HIS RELATIVES  \\\n",
       "0                             34                                  175   \n",
       "1                             24                                  154   \n",
       "2                             83                                  186   \n",
       "3                             38                                   57   \n",
       "4                             58                                  247   \n",
       "...                          ...                                  ...   \n",
       "9012                           0                                    1   \n",
       "9013                           0                                    1   \n",
       "9014                           0                                    1   \n",
       "9015                           2                                    5   \n",
       "9016                           2                                    6   \n",
       "\n",
       "      IMPORTATION OF GIRLS FROM FOREIGN COUNTRIES  \\\n",
       "0                                               0   \n",
       "1                                               0   \n",
       "2                                               0   \n",
       "3                                               0   \n",
       "4                                               0   \n",
       "...                                           ...   \n",
       "9012                                            0   \n",
       "9013                                            0   \n",
       "9014                                            0   \n",
       "9015                                            0   \n",
       "9016                                            0   \n",
       "\n",
       "      CAUSING DEATH BY NEGLIGENCE  OTHER IPC CRIMES  TOTAL IPC CRIMES  \n",
       "0                             181              1518              4154  \n",
       "1                             270               754              4125  \n",
       "2                             404              1262              5818  \n",
       "3                             233              1181              3140  \n",
       "4                             431              2313              6507  \n",
       "...                           ...               ...               ...  \n",
       "9012                            0                32                60  \n",
       "9013                            0                32                60  \n",
       "9014                           44               392               787  \n",
       "9015                          219              1668              3494  \n",
       "9016                          263              2060              4281  \n",
       "\n",
       "[9017 rows x 33 columns]"
      ]
     },
     "execution_count": 2,
     "metadata": {},
     "output_type": "execute_result"
    }
   ],
   "source": [
    "df = pd.read_csv('C:\\\\Users\\\\SNEHAL\\\\Downloads\\\\Capstone-Project-File\\\\01_District_wise_crimes_committed_IPC_2001_2012.csv')\n",
    "df"
   ]
  },
  {
   "cell_type": "code",
   "execution_count": 3,
   "id": "98705f62",
   "metadata": {},
   "outputs": [
    {
     "data": {
      "text/plain": [
       "Index(['STATE/UT', 'DISTRICT', 'YEAR', 'MURDER', 'ATTEMPT TO MURDER',\n",
       "       'CULPABLE HOMICIDE NOT AMOUNTING TO MURDER', 'RAPE', 'CUSTODIAL RAPE',\n",
       "       'OTHER RAPE', 'KIDNAPPING & ABDUCTION',\n",
       "       'KIDNAPPING AND ABDUCTION OF WOMEN AND GIRLS',\n",
       "       'KIDNAPPING AND ABDUCTION OF OTHERS', 'DACOITY',\n",
       "       'PREPARATION AND ASSEMBLY FOR DACOITY', 'ROBBERY', 'BURGLARY', 'THEFT',\n",
       "       'AUTO THEFT', 'OTHER THEFT', 'RIOTS', 'CRIMINAL BREACH OF TRUST',\n",
       "       'CHEATING', 'COUNTERFIETING', 'ARSON', 'HURT/GREVIOUS HURT',\n",
       "       'DOWRY DEATHS', 'ASSAULT ON WOMEN WITH INTENT TO OUTRAGE HER MODESTY',\n",
       "       'INSULT TO MODESTY OF WOMEN', 'CRUELTY BY HUSBAND OR HIS RELATIVES',\n",
       "       'IMPORTATION OF GIRLS FROM FOREIGN COUNTRIES',\n",
       "       'CAUSING DEATH BY NEGLIGENCE', 'OTHER IPC CRIMES', 'TOTAL IPC CRIMES'],\n",
       "      dtype='object')"
      ]
     },
     "execution_count": 3,
     "metadata": {},
     "output_type": "execute_result"
    }
   ],
   "source": [
    "df.columns"
   ]
  },
  {
   "cell_type": "code",
   "execution_count": 5,
   "id": "afb7bac0",
   "metadata": {},
   "outputs": [
    {
     "data": {
      "text/html": [
       "<div>\n",
       "<style scoped>\n",
       "    .dataframe tbody tr th:only-of-type {\n",
       "        vertical-align: middle;\n",
       "    }\n",
       "\n",
       "    .dataframe tbody tr th {\n",
       "        vertical-align: top;\n",
       "    }\n",
       "\n",
       "    .dataframe thead th {\n",
       "        text-align: right;\n",
       "    }\n",
       "</style>\n",
       "<table border=\"1\" class=\"dataframe\">\n",
       "  <thead>\n",
       "    <tr style=\"text-align: right;\">\n",
       "      <th></th>\n",
       "      <th>STATE/UT</th>\n",
       "      <th>DISTRICT</th>\n",
       "      <th>YEAR</th>\n",
       "      <th>MURDER</th>\n",
       "      <th>ATTEMPT TO MURDER</th>\n",
       "      <th>CULPABLE HOMICIDE NOT AMOUNTING TO MURDER</th>\n",
       "      <th>RAPE</th>\n",
       "      <th>CUSTODIAL RAPE</th>\n",
       "      <th>OTHER RAPE</th>\n",
       "      <th>KIDNAPPING &amp; ABDUCTION</th>\n",
       "      <th>...</th>\n",
       "      <th>ARSON</th>\n",
       "      <th>HURT/GREVIOUS HURT</th>\n",
       "      <th>DOWRY DEATHS</th>\n",
       "      <th>ASSAULT ON WOMEN WITH INTENT TO OUTRAGE HER MODESTY</th>\n",
       "      <th>INSULT TO MODESTY OF WOMEN</th>\n",
       "      <th>CRUELTY BY HUSBAND OR HIS RELATIVES</th>\n",
       "      <th>IMPORTATION OF GIRLS FROM FOREIGN COUNTRIES</th>\n",
       "      <th>CAUSING DEATH BY NEGLIGENCE</th>\n",
       "      <th>OTHER IPC CRIMES</th>\n",
       "      <th>TOTAL IPC CRIMES</th>\n",
       "    </tr>\n",
       "  </thead>\n",
       "  <tbody>\n",
       "    <tr>\n",
       "      <th>0</th>\n",
       "      <td>ANDHRA PRADESH</td>\n",
       "      <td>ADILABAD</td>\n",
       "      <td>2001</td>\n",
       "      <td>101</td>\n",
       "      <td>60</td>\n",
       "      <td>17</td>\n",
       "      <td>50</td>\n",
       "      <td>0</td>\n",
       "      <td>50</td>\n",
       "      <td>46</td>\n",
       "      <td>...</td>\n",
       "      <td>30</td>\n",
       "      <td>1131</td>\n",
       "      <td>16</td>\n",
       "      <td>149</td>\n",
       "      <td>34</td>\n",
       "      <td>175</td>\n",
       "      <td>0</td>\n",
       "      <td>181</td>\n",
       "      <td>1518</td>\n",
       "      <td>4154</td>\n",
       "    </tr>\n",
       "    <tr>\n",
       "      <th>1</th>\n",
       "      <td>ANDHRA PRADESH</td>\n",
       "      <td>ANANTAPUR</td>\n",
       "      <td>2001</td>\n",
       "      <td>151</td>\n",
       "      <td>125</td>\n",
       "      <td>1</td>\n",
       "      <td>23</td>\n",
       "      <td>0</td>\n",
       "      <td>23</td>\n",
       "      <td>53</td>\n",
       "      <td>...</td>\n",
       "      <td>69</td>\n",
       "      <td>1543</td>\n",
       "      <td>7</td>\n",
       "      <td>118</td>\n",
       "      <td>24</td>\n",
       "      <td>154</td>\n",
       "      <td>0</td>\n",
       "      <td>270</td>\n",
       "      <td>754</td>\n",
       "      <td>4125</td>\n",
       "    </tr>\n",
       "    <tr>\n",
       "      <th>2</th>\n",
       "      <td>ANDHRA PRADESH</td>\n",
       "      <td>CHITTOOR</td>\n",
       "      <td>2001</td>\n",
       "      <td>101</td>\n",
       "      <td>57</td>\n",
       "      <td>2</td>\n",
       "      <td>27</td>\n",
       "      <td>0</td>\n",
       "      <td>27</td>\n",
       "      <td>59</td>\n",
       "      <td>...</td>\n",
       "      <td>38</td>\n",
       "      <td>2088</td>\n",
       "      <td>14</td>\n",
       "      <td>112</td>\n",
       "      <td>83</td>\n",
       "      <td>186</td>\n",
       "      <td>0</td>\n",
       "      <td>404</td>\n",
       "      <td>1262</td>\n",
       "      <td>5818</td>\n",
       "    </tr>\n",
       "    <tr>\n",
       "      <th>3</th>\n",
       "      <td>ANDHRA PRADESH</td>\n",
       "      <td>CUDDAPAH</td>\n",
       "      <td>2001</td>\n",
       "      <td>80</td>\n",
       "      <td>53</td>\n",
       "      <td>1</td>\n",
       "      <td>20</td>\n",
       "      <td>0</td>\n",
       "      <td>20</td>\n",
       "      <td>25</td>\n",
       "      <td>...</td>\n",
       "      <td>23</td>\n",
       "      <td>795</td>\n",
       "      <td>17</td>\n",
       "      <td>126</td>\n",
       "      <td>38</td>\n",
       "      <td>57</td>\n",
       "      <td>0</td>\n",
       "      <td>233</td>\n",
       "      <td>1181</td>\n",
       "      <td>3140</td>\n",
       "    </tr>\n",
       "    <tr>\n",
       "      <th>4</th>\n",
       "      <td>ANDHRA PRADESH</td>\n",
       "      <td>EAST GODAVARI</td>\n",
       "      <td>2001</td>\n",
       "      <td>82</td>\n",
       "      <td>67</td>\n",
       "      <td>1</td>\n",
       "      <td>23</td>\n",
       "      <td>0</td>\n",
       "      <td>23</td>\n",
       "      <td>49</td>\n",
       "      <td>...</td>\n",
       "      <td>41</td>\n",
       "      <td>1244</td>\n",
       "      <td>12</td>\n",
       "      <td>109</td>\n",
       "      <td>58</td>\n",
       "      <td>247</td>\n",
       "      <td>0</td>\n",
       "      <td>431</td>\n",
       "      <td>2313</td>\n",
       "      <td>6507</td>\n",
       "    </tr>\n",
       "    <tr>\n",
       "      <th>...</th>\n",
       "      <td>...</td>\n",
       "      <td>...</td>\n",
       "      <td>...</td>\n",
       "      <td>...</td>\n",
       "      <td>...</td>\n",
       "      <td>...</td>\n",
       "      <td>...</td>\n",
       "      <td>...</td>\n",
       "      <td>...</td>\n",
       "      <td>...</td>\n",
       "      <td>...</td>\n",
       "      <td>...</td>\n",
       "      <td>...</td>\n",
       "      <td>...</td>\n",
       "      <td>...</td>\n",
       "      <td>...</td>\n",
       "      <td>...</td>\n",
       "      <td>...</td>\n",
       "      <td>...</td>\n",
       "      <td>...</td>\n",
       "      <td>...</td>\n",
       "    </tr>\n",
       "    <tr>\n",
       "      <th>9010</th>\n",
       "      <td>DELHI UT</td>\n",
       "      <td>STF</td>\n",
       "      <td>2012</td>\n",
       "      <td>0</td>\n",
       "      <td>1</td>\n",
       "      <td>0</td>\n",
       "      <td>0</td>\n",
       "      <td>0</td>\n",
       "      <td>0</td>\n",
       "      <td>0</td>\n",
       "      <td>...</td>\n",
       "      <td>0</td>\n",
       "      <td>0</td>\n",
       "      <td>0</td>\n",
       "      <td>0</td>\n",
       "      <td>0</td>\n",
       "      <td>0</td>\n",
       "      <td>0</td>\n",
       "      <td>0</td>\n",
       "      <td>1</td>\n",
       "      <td>6</td>\n",
       "    </tr>\n",
       "    <tr>\n",
       "      <th>9011</th>\n",
       "      <td>DELHI UT</td>\n",
       "      <td>WEST</td>\n",
       "      <td>2012</td>\n",
       "      <td>52</td>\n",
       "      <td>37</td>\n",
       "      <td>10</td>\n",
       "      <td>79</td>\n",
       "      <td>0</td>\n",
       "      <td>79</td>\n",
       "      <td>454</td>\n",
       "      <td>...</td>\n",
       "      <td>18</td>\n",
       "      <td>227</td>\n",
       "      <td>18</td>\n",
       "      <td>53</td>\n",
       "      <td>6</td>\n",
       "      <td>327</td>\n",
       "      <td>0</td>\n",
       "      <td>292</td>\n",
       "      <td>1144</td>\n",
       "      <td>5558</td>\n",
       "    </tr>\n",
       "    <tr>\n",
       "      <th>9012</th>\n",
       "      <td>LAKSHADWEEP</td>\n",
       "      <td>LAKSHADWEEP</td>\n",
       "      <td>2012</td>\n",
       "      <td>0</td>\n",
       "      <td>0</td>\n",
       "      <td>0</td>\n",
       "      <td>0</td>\n",
       "      <td>0</td>\n",
       "      <td>0</td>\n",
       "      <td>0</td>\n",
       "      <td>...</td>\n",
       "      <td>3</td>\n",
       "      <td>3</td>\n",
       "      <td>0</td>\n",
       "      <td>1</td>\n",
       "      <td>0</td>\n",
       "      <td>1</td>\n",
       "      <td>0</td>\n",
       "      <td>0</td>\n",
       "      <td>32</td>\n",
       "      <td>60</td>\n",
       "    </tr>\n",
       "    <tr>\n",
       "      <th>9014</th>\n",
       "      <td>PUDUCHERRY</td>\n",
       "      <td>KARAIKAL</td>\n",
       "      <td>2012</td>\n",
       "      <td>5</td>\n",
       "      <td>6</td>\n",
       "      <td>2</td>\n",
       "      <td>6</td>\n",
       "      <td>0</td>\n",
       "      <td>6</td>\n",
       "      <td>2</td>\n",
       "      <td>...</td>\n",
       "      <td>1</td>\n",
       "      <td>186</td>\n",
       "      <td>0</td>\n",
       "      <td>2</td>\n",
       "      <td>0</td>\n",
       "      <td>1</td>\n",
       "      <td>0</td>\n",
       "      <td>44</td>\n",
       "      <td>392</td>\n",
       "      <td>787</td>\n",
       "    </tr>\n",
       "    <tr>\n",
       "      <th>9015</th>\n",
       "      <td>PUDUCHERRY</td>\n",
       "      <td>PUDUCHERRY</td>\n",
       "      <td>2012</td>\n",
       "      <td>24</td>\n",
       "      <td>21</td>\n",
       "      <td>10</td>\n",
       "      <td>7</td>\n",
       "      <td>0</td>\n",
       "      <td>7</td>\n",
       "      <td>17</td>\n",
       "      <td>...</td>\n",
       "      <td>20</td>\n",
       "      <td>632</td>\n",
       "      <td>0</td>\n",
       "      <td>7</td>\n",
       "      <td>2</td>\n",
       "      <td>5</td>\n",
       "      <td>0</td>\n",
       "      <td>219</td>\n",
       "      <td>1668</td>\n",
       "      <td>3494</td>\n",
       "    </tr>\n",
       "  </tbody>\n",
       "</table>\n",
       "<p>8597 rows × 33 columns</p>\n",
       "</div>"
      ],
      "text/plain": [
       "            STATE/UT       DISTRICT  YEAR  MURDER  ATTEMPT TO MURDER  \\\n",
       "0     ANDHRA PRADESH       ADILABAD  2001     101                 60   \n",
       "1     ANDHRA PRADESH      ANANTAPUR  2001     151                125   \n",
       "2     ANDHRA PRADESH       CHITTOOR  2001     101                 57   \n",
       "3     ANDHRA PRADESH       CUDDAPAH  2001      80                 53   \n",
       "4     ANDHRA PRADESH  EAST GODAVARI  2001      82                 67   \n",
       "...              ...            ...   ...     ...                ...   \n",
       "9010        DELHI UT            STF  2012       0                  1   \n",
       "9011        DELHI UT           WEST  2012      52                 37   \n",
       "9012     LAKSHADWEEP    LAKSHADWEEP  2012       0                  0   \n",
       "9014      PUDUCHERRY       KARAIKAL  2012       5                  6   \n",
       "9015      PUDUCHERRY     PUDUCHERRY  2012      24                 21   \n",
       "\n",
       "      CULPABLE HOMICIDE NOT AMOUNTING TO MURDER  RAPE  CUSTODIAL RAPE  \\\n",
       "0                                            17    50               0   \n",
       "1                                             1    23               0   \n",
       "2                                             2    27               0   \n",
       "3                                             1    20               0   \n",
       "4                                             1    23               0   \n",
       "...                                         ...   ...             ...   \n",
       "9010                                          0     0               0   \n",
       "9011                                         10    79               0   \n",
       "9012                                          0     0               0   \n",
       "9014                                          2     6               0   \n",
       "9015                                         10     7               0   \n",
       "\n",
       "      OTHER RAPE  KIDNAPPING & ABDUCTION  ...  ARSON  HURT/GREVIOUS HURT  \\\n",
       "0             50                      46  ...     30                1131   \n",
       "1             23                      53  ...     69                1543   \n",
       "2             27                      59  ...     38                2088   \n",
       "3             20                      25  ...     23                 795   \n",
       "4             23                      49  ...     41                1244   \n",
       "...          ...                     ...  ...    ...                 ...   \n",
       "9010           0                       0  ...      0                   0   \n",
       "9011          79                     454  ...     18                 227   \n",
       "9012           0                       0  ...      3                   3   \n",
       "9014           6                       2  ...      1                 186   \n",
       "9015           7                      17  ...     20                 632   \n",
       "\n",
       "      DOWRY DEATHS  ASSAULT ON WOMEN WITH INTENT TO OUTRAGE HER MODESTY  \\\n",
       "0               16                                                149     \n",
       "1                7                                                118     \n",
       "2               14                                                112     \n",
       "3               17                                                126     \n",
       "4               12                                                109     \n",
       "...            ...                                                ...     \n",
       "9010             0                                                  0     \n",
       "9011            18                                                 53     \n",
       "9012             0                                                  1     \n",
       "9014             0                                                  2     \n",
       "9015             0                                                  7     \n",
       "\n",
       "      INSULT TO MODESTY OF WOMEN  CRUELTY BY HUSBAND OR HIS RELATIVES  \\\n",
       "0                             34                                  175   \n",
       "1                             24                                  154   \n",
       "2                             83                                  186   \n",
       "3                             38                                   57   \n",
       "4                             58                                  247   \n",
       "...                          ...                                  ...   \n",
       "9010                           0                                    0   \n",
       "9011                           6                                  327   \n",
       "9012                           0                                    1   \n",
       "9014                           0                                    1   \n",
       "9015                           2                                    5   \n",
       "\n",
       "      IMPORTATION OF GIRLS FROM FOREIGN COUNTRIES  \\\n",
       "0                                               0   \n",
       "1                                               0   \n",
       "2                                               0   \n",
       "3                                               0   \n",
       "4                                               0   \n",
       "...                                           ...   \n",
       "9010                                            0   \n",
       "9011                                            0   \n",
       "9012                                            0   \n",
       "9014                                            0   \n",
       "9015                                            0   \n",
       "\n",
       "      CAUSING DEATH BY NEGLIGENCE  OTHER IPC CRIMES  TOTAL IPC CRIMES  \n",
       "0                             181              1518              4154  \n",
       "1                             270               754              4125  \n",
       "2                             404              1262              5818  \n",
       "3                             233              1181              3140  \n",
       "4                             431              2313              6507  \n",
       "...                           ...               ...               ...  \n",
       "9010                            0                 1                 6  \n",
       "9011                          292              1144              5558  \n",
       "9012                            0                32                60  \n",
       "9014                           44               392               787  \n",
       "9015                          219              1668              3494  \n",
       "\n",
       "[8597 rows x 33 columns]"
      ]
     },
     "execution_count": 5,
     "metadata": {},
     "output_type": "execute_result"
    }
   ],
   "source": [
    "# Remove rows where 'DISTRICT' column has the value 'TOTAL'\n",
    "df1 = df[(df['DISTRICT'] != 'TOTAL') & (df['DISTRICT'] != 'DELHI UT TOTAL')]\n",
    "df1"
   ]
  },
  {
   "cell_type": "markdown",
   "id": "8248b599",
   "metadata": {},
   "source": [
    "now in the 'district' column,there are no total and delhi ut total rows present."
   ]
  },
  {
   "cell_type": "code",
   "execution_count": 6,
   "id": "ac34363b",
   "metadata": {},
   "outputs": [],
   "source": [
    "# except 'total' values from District column\n",
    "df1.to_csv('C:\\\\Users\\\\SNEHAL\\\\Downloads\\\\Capstone-Project-File\\\\Districtwise_crimes.csv',index=False)"
   ]
  },
  {
   "cell_type": "markdown",
   "id": "300c59ae",
   "metadata": {},
   "source": [
    "Data of df1 sorted after above change.And below is the final file for further analysis.('Districtwise_crimes')"
   ]
  },
  {
   "cell_type": "code",
   "execution_count": 7,
   "id": "a9defa68",
   "metadata": {},
   "outputs": [
    {
     "data": {
      "text/html": [
       "<div>\n",
       "<style scoped>\n",
       "    .dataframe tbody tr th:only-of-type {\n",
       "        vertical-align: middle;\n",
       "    }\n",
       "\n",
       "    .dataframe tbody tr th {\n",
       "        vertical-align: top;\n",
       "    }\n",
       "\n",
       "    .dataframe thead th {\n",
       "        text-align: right;\n",
       "    }\n",
       "</style>\n",
       "<table border=\"1\" class=\"dataframe\">\n",
       "  <thead>\n",
       "    <tr style=\"text-align: right;\">\n",
       "      <th></th>\n",
       "      <th>STATE/UT</th>\n",
       "      <th>DISTRICT</th>\n",
       "      <th>YEAR</th>\n",
       "      <th>MURDER</th>\n",
       "      <th>ATTEMPT TO MURDER</th>\n",
       "      <th>CULPABLE HOMICIDE NOT AMOUNTING TO MURDER</th>\n",
       "      <th>RAPE</th>\n",
       "      <th>CUSTODIAL RAPE</th>\n",
       "      <th>OTHER RAPE</th>\n",
       "      <th>KIDNAPPING &amp; ABDUCTION</th>\n",
       "      <th>...</th>\n",
       "      <th>ARSON</th>\n",
       "      <th>HURT/GREVIOUS HURT</th>\n",
       "      <th>DOWRY DEATHS</th>\n",
       "      <th>ASSAULT ON WOMEN WITH INTENT TO OUTRAGE HER MODESTY</th>\n",
       "      <th>INSULT TO MODESTY OF WOMEN</th>\n",
       "      <th>CRUELTY BY HUSBAND OR HIS RELATIVES</th>\n",
       "      <th>IMPORTATION OF GIRLS FROM FOREIGN COUNTRIES</th>\n",
       "      <th>CAUSING DEATH BY NEGLIGENCE</th>\n",
       "      <th>OTHER IPC CRIMES</th>\n",
       "      <th>TOTAL IPC CRIMES</th>\n",
       "    </tr>\n",
       "  </thead>\n",
       "  <tbody>\n",
       "    <tr>\n",
       "      <th>0</th>\n",
       "      <td>DELHI UT</td>\n",
       "      <td>S.T.F.</td>\n",
       "      <td>2001</td>\n",
       "      <td>0</td>\n",
       "      <td>0</td>\n",
       "      <td>0</td>\n",
       "      <td>0</td>\n",
       "      <td>0</td>\n",
       "      <td>0</td>\n",
       "      <td>0</td>\n",
       "      <td>...</td>\n",
       "      <td>0</td>\n",
       "      <td>0</td>\n",
       "      <td>0</td>\n",
       "      <td>0</td>\n",
       "      <td>0</td>\n",
       "      <td>0</td>\n",
       "      <td>0</td>\n",
       "      <td>0</td>\n",
       "      <td>0</td>\n",
       "      <td>0</td>\n",
       "    </tr>\n",
       "    <tr>\n",
       "      <th>1</th>\n",
       "      <td>DELHI UT</td>\n",
       "      <td>S.T.F.</td>\n",
       "      <td>2002</td>\n",
       "      <td>0</td>\n",
       "      <td>0</td>\n",
       "      <td>0</td>\n",
       "      <td>0</td>\n",
       "      <td>0</td>\n",
       "      <td>0</td>\n",
       "      <td>0</td>\n",
       "      <td>...</td>\n",
       "      <td>0</td>\n",
       "      <td>0</td>\n",
       "      <td>0</td>\n",
       "      <td>0</td>\n",
       "      <td>0</td>\n",
       "      <td>0</td>\n",
       "      <td>0</td>\n",
       "      <td>0</td>\n",
       "      <td>0</td>\n",
       "      <td>0</td>\n",
       "    </tr>\n",
       "    <tr>\n",
       "      <th>2</th>\n",
       "      <td>HIMACHAL PRADESH</td>\n",
       "      <td>G.R.P.</td>\n",
       "      <td>2003</td>\n",
       "      <td>0</td>\n",
       "      <td>0</td>\n",
       "      <td>0</td>\n",
       "      <td>0</td>\n",
       "      <td>0</td>\n",
       "      <td>0</td>\n",
       "      <td>0</td>\n",
       "      <td>...</td>\n",
       "      <td>0</td>\n",
       "      <td>0</td>\n",
       "      <td>0</td>\n",
       "      <td>0</td>\n",
       "      <td>0</td>\n",
       "      <td>0</td>\n",
       "      <td>0</td>\n",
       "      <td>0</td>\n",
       "      <td>1</td>\n",
       "      <td>1</td>\n",
       "    </tr>\n",
       "    <tr>\n",
       "      <th>3</th>\n",
       "      <td>MANIPUR</td>\n",
       "      <td>CID</td>\n",
       "      <td>2009</td>\n",
       "      <td>0</td>\n",
       "      <td>0</td>\n",
       "      <td>0</td>\n",
       "      <td>0</td>\n",
       "      <td>0</td>\n",
       "      <td>0</td>\n",
       "      <td>0</td>\n",
       "      <td>...</td>\n",
       "      <td>0</td>\n",
       "      <td>0</td>\n",
       "      <td>0</td>\n",
       "      <td>0</td>\n",
       "      <td>0</td>\n",
       "      <td>0</td>\n",
       "      <td>0</td>\n",
       "      <td>0</td>\n",
       "      <td>0</td>\n",
       "      <td>1</td>\n",
       "    </tr>\n",
       "    <tr>\n",
       "      <th>4</th>\n",
       "      <td>MANIPUR</td>\n",
       "      <td>CID</td>\n",
       "      <td>2008</td>\n",
       "      <td>0</td>\n",
       "      <td>0</td>\n",
       "      <td>0</td>\n",
       "      <td>0</td>\n",
       "      <td>0</td>\n",
       "      <td>0</td>\n",
       "      <td>0</td>\n",
       "      <td>...</td>\n",
       "      <td>0</td>\n",
       "      <td>0</td>\n",
       "      <td>0</td>\n",
       "      <td>0</td>\n",
       "      <td>0</td>\n",
       "      <td>0</td>\n",
       "      <td>0</td>\n",
       "      <td>0</td>\n",
       "      <td>0</td>\n",
       "      <td>2</td>\n",
       "    </tr>\n",
       "    <tr>\n",
       "      <th>...</th>\n",
       "      <td>...</td>\n",
       "      <td>...</td>\n",
       "      <td>...</td>\n",
       "      <td>...</td>\n",
       "      <td>...</td>\n",
       "      <td>...</td>\n",
       "      <td>...</td>\n",
       "      <td>...</td>\n",
       "      <td>...</td>\n",
       "      <td>...</td>\n",
       "      <td>...</td>\n",
       "      <td>...</td>\n",
       "      <td>...</td>\n",
       "      <td>...</td>\n",
       "      <td>...</td>\n",
       "      <td>...</td>\n",
       "      <td>...</td>\n",
       "      <td>...</td>\n",
       "      <td>...</td>\n",
       "      <td>...</td>\n",
       "      <td>...</td>\n",
       "    </tr>\n",
       "    <tr>\n",
       "      <th>8592</th>\n",
       "      <td>KARNATAKA</td>\n",
       "      <td>BANGALORE COMMR.</td>\n",
       "      <td>2009</td>\n",
       "      <td>256</td>\n",
       "      <td>338</td>\n",
       "      <td>1</td>\n",
       "      <td>65</td>\n",
       "      <td>0</td>\n",
       "      <td>65</td>\n",
       "      <td>270</td>\n",
       "      <td>...</td>\n",
       "      <td>8</td>\n",
       "      <td>2653</td>\n",
       "      <td>50</td>\n",
       "      <td>251</td>\n",
       "      <td>35</td>\n",
       "      <td>367</td>\n",
       "      <td>0</td>\n",
       "      <td>87</td>\n",
       "      <td>9992</td>\n",
       "      <td>32380</td>\n",
       "    </tr>\n",
       "    <tr>\n",
       "      <th>8593</th>\n",
       "      <td>MAHARASHTRA</td>\n",
       "      <td>MUMBAI COMMR.</td>\n",
       "      <td>2011</td>\n",
       "      <td>203</td>\n",
       "      <td>180</td>\n",
       "      <td>4</td>\n",
       "      <td>221</td>\n",
       "      <td>0</td>\n",
       "      <td>221</td>\n",
       "      <td>221</td>\n",
       "      <td>...</td>\n",
       "      <td>46</td>\n",
       "      <td>4302</td>\n",
       "      <td>14</td>\n",
       "      <td>553</td>\n",
       "      <td>162</td>\n",
       "      <td>393</td>\n",
       "      <td>0</td>\n",
       "      <td>656</td>\n",
       "      <td>6464</td>\n",
       "      <td>32647</td>\n",
       "    </tr>\n",
       "    <tr>\n",
       "      <th>8594</th>\n",
       "      <td>MAHARASHTRA</td>\n",
       "      <td>MUMBAI COMMR.</td>\n",
       "      <td>2008</td>\n",
       "      <td>210</td>\n",
       "      <td>132</td>\n",
       "      <td>0</td>\n",
       "      <td>218</td>\n",
       "      <td>0</td>\n",
       "      <td>218</td>\n",
       "      <td>189</td>\n",
       "      <td>...</td>\n",
       "      <td>22</td>\n",
       "      <td>4155</td>\n",
       "      <td>11</td>\n",
       "      <td>436</td>\n",
       "      <td>121</td>\n",
       "      <td>502</td>\n",
       "      <td>0</td>\n",
       "      <td>709</td>\n",
       "      <td>6850</td>\n",
       "      <td>32770</td>\n",
       "    </tr>\n",
       "    <tr>\n",
       "      <th>8595</th>\n",
       "      <td>MAHARASHTRA</td>\n",
       "      <td>MUMBAI COMMR.</td>\n",
       "      <td>2010</td>\n",
       "      <td>228</td>\n",
       "      <td>170</td>\n",
       "      <td>7</td>\n",
       "      <td>194</td>\n",
       "      <td>0</td>\n",
       "      <td>194</td>\n",
       "      <td>194</td>\n",
       "      <td>...</td>\n",
       "      <td>22</td>\n",
       "      <td>4487</td>\n",
       "      <td>21</td>\n",
       "      <td>475</td>\n",
       "      <td>138</td>\n",
       "      <td>312</td>\n",
       "      <td>0</td>\n",
       "      <td>690</td>\n",
       "      <td>7093</td>\n",
       "      <td>33932</td>\n",
       "    </tr>\n",
       "    <tr>\n",
       "      <th>8596</th>\n",
       "      <td>KERALA</td>\n",
       "      <td>ERNAKULAM RURAL</td>\n",
       "      <td>2011</td>\n",
       "      <td>15</td>\n",
       "      <td>14</td>\n",
       "      <td>0</td>\n",
       "      <td>30</td>\n",
       "      <td>0</td>\n",
       "      <td>30</td>\n",
       "      <td>12</td>\n",
       "      <td>...</td>\n",
       "      <td>5</td>\n",
       "      <td>376</td>\n",
       "      <td>0</td>\n",
       "      <td>105</td>\n",
       "      <td>32</td>\n",
       "      <td>136</td>\n",
       "      <td>0</td>\n",
       "      <td>2</td>\n",
       "      <td>32452</td>\n",
       "      <td>34638</td>\n",
       "    </tr>\n",
       "  </tbody>\n",
       "</table>\n",
       "<p>8597 rows × 33 columns</p>\n",
       "</div>"
      ],
      "text/plain": [
       "              STATE/UT          DISTRICT  YEAR  MURDER  ATTEMPT TO MURDER  \\\n",
       "0             DELHI UT            S.T.F.  2001       0                  0   \n",
       "1             DELHI UT            S.T.F.  2002       0                  0   \n",
       "2     HIMACHAL PRADESH            G.R.P.  2003       0                  0   \n",
       "3              MANIPUR               CID  2009       0                  0   \n",
       "4              MANIPUR               CID  2008       0                  0   \n",
       "...                ...               ...   ...     ...                ...   \n",
       "8592         KARNATAKA  BANGALORE COMMR.  2009     256                338   \n",
       "8593       MAHARASHTRA     MUMBAI COMMR.  2011     203                180   \n",
       "8594       MAHARASHTRA     MUMBAI COMMR.  2008     210                132   \n",
       "8595       MAHARASHTRA     MUMBAI COMMR.  2010     228                170   \n",
       "8596            KERALA   ERNAKULAM RURAL  2011      15                 14   \n",
       "\n",
       "      CULPABLE HOMICIDE NOT AMOUNTING TO MURDER  RAPE  CUSTODIAL RAPE  \\\n",
       "0                                             0     0               0   \n",
       "1                                             0     0               0   \n",
       "2                                             0     0               0   \n",
       "3                                             0     0               0   \n",
       "4                                             0     0               0   \n",
       "...                                         ...   ...             ...   \n",
       "8592                                          1    65               0   \n",
       "8593                                          4   221               0   \n",
       "8594                                          0   218               0   \n",
       "8595                                          7   194               0   \n",
       "8596                                          0    30               0   \n",
       "\n",
       "      OTHER RAPE  KIDNAPPING & ABDUCTION  ...  ARSON  HURT/GREVIOUS HURT  \\\n",
       "0              0                       0  ...      0                   0   \n",
       "1              0                       0  ...      0                   0   \n",
       "2              0                       0  ...      0                   0   \n",
       "3              0                       0  ...      0                   0   \n",
       "4              0                       0  ...      0                   0   \n",
       "...          ...                     ...  ...    ...                 ...   \n",
       "8592          65                     270  ...      8                2653   \n",
       "8593         221                     221  ...     46                4302   \n",
       "8594         218                     189  ...     22                4155   \n",
       "8595         194                     194  ...     22                4487   \n",
       "8596          30                      12  ...      5                 376   \n",
       "\n",
       "      DOWRY DEATHS  ASSAULT ON WOMEN WITH INTENT TO OUTRAGE HER MODESTY  \\\n",
       "0                0                                                  0     \n",
       "1                0                                                  0     \n",
       "2                0                                                  0     \n",
       "3                0                                                  0     \n",
       "4                0                                                  0     \n",
       "...            ...                                                ...     \n",
       "8592            50                                                251     \n",
       "8593            14                                                553     \n",
       "8594            11                                                436     \n",
       "8595            21                                                475     \n",
       "8596             0                                                105     \n",
       "\n",
       "      INSULT TO MODESTY OF WOMEN  CRUELTY BY HUSBAND OR HIS RELATIVES  \\\n",
       "0                              0                                    0   \n",
       "1                              0                                    0   \n",
       "2                              0                                    0   \n",
       "3                              0                                    0   \n",
       "4                              0                                    0   \n",
       "...                          ...                                  ...   \n",
       "8592                          35                                  367   \n",
       "8593                         162                                  393   \n",
       "8594                         121                                  502   \n",
       "8595                         138                                  312   \n",
       "8596                          32                                  136   \n",
       "\n",
       "      IMPORTATION OF GIRLS FROM FOREIGN COUNTRIES  \\\n",
       "0                                               0   \n",
       "1                                               0   \n",
       "2                                               0   \n",
       "3                                               0   \n",
       "4                                               0   \n",
       "...                                           ...   \n",
       "8592                                            0   \n",
       "8593                                            0   \n",
       "8594                                            0   \n",
       "8595                                            0   \n",
       "8596                                            0   \n",
       "\n",
       "      CAUSING DEATH BY NEGLIGENCE  OTHER IPC CRIMES  TOTAL IPC CRIMES  \n",
       "0                               0                 0                 0  \n",
       "1                               0                 0                 0  \n",
       "2                               0                 1                 1  \n",
       "3                               0                 0                 1  \n",
       "4                               0                 0                 2  \n",
       "...                           ...               ...               ...  \n",
       "8592                           87              9992             32380  \n",
       "8593                          656              6464             32647  \n",
       "8594                          709              6850             32770  \n",
       "8595                          690              7093             33932  \n",
       "8596                            2             32452             34638  \n",
       "\n",
       "[8597 rows x 33 columns]"
      ]
     },
     "execution_count": 7,
     "metadata": {},
     "output_type": "execute_result"
    }
   ],
   "source": [
    "data = pd.read_csv('C:\\\\Users\\\\SNEHAL\\\\Downloads\\\\Capstone-Project-File\\\\Districtwise_crimes.csv')\n",
    "data"
   ]
  },
  {
   "cell_type": "markdown",
   "id": "c387d522",
   "metadata": {},
   "source": [
    "we take all crime heads columns data with total ipc crimes.\n",
    "now make cluster with same data."
   ]
  },
  {
   "cell_type": "code",
   "execution_count": 8,
   "id": "062b9800",
   "metadata": {},
   "outputs": [
    {
     "data": {
      "text/plain": [
       "STATE/UT                                               object\n",
       "DISTRICT                                               object\n",
       "YEAR                                                    int64\n",
       "MURDER                                                  int64\n",
       "ATTEMPT TO MURDER                                       int64\n",
       "CULPABLE HOMICIDE NOT AMOUNTING TO MURDER               int64\n",
       "RAPE                                                    int64\n",
       "CUSTODIAL RAPE                                          int64\n",
       "OTHER RAPE                                              int64\n",
       "KIDNAPPING & ABDUCTION                                  int64\n",
       "KIDNAPPING AND ABDUCTION OF WOMEN AND GIRLS             int64\n",
       "KIDNAPPING AND ABDUCTION OF OTHERS                      int64\n",
       "DACOITY                                                 int64\n",
       "PREPARATION AND ASSEMBLY FOR DACOITY                    int64\n",
       "ROBBERY                                                 int64\n",
       "BURGLARY                                                int64\n",
       "THEFT                                                   int64\n",
       "AUTO THEFT                                              int64\n",
       "OTHER THEFT                                             int64\n",
       "RIOTS                                                   int64\n",
       "CRIMINAL BREACH OF TRUST                                int64\n",
       "CHEATING                                                int64\n",
       "COUNTERFIETING                                          int64\n",
       "ARSON                                                   int64\n",
       "HURT/GREVIOUS HURT                                      int64\n",
       "DOWRY DEATHS                                            int64\n",
       "ASSAULT ON WOMEN WITH INTENT TO OUTRAGE HER MODESTY     int64\n",
       "INSULT TO MODESTY OF WOMEN                              int64\n",
       "CRUELTY BY HUSBAND OR HIS RELATIVES                     int64\n",
       "IMPORTATION OF GIRLS FROM FOREIGN COUNTRIES             int64\n",
       "CAUSING DEATH BY NEGLIGENCE                             int64\n",
       "OTHER IPC CRIMES                                        int64\n",
       "TOTAL IPC CRIMES                                        int64\n",
       "dtype: object"
      ]
     },
     "execution_count": 8,
     "metadata": {},
     "output_type": "execute_result"
    }
   ],
   "source": [
    "data.dtypes"
   ]
  },
  {
   "cell_type": "code",
   "execution_count": 9,
   "id": "e5d54331",
   "metadata": {},
   "outputs": [
    {
     "data": {
      "text/plain": [
       "(8597, 33)"
      ]
     },
     "execution_count": 9,
     "metadata": {},
     "output_type": "execute_result"
    }
   ],
   "source": [
    "data.shape"
   ]
  },
  {
   "cell_type": "code",
   "execution_count": 10,
   "id": "6278d695",
   "metadata": {},
   "outputs": [
    {
     "data": {
      "text/plain": [
       "Index(['STATE/UT', 'DISTRICT', 'YEAR', 'MURDER', 'ATTEMPT TO MURDER',\n",
       "       'CULPABLE HOMICIDE NOT AMOUNTING TO MURDER', 'RAPE', 'CUSTODIAL RAPE',\n",
       "       'OTHER RAPE', 'KIDNAPPING & ABDUCTION',\n",
       "       'KIDNAPPING AND ABDUCTION OF WOMEN AND GIRLS',\n",
       "       'KIDNAPPING AND ABDUCTION OF OTHERS', 'DACOITY',\n",
       "       'PREPARATION AND ASSEMBLY FOR DACOITY', 'ROBBERY', 'BURGLARY', 'THEFT',\n",
       "       'AUTO THEFT', 'OTHER THEFT', 'RIOTS', 'CRIMINAL BREACH OF TRUST',\n",
       "       'CHEATING', 'COUNTERFIETING', 'ARSON', 'HURT/GREVIOUS HURT',\n",
       "       'DOWRY DEATHS', 'ASSAULT ON WOMEN WITH INTENT TO OUTRAGE HER MODESTY',\n",
       "       'INSULT TO MODESTY OF WOMEN', 'CRUELTY BY HUSBAND OR HIS RELATIVES',\n",
       "       'IMPORTATION OF GIRLS FROM FOREIGN COUNTRIES',\n",
       "       'CAUSING DEATH BY NEGLIGENCE', 'OTHER IPC CRIMES', 'TOTAL IPC CRIMES'],\n",
       "      dtype='object')"
      ]
     },
     "execution_count": 10,
     "metadata": {},
     "output_type": "execute_result"
    }
   ],
   "source": [
    "data.columns"
   ]
  },
  {
   "cell_type": "code",
   "execution_count": 11,
   "id": "b47837a8",
   "metadata": {
    "scrolled": true
   },
   "outputs": [
    {
     "name": "stdout",
     "output_type": "stream",
     "text": [
      "<class 'pandas.core.frame.DataFrame'>\n",
      "RangeIndex: 8597 entries, 0 to 8596\n",
      "Data columns (total 33 columns):\n",
      " #   Column                                               Non-Null Count  Dtype \n",
      "---  ------                                               --------------  ----- \n",
      " 0   STATE/UT                                             8597 non-null   object\n",
      " 1   DISTRICT                                             8597 non-null   object\n",
      " 2   YEAR                                                 8597 non-null   int64 \n",
      " 3   MURDER                                               8597 non-null   int64 \n",
      " 4   ATTEMPT TO MURDER                                    8597 non-null   int64 \n",
      " 5   CULPABLE HOMICIDE NOT AMOUNTING TO MURDER            8597 non-null   int64 \n",
      " 6   RAPE                                                 8597 non-null   int64 \n",
      " 7   CUSTODIAL RAPE                                       8597 non-null   int64 \n",
      " 8   OTHER RAPE                                           8597 non-null   int64 \n",
      " 9   KIDNAPPING & ABDUCTION                               8597 non-null   int64 \n",
      " 10  KIDNAPPING AND ABDUCTION OF WOMEN AND GIRLS          8597 non-null   int64 \n",
      " 11  KIDNAPPING AND ABDUCTION OF OTHERS                   8597 non-null   int64 \n",
      " 12  DACOITY                                              8597 non-null   int64 \n",
      " 13  PREPARATION AND ASSEMBLY FOR DACOITY                 8597 non-null   int64 \n",
      " 14  ROBBERY                                              8597 non-null   int64 \n",
      " 15  BURGLARY                                             8597 non-null   int64 \n",
      " 16  THEFT                                                8597 non-null   int64 \n",
      " 17  AUTO THEFT                                           8597 non-null   int64 \n",
      " 18  OTHER THEFT                                          8597 non-null   int64 \n",
      " 19  RIOTS                                                8597 non-null   int64 \n",
      " 20  CRIMINAL BREACH OF TRUST                             8597 non-null   int64 \n",
      " 21  CHEATING                                             8597 non-null   int64 \n",
      " 22  COUNTERFIETING                                       8597 non-null   int64 \n",
      " 23  ARSON                                                8597 non-null   int64 \n",
      " 24  HURT/GREVIOUS HURT                                   8597 non-null   int64 \n",
      " 25  DOWRY DEATHS                                         8597 non-null   int64 \n",
      " 26  ASSAULT ON WOMEN WITH INTENT TO OUTRAGE HER MODESTY  8597 non-null   int64 \n",
      " 27  INSULT TO MODESTY OF WOMEN                           8597 non-null   int64 \n",
      " 28  CRUELTY BY HUSBAND OR HIS RELATIVES                  8597 non-null   int64 \n",
      " 29  IMPORTATION OF GIRLS FROM FOREIGN COUNTRIES          8597 non-null   int64 \n",
      " 30  CAUSING DEATH BY NEGLIGENCE                          8597 non-null   int64 \n",
      " 31  OTHER IPC CRIMES                                     8597 non-null   int64 \n",
      " 32  TOTAL IPC CRIMES                                     8597 non-null   int64 \n",
      "dtypes: int64(31), object(2)\n",
      "memory usage: 2.2+ MB\n"
     ]
    }
   ],
   "source": [
    "data.info()"
   ]
  },
  {
   "cell_type": "code",
   "execution_count": 12,
   "id": "20dff46e",
   "metadata": {},
   "outputs": [
    {
     "data": {
      "text/plain": [
       "STATE/UT                                               0\n",
       "DISTRICT                                               0\n",
       "YEAR                                                   0\n",
       "MURDER                                                 0\n",
       "ATTEMPT TO MURDER                                      0\n",
       "CULPABLE HOMICIDE NOT AMOUNTING TO MURDER              0\n",
       "RAPE                                                   0\n",
       "CUSTODIAL RAPE                                         0\n",
       "OTHER RAPE                                             0\n",
       "KIDNAPPING & ABDUCTION                                 0\n",
       "KIDNAPPING AND ABDUCTION OF WOMEN AND GIRLS            0\n",
       "KIDNAPPING AND ABDUCTION OF OTHERS                     0\n",
       "DACOITY                                                0\n",
       "PREPARATION AND ASSEMBLY FOR DACOITY                   0\n",
       "ROBBERY                                                0\n",
       "BURGLARY                                               0\n",
       "THEFT                                                  0\n",
       "AUTO THEFT                                             0\n",
       "OTHER THEFT                                            0\n",
       "RIOTS                                                  0\n",
       "CRIMINAL BREACH OF TRUST                               0\n",
       "CHEATING                                               0\n",
       "COUNTERFIETING                                         0\n",
       "ARSON                                                  0\n",
       "HURT/GREVIOUS HURT                                     0\n",
       "DOWRY DEATHS                                           0\n",
       "ASSAULT ON WOMEN WITH INTENT TO OUTRAGE HER MODESTY    0\n",
       "INSULT TO MODESTY OF WOMEN                             0\n",
       "CRUELTY BY HUSBAND OR HIS RELATIVES                    0\n",
       "IMPORTATION OF GIRLS FROM FOREIGN COUNTRIES            0\n",
       "CAUSING DEATH BY NEGLIGENCE                            0\n",
       "OTHER IPC CRIMES                                       0\n",
       "TOTAL IPC CRIMES                                       0\n",
       "dtype: int64"
      ]
     },
     "execution_count": 12,
     "metadata": {},
     "output_type": "execute_result"
    }
   ],
   "source": [
    "data.isnull().sum()"
   ]
  },
  {
   "cell_type": "code",
   "execution_count": 13,
   "id": "42741a25",
   "metadata": {},
   "outputs": [],
   "source": [
    "from sklearn.preprocessing import LabelEncoder"
   ]
  },
  {
   "cell_type": "code",
   "execution_count": 14,
   "id": "d0632e16",
   "metadata": {},
   "outputs": [],
   "source": [
    "lab = LabelEncoder()\n",
    "data['DISTRICT'] = lab.fit_transform(data['DISTRICT'])"
   ]
  },
  {
   "cell_type": "code",
   "execution_count": 15,
   "id": "007be485",
   "metadata": {},
   "outputs": [
    {
     "data": {
      "text/html": [
       "<div>\n",
       "<style scoped>\n",
       "    .dataframe tbody tr th:only-of-type {\n",
       "        vertical-align: middle;\n",
       "    }\n",
       "\n",
       "    .dataframe tbody tr th {\n",
       "        vertical-align: top;\n",
       "    }\n",
       "\n",
       "    .dataframe thead th {\n",
       "        text-align: right;\n",
       "    }\n",
       "</style>\n",
       "<table border=\"1\" class=\"dataframe\">\n",
       "  <thead>\n",
       "    <tr style=\"text-align: right;\">\n",
       "      <th></th>\n",
       "      <th>DISTRICT</th>\n",
       "      <th>TOTAL IPC CRIMES</th>\n",
       "    </tr>\n",
       "  </thead>\n",
       "  <tbody>\n",
       "    <tr>\n",
       "      <th>0</th>\n",
       "      <td>638</td>\n",
       "      <td>0</td>\n",
       "    </tr>\n",
       "    <tr>\n",
       "      <th>1</th>\n",
       "      <td>638</td>\n",
       "      <td>0</td>\n",
       "    </tr>\n",
       "    <tr>\n",
       "      <th>2</th>\n",
       "      <td>239</td>\n",
       "      <td>1</td>\n",
       "    </tr>\n",
       "    <tr>\n",
       "      <th>3</th>\n",
       "      <td>158</td>\n",
       "      <td>1</td>\n",
       "    </tr>\n",
       "    <tr>\n",
       "      <th>4</th>\n",
       "      <td>158</td>\n",
       "      <td>2</td>\n",
       "    </tr>\n",
       "    <tr>\n",
       "      <th>...</th>\n",
       "      <td>...</td>\n",
       "      <td>...</td>\n",
       "    </tr>\n",
       "    <tr>\n",
       "      <th>8592</th>\n",
       "      <td>61</td>\n",
       "      <td>32380</td>\n",
       "    </tr>\n",
       "    <tr>\n",
       "      <th>8593</th>\n",
       "      <td>504</td>\n",
       "      <td>32647</td>\n",
       "    </tr>\n",
       "    <tr>\n",
       "      <th>8594</th>\n",
       "      <td>504</td>\n",
       "      <td>32770</td>\n",
       "    </tr>\n",
       "    <tr>\n",
       "      <th>8595</th>\n",
       "      <td>504</td>\n",
       "      <td>33932</td>\n",
       "    </tr>\n",
       "    <tr>\n",
       "      <th>8596</th>\n",
       "      <td>223</td>\n",
       "      <td>34638</td>\n",
       "    </tr>\n",
       "  </tbody>\n",
       "</table>\n",
       "<p>8597 rows × 2 columns</p>\n",
       "</div>"
      ],
      "text/plain": [
       "      DISTRICT  TOTAL IPC CRIMES\n",
       "0          638                 0\n",
       "1          638                 0\n",
       "2          239                 1\n",
       "3          158                 1\n",
       "4          158                 2\n",
       "...        ...               ...\n",
       "8592        61             32380\n",
       "8593       504             32647\n",
       "8594       504             32770\n",
       "8595       504             33932\n",
       "8596       223             34638\n",
       "\n",
       "[8597 rows x 2 columns]"
      ]
     },
     "execution_count": 15,
     "metadata": {},
     "output_type": "execute_result"
    }
   ],
   "source": [
    "x = data[['DISTRICT','TOTAL IPC CRIMES']]\n",
    "x"
   ]
  },
  {
   "cell_type": "code",
   "execution_count": 16,
   "id": "b3464f7c",
   "metadata": {},
   "outputs": [],
   "source": [
    "from sklearn.cluster import KMeans\n"
   ]
  },
  {
   "cell_type": "code",
   "execution_count": 17,
   "id": "75057bf8",
   "metadata": {},
   "outputs": [
    {
     "data": {
      "text/plain": [
       "KMeans(n_clusters=3, random_state=42)"
      ]
     },
     "execution_count": 17,
     "metadata": {},
     "output_type": "execute_result"
    }
   ],
   "source": [
    "num = 3\n",
    "# crete kmeans instance\n",
    "kmean = KMeans(n_clusters=num,init='k-means++',random_state=42)\n",
    "kmean.fit(x)\n"
   ]
  },
  {
   "cell_type": "code",
   "execution_count": 18,
   "id": "48dd69c1",
   "metadata": {},
   "outputs": [
    {
     "data": {
      "text/plain": [
       "array([0, 0, 0, ..., 2, 2, 2])"
      ]
     },
     "execution_count": 18,
     "metadata": {},
     "output_type": "execute_result"
    }
   ],
   "source": [
    "# training cluster\n",
    "\n",
    "y= kmean.fit_predict(x)\n",
    "y"
   ]
  },
  {
   "cell_type": "code",
   "execution_count": 19,
   "id": "1cee34f3",
   "metadata": {},
   "outputs": [
    {
     "data": {
      "text/html": [
       "<div>\n",
       "<style scoped>\n",
       "    .dataframe tbody tr th:only-of-type {\n",
       "        vertical-align: middle;\n",
       "    }\n",
       "\n",
       "    .dataframe tbody tr th {\n",
       "        vertical-align: top;\n",
       "    }\n",
       "\n",
       "    .dataframe thead th {\n",
       "        text-align: right;\n",
       "    }\n",
       "</style>\n",
       "<table border=\"1\" class=\"dataframe\">\n",
       "  <thead>\n",
       "    <tr style=\"text-align: right;\">\n",
       "      <th></th>\n",
       "      <th>STATE/UT</th>\n",
       "      <th>DISTRICT</th>\n",
       "      <th>YEAR</th>\n",
       "      <th>MURDER</th>\n",
       "      <th>ATTEMPT TO MURDER</th>\n",
       "      <th>CULPABLE HOMICIDE NOT AMOUNTING TO MURDER</th>\n",
       "      <th>RAPE</th>\n",
       "      <th>CUSTODIAL RAPE</th>\n",
       "      <th>OTHER RAPE</th>\n",
       "      <th>KIDNAPPING &amp; ABDUCTION</th>\n",
       "      <th>...</th>\n",
       "      <th>HURT/GREVIOUS HURT</th>\n",
       "      <th>DOWRY DEATHS</th>\n",
       "      <th>ASSAULT ON WOMEN WITH INTENT TO OUTRAGE HER MODESTY</th>\n",
       "      <th>INSULT TO MODESTY OF WOMEN</th>\n",
       "      <th>CRUELTY BY HUSBAND OR HIS RELATIVES</th>\n",
       "      <th>IMPORTATION OF GIRLS FROM FOREIGN COUNTRIES</th>\n",
       "      <th>CAUSING DEATH BY NEGLIGENCE</th>\n",
       "      <th>OTHER IPC CRIMES</th>\n",
       "      <th>TOTAL IPC CRIMES</th>\n",
       "      <th>CLUSTER</th>\n",
       "    </tr>\n",
       "  </thead>\n",
       "  <tbody>\n",
       "    <tr>\n",
       "      <th>0</th>\n",
       "      <td>DELHI UT</td>\n",
       "      <td>638</td>\n",
       "      <td>2001</td>\n",
       "      <td>0</td>\n",
       "      <td>0</td>\n",
       "      <td>0</td>\n",
       "      <td>0</td>\n",
       "      <td>0</td>\n",
       "      <td>0</td>\n",
       "      <td>0</td>\n",
       "      <td>...</td>\n",
       "      <td>0</td>\n",
       "      <td>0</td>\n",
       "      <td>0</td>\n",
       "      <td>0</td>\n",
       "      <td>0</td>\n",
       "      <td>0</td>\n",
       "      <td>0</td>\n",
       "      <td>0</td>\n",
       "      <td>0</td>\n",
       "      <td>0</td>\n",
       "    </tr>\n",
       "    <tr>\n",
       "      <th>1</th>\n",
       "      <td>DELHI UT</td>\n",
       "      <td>638</td>\n",
       "      <td>2002</td>\n",
       "      <td>0</td>\n",
       "      <td>0</td>\n",
       "      <td>0</td>\n",
       "      <td>0</td>\n",
       "      <td>0</td>\n",
       "      <td>0</td>\n",
       "      <td>0</td>\n",
       "      <td>...</td>\n",
       "      <td>0</td>\n",
       "      <td>0</td>\n",
       "      <td>0</td>\n",
       "      <td>0</td>\n",
       "      <td>0</td>\n",
       "      <td>0</td>\n",
       "      <td>0</td>\n",
       "      <td>0</td>\n",
       "      <td>0</td>\n",
       "      <td>0</td>\n",
       "    </tr>\n",
       "    <tr>\n",
       "      <th>2</th>\n",
       "      <td>HIMACHAL PRADESH</td>\n",
       "      <td>239</td>\n",
       "      <td>2003</td>\n",
       "      <td>0</td>\n",
       "      <td>0</td>\n",
       "      <td>0</td>\n",
       "      <td>0</td>\n",
       "      <td>0</td>\n",
       "      <td>0</td>\n",
       "      <td>0</td>\n",
       "      <td>...</td>\n",
       "      <td>0</td>\n",
       "      <td>0</td>\n",
       "      <td>0</td>\n",
       "      <td>0</td>\n",
       "      <td>0</td>\n",
       "      <td>0</td>\n",
       "      <td>0</td>\n",
       "      <td>1</td>\n",
       "      <td>1</td>\n",
       "      <td>0</td>\n",
       "    </tr>\n",
       "    <tr>\n",
       "      <th>3</th>\n",
       "      <td>MANIPUR</td>\n",
       "      <td>158</td>\n",
       "      <td>2009</td>\n",
       "      <td>0</td>\n",
       "      <td>0</td>\n",
       "      <td>0</td>\n",
       "      <td>0</td>\n",
       "      <td>0</td>\n",
       "      <td>0</td>\n",
       "      <td>0</td>\n",
       "      <td>...</td>\n",
       "      <td>0</td>\n",
       "      <td>0</td>\n",
       "      <td>0</td>\n",
       "      <td>0</td>\n",
       "      <td>0</td>\n",
       "      <td>0</td>\n",
       "      <td>0</td>\n",
       "      <td>0</td>\n",
       "      <td>1</td>\n",
       "      <td>0</td>\n",
       "    </tr>\n",
       "    <tr>\n",
       "      <th>4</th>\n",
       "      <td>MANIPUR</td>\n",
       "      <td>158</td>\n",
       "      <td>2008</td>\n",
       "      <td>0</td>\n",
       "      <td>0</td>\n",
       "      <td>0</td>\n",
       "      <td>0</td>\n",
       "      <td>0</td>\n",
       "      <td>0</td>\n",
       "      <td>0</td>\n",
       "      <td>...</td>\n",
       "      <td>0</td>\n",
       "      <td>0</td>\n",
       "      <td>0</td>\n",
       "      <td>0</td>\n",
       "      <td>0</td>\n",
       "      <td>0</td>\n",
       "      <td>0</td>\n",
       "      <td>0</td>\n",
       "      <td>2</td>\n",
       "      <td>0</td>\n",
       "    </tr>\n",
       "  </tbody>\n",
       "</table>\n",
       "<p>5 rows × 34 columns</p>\n",
       "</div>"
      ],
      "text/plain": [
       "           STATE/UT  DISTRICT  YEAR  MURDER  ATTEMPT TO MURDER  \\\n",
       "0          DELHI UT       638  2001       0                  0   \n",
       "1          DELHI UT       638  2002       0                  0   \n",
       "2  HIMACHAL PRADESH       239  2003       0                  0   \n",
       "3           MANIPUR       158  2009       0                  0   \n",
       "4           MANIPUR       158  2008       0                  0   \n",
       "\n",
       "   CULPABLE HOMICIDE NOT AMOUNTING TO MURDER  RAPE  CUSTODIAL RAPE  \\\n",
       "0                                          0     0               0   \n",
       "1                                          0     0               0   \n",
       "2                                          0     0               0   \n",
       "3                                          0     0               0   \n",
       "4                                          0     0               0   \n",
       "\n",
       "   OTHER RAPE  KIDNAPPING & ABDUCTION  ...  HURT/GREVIOUS HURT  DOWRY DEATHS  \\\n",
       "0           0                       0  ...                   0             0   \n",
       "1           0                       0  ...                   0             0   \n",
       "2           0                       0  ...                   0             0   \n",
       "3           0                       0  ...                   0             0   \n",
       "4           0                       0  ...                   0             0   \n",
       "\n",
       "   ASSAULT ON WOMEN WITH INTENT TO OUTRAGE HER MODESTY  \\\n",
       "0                                                  0     \n",
       "1                                                  0     \n",
       "2                                                  0     \n",
       "3                                                  0     \n",
       "4                                                  0     \n",
       "\n",
       "   INSULT TO MODESTY OF WOMEN  CRUELTY BY HUSBAND OR HIS RELATIVES  \\\n",
       "0                           0                                    0   \n",
       "1                           0                                    0   \n",
       "2                           0                                    0   \n",
       "3                           0                                    0   \n",
       "4                           0                                    0   \n",
       "\n",
       "   IMPORTATION OF GIRLS FROM FOREIGN COUNTRIES  CAUSING DEATH BY NEGLIGENCE  \\\n",
       "0                                            0                            0   \n",
       "1                                            0                            0   \n",
       "2                                            0                            0   \n",
       "3                                            0                            0   \n",
       "4                                            0                            0   \n",
       "\n",
       "   OTHER IPC CRIMES  TOTAL IPC CRIMES  CLUSTER  \n",
       "0                 0                 0        0  \n",
       "1                 0                 0        0  \n",
       "2                 1                 1        0  \n",
       "3                 0                 1        0  \n",
       "4                 0                 2        0  \n",
       "\n",
       "[5 rows x 34 columns]"
      ]
     },
     "execution_count": 19,
     "metadata": {},
     "output_type": "execute_result"
    }
   ],
   "source": [
    "# add cluster column\n",
    "data['CLUSTER']=y\n",
    "data.head()"
   ]
  },
  {
   "cell_type": "code",
   "execution_count": 20,
   "id": "4045aaa4",
   "metadata": {},
   "outputs": [
    {
     "data": {
      "text/plain": [
       "array([[  401.63459638,  1392.14892916],\n",
       "       [  419.28565419,  5388.92048801],\n",
       "       [  274.63333333, 17872.30666667]])"
      ]
     },
     "execution_count": 20,
     "metadata": {},
     "output_type": "execute_result"
    }
   ],
   "source": [
    "kmean.cluster_centers_"
   ]
  },
  {
   "cell_type": "code",
   "execution_count": 34,
   "id": "71f47ef0",
   "metadata": {},
   "outputs": [],
   "source": [
    "\n",
    "# Map cluster labels to cluster names\n",
    "cluster_names = {\n",
    "    0: 'Peaceful Areas',\n",
    "    1: 'Moderate Areas',\n",
    "    2: 'Sensitive Areas'\n",
    "}"
   ]
  },
  {
   "cell_type": "code",
   "execution_count": 35,
   "id": "336e408d",
   "metadata": {},
   "outputs": [],
   "source": [
    "data['CLUSTER NAME'] = data['CLUSTER'].map(cluster_names)\n"
   ]
  },
  {
   "cell_type": "code",
   "execution_count": 23,
   "id": "2e0257f4",
   "metadata": {},
   "outputs": [
    {
     "data": {
      "text/html": [
       "<div>\n",
       "<style scoped>\n",
       "    .dataframe tbody tr th:only-of-type {\n",
       "        vertical-align: middle;\n",
       "    }\n",
       "\n",
       "    .dataframe tbody tr th {\n",
       "        vertical-align: top;\n",
       "    }\n",
       "\n",
       "    .dataframe thead th {\n",
       "        text-align: right;\n",
       "    }\n",
       "</style>\n",
       "<table border=\"1\" class=\"dataframe\">\n",
       "  <thead>\n",
       "    <tr style=\"text-align: right;\">\n",
       "      <th></th>\n",
       "      <th>STATE/UT</th>\n",
       "      <th>DISTRICT</th>\n",
       "      <th>YEAR</th>\n",
       "      <th>MURDER</th>\n",
       "      <th>ATTEMPT TO MURDER</th>\n",
       "      <th>CULPABLE HOMICIDE NOT AMOUNTING TO MURDER</th>\n",
       "      <th>RAPE</th>\n",
       "      <th>CUSTODIAL RAPE</th>\n",
       "      <th>OTHER RAPE</th>\n",
       "      <th>KIDNAPPING &amp; ABDUCTION</th>\n",
       "      <th>...</th>\n",
       "      <th>DOWRY DEATHS</th>\n",
       "      <th>ASSAULT ON WOMEN WITH INTENT TO OUTRAGE HER MODESTY</th>\n",
       "      <th>INSULT TO MODESTY OF WOMEN</th>\n",
       "      <th>CRUELTY BY HUSBAND OR HIS RELATIVES</th>\n",
       "      <th>IMPORTATION OF GIRLS FROM FOREIGN COUNTRIES</th>\n",
       "      <th>CAUSING DEATH BY NEGLIGENCE</th>\n",
       "      <th>OTHER IPC CRIMES</th>\n",
       "      <th>TOTAL IPC CRIMES</th>\n",
       "      <th>CLUSTER</th>\n",
       "      <th>CLUSTER NAME</th>\n",
       "    </tr>\n",
       "  </thead>\n",
       "  <tbody>\n",
       "    <tr>\n",
       "      <th>0</th>\n",
       "      <td>DELHI UT</td>\n",
       "      <td>638</td>\n",
       "      <td>2001</td>\n",
       "      <td>0</td>\n",
       "      <td>0</td>\n",
       "      <td>0</td>\n",
       "      <td>0</td>\n",
       "      <td>0</td>\n",
       "      <td>0</td>\n",
       "      <td>0</td>\n",
       "      <td>...</td>\n",
       "      <td>0</td>\n",
       "      <td>0</td>\n",
       "      <td>0</td>\n",
       "      <td>0</td>\n",
       "      <td>0</td>\n",
       "      <td>0</td>\n",
       "      <td>0</td>\n",
       "      <td>0</td>\n",
       "      <td>0</td>\n",
       "      <td>Peaceful Areas</td>\n",
       "    </tr>\n",
       "    <tr>\n",
       "      <th>1</th>\n",
       "      <td>DELHI UT</td>\n",
       "      <td>638</td>\n",
       "      <td>2002</td>\n",
       "      <td>0</td>\n",
       "      <td>0</td>\n",
       "      <td>0</td>\n",
       "      <td>0</td>\n",
       "      <td>0</td>\n",
       "      <td>0</td>\n",
       "      <td>0</td>\n",
       "      <td>...</td>\n",
       "      <td>0</td>\n",
       "      <td>0</td>\n",
       "      <td>0</td>\n",
       "      <td>0</td>\n",
       "      <td>0</td>\n",
       "      <td>0</td>\n",
       "      <td>0</td>\n",
       "      <td>0</td>\n",
       "      <td>0</td>\n",
       "      <td>Peaceful Areas</td>\n",
       "    </tr>\n",
       "    <tr>\n",
       "      <th>2</th>\n",
       "      <td>HIMACHAL PRADESH</td>\n",
       "      <td>239</td>\n",
       "      <td>2003</td>\n",
       "      <td>0</td>\n",
       "      <td>0</td>\n",
       "      <td>0</td>\n",
       "      <td>0</td>\n",
       "      <td>0</td>\n",
       "      <td>0</td>\n",
       "      <td>0</td>\n",
       "      <td>...</td>\n",
       "      <td>0</td>\n",
       "      <td>0</td>\n",
       "      <td>0</td>\n",
       "      <td>0</td>\n",
       "      <td>0</td>\n",
       "      <td>0</td>\n",
       "      <td>1</td>\n",
       "      <td>1</td>\n",
       "      <td>0</td>\n",
       "      <td>Peaceful Areas</td>\n",
       "    </tr>\n",
       "    <tr>\n",
       "      <th>3</th>\n",
       "      <td>MANIPUR</td>\n",
       "      <td>158</td>\n",
       "      <td>2009</td>\n",
       "      <td>0</td>\n",
       "      <td>0</td>\n",
       "      <td>0</td>\n",
       "      <td>0</td>\n",
       "      <td>0</td>\n",
       "      <td>0</td>\n",
       "      <td>0</td>\n",
       "      <td>...</td>\n",
       "      <td>0</td>\n",
       "      <td>0</td>\n",
       "      <td>0</td>\n",
       "      <td>0</td>\n",
       "      <td>0</td>\n",
       "      <td>0</td>\n",
       "      <td>0</td>\n",
       "      <td>1</td>\n",
       "      <td>0</td>\n",
       "      <td>Peaceful Areas</td>\n",
       "    </tr>\n",
       "    <tr>\n",
       "      <th>4</th>\n",
       "      <td>MANIPUR</td>\n",
       "      <td>158</td>\n",
       "      <td>2008</td>\n",
       "      <td>0</td>\n",
       "      <td>0</td>\n",
       "      <td>0</td>\n",
       "      <td>0</td>\n",
       "      <td>0</td>\n",
       "      <td>0</td>\n",
       "      <td>0</td>\n",
       "      <td>...</td>\n",
       "      <td>0</td>\n",
       "      <td>0</td>\n",
       "      <td>0</td>\n",
       "      <td>0</td>\n",
       "      <td>0</td>\n",
       "      <td>0</td>\n",
       "      <td>0</td>\n",
       "      <td>2</td>\n",
       "      <td>0</td>\n",
       "      <td>Peaceful Areas</td>\n",
       "    </tr>\n",
       "  </tbody>\n",
       "</table>\n",
       "<p>5 rows × 35 columns</p>\n",
       "</div>"
      ],
      "text/plain": [
       "           STATE/UT  DISTRICT  YEAR  MURDER  ATTEMPT TO MURDER  \\\n",
       "0          DELHI UT       638  2001       0                  0   \n",
       "1          DELHI UT       638  2002       0                  0   \n",
       "2  HIMACHAL PRADESH       239  2003       0                  0   \n",
       "3           MANIPUR       158  2009       0                  0   \n",
       "4           MANIPUR       158  2008       0                  0   \n",
       "\n",
       "   CULPABLE HOMICIDE NOT AMOUNTING TO MURDER  RAPE  CUSTODIAL RAPE  \\\n",
       "0                                          0     0               0   \n",
       "1                                          0     0               0   \n",
       "2                                          0     0               0   \n",
       "3                                          0     0               0   \n",
       "4                                          0     0               0   \n",
       "\n",
       "   OTHER RAPE  KIDNAPPING & ABDUCTION  ...  DOWRY DEATHS  \\\n",
       "0           0                       0  ...             0   \n",
       "1           0                       0  ...             0   \n",
       "2           0                       0  ...             0   \n",
       "3           0                       0  ...             0   \n",
       "4           0                       0  ...             0   \n",
       "\n",
       "   ASSAULT ON WOMEN WITH INTENT TO OUTRAGE HER MODESTY  \\\n",
       "0                                                  0     \n",
       "1                                                  0     \n",
       "2                                                  0     \n",
       "3                                                  0     \n",
       "4                                                  0     \n",
       "\n",
       "   INSULT TO MODESTY OF WOMEN  CRUELTY BY HUSBAND OR HIS RELATIVES  \\\n",
       "0                           0                                    0   \n",
       "1                           0                                    0   \n",
       "2                           0                                    0   \n",
       "3                           0                                    0   \n",
       "4                           0                                    0   \n",
       "\n",
       "   IMPORTATION OF GIRLS FROM FOREIGN COUNTRIES  CAUSING DEATH BY NEGLIGENCE  \\\n",
       "0                                            0                            0   \n",
       "1                                            0                            0   \n",
       "2                                            0                            0   \n",
       "3                                            0                            0   \n",
       "4                                            0                            0   \n",
       "\n",
       "   OTHER IPC CRIMES  TOTAL IPC CRIMES  CLUSTER    CLUSTER NAME  \n",
       "0                 0                 0        0  Peaceful Areas  \n",
       "1                 0                 0        0  Peaceful Areas  \n",
       "2                 1                 1        0  Peaceful Areas  \n",
       "3                 0                 1        0  Peaceful Areas  \n",
       "4                 0                 2        0  Peaceful Areas  \n",
       "\n",
       "[5 rows x 35 columns]"
      ]
     },
     "execution_count": 23,
     "metadata": {},
     "output_type": "execute_result"
    }
   ],
   "source": [
    "data.head()"
   ]
  },
  {
   "cell_type": "code",
   "execution_count": 36,
   "id": "dd7ebb80",
   "metadata": {},
   "outputs": [
    {
     "data": {
      "image/png": "[encoded data removed]",
      "text/plain": [
       "<Figure size 1000x1000 with 1 Axes>"
      ]
     },
     "metadata": {},
     "output_type": "display_data"
    }
   ],
   "source": [
    "# Plot clusters\n",
    "plt.figure(figsize=(10, 10))\n",
    "\n",
    "# Scatter plot for each cluster\n",
    "for i in range(num):\n",
    "    plt.scatter(x[y == i]['DISTRICT'], x[y == i]['TOTAL IPC CRIMES'], s=20, label=f'{cluster_names[i]}')\n",
    "\n",
    "# Plot centroids\n",
    "plt.scatter(kmean.cluster_centers_[:, 0], kmean.cluster_centers_[:, 1], s=100, c='red', label='Centroids')\n",
    "\n",
    "# Add labels and title\n",
    "plt.title('Areas of States')\n",
    "plt.xlabel('District')\n",
    "plt.ylabel('Total IPC Crimes')\n",
    "plt.legend()\n",
    "plt.show()"
   ]
  },
  {
   "cell_type": "markdown",
   "id": "d2ccbc74",
   "metadata": {},
   "source": [
    "# 4.2Create DataFrame for each cluster that shows data according to the areas.\n",
    "\n"
   ]
  },
  {
   "cell_type": "code",
   "execution_count": 26,
   "id": "14dce00f",
   "metadata": {},
   "outputs": [],
   "source": [
    "# Save the encoded values before transforming\n",
    "encoded_district_values = data['DISTRICT']"
   ]
  },
  {
   "cell_type": "code",
   "execution_count": 27,
   "id": "99215c35",
   "metadata": {},
   "outputs": [],
   "source": [
    "# Use inverse_transform to get back the original district values\n",
    "decoded_district_values = lab.inverse_transform(encoded_district_values)\n"
   ]
  },
  {
   "cell_type": "code",
   "execution_count": 28,
   "id": "ea6aecf1",
   "metadata": {},
   "outputs": [],
   "source": [
    "# Replace the encoded 'DISTRICT' column with the original values\n",
    "data['DISTRICT'] = decoded_district_values"
   ]
  },
  {
   "cell_type": "code",
   "execution_count": 38,
   "id": "50e32467",
   "metadata": {},
   "outputs": [],
   "source": [
    "peaceful_area_df = data[data['CLUSTER'] == 0].copy()\n",
    "moderate_area_df = data[data['CLUSTER'] == 1].copy()\n",
    "sensitive_area_df = data[data['CLUSTER'] == 2].copy()"
   ]
  },
  {
   "cell_type": "code",
   "execution_count": 39,
   "id": "eca3162c",
   "metadata": {},
   "outputs": [],
   "source": [
    "peaceful_area_df.to_csv('C:\\\\Users\\\\SNEHAL\\\\Downloads\\\\Capstone-Project-File\\peaceful_area.csv', index=False)\n",
    "moderate_area_df.to_csv('C:\\\\Users\\\\SNEHAL\\\\Downloads\\\\Capstone-Project-File\\moderate_area.csv', index=False)\n",
    "sensitive_area_df.to_csv('C:\\\\Users\\\\SNEHAL\\\\Downloads\\\\Capstone-Project-File\\sensitive_area.csv', index=False)"
   ]
  },
  {
   "cell_type": "code",
   "execution_count": 40,
   "id": "9b4cbe56",
   "metadata": {},
   "outputs": [
    {
     "data": {
      "text/plain": [
       "(6064, 35)"
      ]
     },
     "execution_count": 40,
     "metadata": {},
     "output_type": "execute_result"
    }
   ],
   "source": [
    "peaceful_area_df.shape"
   ]
  },
  {
   "cell_type": "code",
   "execution_count": 41,
   "id": "0d1b8d9c",
   "metadata": {},
   "outputs": [
    {
     "data": {
      "text/plain": [
       "(2383, 35)"
      ]
     },
     "execution_count": 41,
     "metadata": {},
     "output_type": "execute_result"
    }
   ],
   "source": [
    "moderate_area_df.shape"
   ]
  },
  {
   "cell_type": "code",
   "execution_count": 42,
   "id": "7c341637",
   "metadata": {},
   "outputs": [
    {
     "data": {
      "text/plain": [
       "(150, 35)"
      ]
     },
     "execution_count": 42,
     "metadata": {},
     "output_type": "execute_result"
    }
   ],
   "source": [
    "sensitive_area_df.shape"
   ]
  },
  {
   "cell_type": "markdown",
   "id": "aaba290c",
   "metadata": {},
   "source": [
    "# 4.3  \"Analyse your clusters and prepare a report that explains all your observations.\n",
    "\n"
   ]
  },
  {
   "cell_type": "markdown",
   "id": "65741ba8",
   "metadata": {},
   "source": [
    "1.What is impacting more crimes in sensitive areas. \n",
    "------------------------------\n"
   ]
  },
  {
   "cell_type": "code",
   "execution_count": 43,
   "id": "839ace7d",
   "metadata": {},
   "outputs": [
    {
     "data": {
      "text/html": [
       "<div>\n",
       "<style scoped>\n",
       "    .dataframe tbody tr th:only-of-type {\n",
       "        vertical-align: middle;\n",
       "    }\n",
       "\n",
       "    .dataframe tbody tr th {\n",
       "        vertical-align: top;\n",
       "    }\n",
       "\n",
       "    .dataframe thead th {\n",
       "        text-align: right;\n",
       "    }\n",
       "</style>\n",
       "<table border=\"1\" class=\"dataframe\">\n",
       "  <thead>\n",
       "    <tr style=\"text-align: right;\">\n",
       "      <th></th>\n",
       "      <th>STATE/UT</th>\n",
       "      <th>DISTRICT</th>\n",
       "      <th>YEAR</th>\n",
       "      <th>MURDER</th>\n",
       "      <th>ATTEMPT TO MURDER</th>\n",
       "      <th>CULPABLE HOMICIDE NOT AMOUNTING TO MURDER</th>\n",
       "      <th>RAPE</th>\n",
       "      <th>CUSTODIAL RAPE</th>\n",
       "      <th>OTHER RAPE</th>\n",
       "      <th>KIDNAPPING &amp; ABDUCTION</th>\n",
       "      <th>...</th>\n",
       "      <th>DOWRY DEATHS</th>\n",
       "      <th>ASSAULT ON WOMEN WITH INTENT TO OUTRAGE HER MODESTY</th>\n",
       "      <th>INSULT TO MODESTY OF WOMEN</th>\n",
       "      <th>CRUELTY BY HUSBAND OR HIS RELATIVES</th>\n",
       "      <th>IMPORTATION OF GIRLS FROM FOREIGN COUNTRIES</th>\n",
       "      <th>CAUSING DEATH BY NEGLIGENCE</th>\n",
       "      <th>OTHER IPC CRIMES</th>\n",
       "      <th>TOTAL IPC CRIMES</th>\n",
       "      <th>CLUSTER</th>\n",
       "      <th>CLUSTER NAME</th>\n",
       "    </tr>\n",
       "  </thead>\n",
       "  <tbody>\n",
       "    <tr>\n",
       "      <th>0</th>\n",
       "      <td>WEST BENGAL</td>\n",
       "      <td>24 PARGANAS NORTH</td>\n",
       "      <td>2012</td>\n",
       "      <td>140</td>\n",
       "      <td>108</td>\n",
       "      <td>80</td>\n",
       "      <td>118</td>\n",
       "      <td>0</td>\n",
       "      <td>118</td>\n",
       "      <td>497</td>\n",
       "      <td>...</td>\n",
       "      <td>74</td>\n",
       "      <td>196</td>\n",
       "      <td>1</td>\n",
       "      <td>1860</td>\n",
       "      <td>3</td>\n",
       "      <td>10</td>\n",
       "      <td>6062</td>\n",
       "      <td>11765</td>\n",
       "      <td>2</td>\n",
       "      <td>Sensitive Areas</td>\n",
       "    </tr>\n",
       "    <tr>\n",
       "      <th>1</th>\n",
       "      <td>MAHARASHTRA</td>\n",
       "      <td>PUNE COMMR.</td>\n",
       "      <td>2005</td>\n",
       "      <td>106</td>\n",
       "      <td>85</td>\n",
       "      <td>7</td>\n",
       "      <td>79</td>\n",
       "      <td>0</td>\n",
       "      <td>79</td>\n",
       "      <td>102</td>\n",
       "      <td>...</td>\n",
       "      <td>1</td>\n",
       "      <td>107</td>\n",
       "      <td>95</td>\n",
       "      <td>201</td>\n",
       "      <td>0</td>\n",
       "      <td>407</td>\n",
       "      <td>2418</td>\n",
       "      <td>11817</td>\n",
       "      <td>2</td>\n",
       "      <td>Sensitive Areas</td>\n",
       "    </tr>\n",
       "    <tr>\n",
       "      <th>2</th>\n",
       "      <td>UTTAR PRADESH</td>\n",
       "      <td>GHAZIABAD</td>\n",
       "      <td>2009</td>\n",
       "      <td>254</td>\n",
       "      <td>277</td>\n",
       "      <td>31</td>\n",
       "      <td>53</td>\n",
       "      <td>0</td>\n",
       "      <td>53</td>\n",
       "      <td>491</td>\n",
       "      <td>...</td>\n",
       "      <td>66</td>\n",
       "      <td>88</td>\n",
       "      <td>182</td>\n",
       "      <td>556</td>\n",
       "      <td>0</td>\n",
       "      <td>456</td>\n",
       "      <td>3123</td>\n",
       "      <td>11821</td>\n",
       "      <td>2</td>\n",
       "      <td>Sensitive Areas</td>\n",
       "    </tr>\n",
       "    <tr>\n",
       "      <th>3</th>\n",
       "      <td>TAMIL NADU</td>\n",
       "      <td>CHENNAI</td>\n",
       "      <td>2008</td>\n",
       "      <td>100</td>\n",
       "      <td>130</td>\n",
       "      <td>0</td>\n",
       "      <td>35</td>\n",
       "      <td>0</td>\n",
       "      <td>35</td>\n",
       "      <td>43</td>\n",
       "      <td>...</td>\n",
       "      <td>25</td>\n",
       "      <td>46</td>\n",
       "      <td>67</td>\n",
       "      <td>165</td>\n",
       "      <td>0</td>\n",
       "      <td>613</td>\n",
       "      <td>7478</td>\n",
       "      <td>11829</td>\n",
       "      <td>2</td>\n",
       "      <td>Sensitive Areas</td>\n",
       "    </tr>\n",
       "    <tr>\n",
       "      <th>4</th>\n",
       "      <td>ANDHRA PRADESH</td>\n",
       "      <td>HYDERABAD CITY</td>\n",
       "      <td>2001</td>\n",
       "      <td>111</td>\n",
       "      <td>113</td>\n",
       "      <td>7</td>\n",
       "      <td>37</td>\n",
       "      <td>0</td>\n",
       "      <td>37</td>\n",
       "      <td>80</td>\n",
       "      <td>...</td>\n",
       "      <td>24</td>\n",
       "      <td>118</td>\n",
       "      <td>27</td>\n",
       "      <td>746</td>\n",
       "      <td>0</td>\n",
       "      <td>409</td>\n",
       "      <td>1512</td>\n",
       "      <td>11831</td>\n",
       "      <td>2</td>\n",
       "      <td>Sensitive Areas</td>\n",
       "    </tr>\n",
       "  </tbody>\n",
       "</table>\n",
       "<p>5 rows × 35 columns</p>\n",
       "</div>"
      ],
      "text/plain": [
       "         STATE/UT           DISTRICT  YEAR  MURDER  ATTEMPT TO MURDER  \\\n",
       "0     WEST BENGAL  24 PARGANAS NORTH  2012     140                108   \n",
       "1     MAHARASHTRA        PUNE COMMR.  2005     106                 85   \n",
       "2   UTTAR PRADESH          GHAZIABAD  2009     254                277   \n",
       "3      TAMIL NADU            CHENNAI  2008     100                130   \n",
       "4  ANDHRA PRADESH     HYDERABAD CITY  2001     111                113   \n",
       "\n",
       "   CULPABLE HOMICIDE NOT AMOUNTING TO MURDER  RAPE  CUSTODIAL RAPE  \\\n",
       "0                                         80   118               0   \n",
       "1                                          7    79               0   \n",
       "2                                         31    53               0   \n",
       "3                                          0    35               0   \n",
       "4                                          7    37               0   \n",
       "\n",
       "   OTHER RAPE  KIDNAPPING & ABDUCTION  ...  DOWRY DEATHS  \\\n",
       "0         118                     497  ...            74   \n",
       "1          79                     102  ...             1   \n",
       "2          53                     491  ...            66   \n",
       "3          35                      43  ...            25   \n",
       "4          37                      80  ...            24   \n",
       "\n",
       "   ASSAULT ON WOMEN WITH INTENT TO OUTRAGE HER MODESTY  \\\n",
       "0                                                196     \n",
       "1                                                107     \n",
       "2                                                 88     \n",
       "3                                                 46     \n",
       "4                                                118     \n",
       "\n",
       "   INSULT TO MODESTY OF WOMEN  CRUELTY BY HUSBAND OR HIS RELATIVES  \\\n",
       "0                           1                                 1860   \n",
       "1                          95                                  201   \n",
       "2                         182                                  556   \n",
       "3                          67                                  165   \n",
       "4                          27                                  746   \n",
       "\n",
       "   IMPORTATION OF GIRLS FROM FOREIGN COUNTRIES  CAUSING DEATH BY NEGLIGENCE  \\\n",
       "0                                            3                           10   \n",
       "1                                            0                          407   \n",
       "2                                            0                          456   \n",
       "3                                            0                          613   \n",
       "4                                            0                          409   \n",
       "\n",
       "   OTHER IPC CRIMES  TOTAL IPC CRIMES  CLUSTER     CLUSTER NAME  \n",
       "0              6062             11765        2  Sensitive Areas  \n",
       "1              2418             11817        2  Sensitive Areas  \n",
       "2              3123             11821        2  Sensitive Areas  \n",
       "3              7478             11829        2  Sensitive Areas  \n",
       "4              1512             11831        2  Sensitive Areas  \n",
       "\n",
       "[5 rows x 35 columns]"
      ]
     },
     "execution_count": 43,
     "metadata": {},
     "output_type": "execute_result"
    }
   ],
   "source": [
    "sensitive_df = pd.read_csv('C:\\\\Users\\\\SNEHAL\\\\Downloads\\\\Capstone-Project-File\\sensitive_area.csv')\n",
    "sensitive_df.head()"
   ]
  },
  {
   "cell_type": "code",
   "execution_count": 44,
   "id": "2c101555",
   "metadata": {},
   "outputs": [],
   "source": [
    "selected_col = sensitive_df[['STATE/UT', 'DISTRICT', 'YEAR', 'MURDER', 'ATTEMPT TO MURDER', 'RAPE', 'CUSTODIAL RAPE',\n",
    "                                   'KIDNAPPING AND ABDUCTION OF WOMEN AND GIRLS', 'IMPORTATION OF GIRLS FROM FOREIGN COUNTRIES',\n",
    "                                   'CAUSING DEATH BY NEGLIGENCE', 'OTHER IPC CRIMES', 'TOTAL IPC CRIMES',\n",
    "                                   'CLUSTER', 'CLUSTER NAME']]"
   ]
  },
  {
   "cell_type": "code",
   "execution_count": 45,
   "id": "c70952fc",
   "metadata": {},
   "outputs": [
    {
     "data": {
      "text/html": [
       "<div>\n",
       "<style scoped>\n",
       "    .dataframe tbody tr th:only-of-type {\n",
       "        vertical-align: middle;\n",
       "    }\n",
       "\n",
       "    .dataframe tbody tr th {\n",
       "        vertical-align: top;\n",
       "    }\n",
       "\n",
       "    .dataframe thead th {\n",
       "        text-align: right;\n",
       "    }\n",
       "</style>\n",
       "<table border=\"1\" class=\"dataframe\">\n",
       "  <thead>\n",
       "    <tr style=\"text-align: right;\">\n",
       "      <th></th>\n",
       "      <th>STATE/UT</th>\n",
       "      <th>DISTRICT</th>\n",
       "      <th>YEAR</th>\n",
       "      <th>MURDER</th>\n",
       "      <th>ATTEMPT TO MURDER</th>\n",
       "      <th>RAPE</th>\n",
       "      <th>CUSTODIAL RAPE</th>\n",
       "      <th>KIDNAPPING AND ABDUCTION OF WOMEN AND GIRLS</th>\n",
       "      <th>IMPORTATION OF GIRLS FROM FOREIGN COUNTRIES</th>\n",
       "      <th>CAUSING DEATH BY NEGLIGENCE</th>\n",
       "      <th>OTHER IPC CRIMES</th>\n",
       "      <th>TOTAL IPC CRIMES</th>\n",
       "      <th>CLUSTER</th>\n",
       "      <th>CLUSTER NAME</th>\n",
       "    </tr>\n",
       "  </thead>\n",
       "  <tbody>\n",
       "    <tr>\n",
       "      <th>0</th>\n",
       "      <td>WEST BENGAL</td>\n",
       "      <td>24 PARGANAS NORTH</td>\n",
       "      <td>2012</td>\n",
       "      <td>140</td>\n",
       "      <td>108</td>\n",
       "      <td>118</td>\n",
       "      <td>0</td>\n",
       "      <td>338</td>\n",
       "      <td>3</td>\n",
       "      <td>10</td>\n",
       "      <td>6062</td>\n",
       "      <td>11765</td>\n",
       "      <td>2</td>\n",
       "      <td>Sensitive Areas</td>\n",
       "    </tr>\n",
       "    <tr>\n",
       "      <th>1</th>\n",
       "      <td>MAHARASHTRA</td>\n",
       "      <td>PUNE COMMR.</td>\n",
       "      <td>2005</td>\n",
       "      <td>106</td>\n",
       "      <td>85</td>\n",
       "      <td>79</td>\n",
       "      <td>0</td>\n",
       "      <td>72</td>\n",
       "      <td>0</td>\n",
       "      <td>407</td>\n",
       "      <td>2418</td>\n",
       "      <td>11817</td>\n",
       "      <td>2</td>\n",
       "      <td>Sensitive Areas</td>\n",
       "    </tr>\n",
       "    <tr>\n",
       "      <th>2</th>\n",
       "      <td>UTTAR PRADESH</td>\n",
       "      <td>GHAZIABAD</td>\n",
       "      <td>2009</td>\n",
       "      <td>254</td>\n",
       "      <td>277</td>\n",
       "      <td>53</td>\n",
       "      <td>0</td>\n",
       "      <td>321</td>\n",
       "      <td>0</td>\n",
       "      <td>456</td>\n",
       "      <td>3123</td>\n",
       "      <td>11821</td>\n",
       "      <td>2</td>\n",
       "      <td>Sensitive Areas</td>\n",
       "    </tr>\n",
       "    <tr>\n",
       "      <th>3</th>\n",
       "      <td>TAMIL NADU</td>\n",
       "      <td>CHENNAI</td>\n",
       "      <td>2008</td>\n",
       "      <td>100</td>\n",
       "      <td>130</td>\n",
       "      <td>35</td>\n",
       "      <td>0</td>\n",
       "      <td>32</td>\n",
       "      <td>0</td>\n",
       "      <td>613</td>\n",
       "      <td>7478</td>\n",
       "      <td>11829</td>\n",
       "      <td>2</td>\n",
       "      <td>Sensitive Areas</td>\n",
       "    </tr>\n",
       "    <tr>\n",
       "      <th>4</th>\n",
       "      <td>ANDHRA PRADESH</td>\n",
       "      <td>HYDERABAD CITY</td>\n",
       "      <td>2001</td>\n",
       "      <td>111</td>\n",
       "      <td>113</td>\n",
       "      <td>37</td>\n",
       "      <td>0</td>\n",
       "      <td>39</td>\n",
       "      <td>0</td>\n",
       "      <td>409</td>\n",
       "      <td>1512</td>\n",
       "      <td>11831</td>\n",
       "      <td>2</td>\n",
       "      <td>Sensitive Areas</td>\n",
       "    </tr>\n",
       "    <tr>\n",
       "      <th>...</th>\n",
       "      <td>...</td>\n",
       "      <td>...</td>\n",
       "      <td>...</td>\n",
       "      <td>...</td>\n",
       "      <td>...</td>\n",
       "      <td>...</td>\n",
       "      <td>...</td>\n",
       "      <td>...</td>\n",
       "      <td>...</td>\n",
       "      <td>...</td>\n",
       "      <td>...</td>\n",
       "      <td>...</td>\n",
       "      <td>...</td>\n",
       "      <td>...</td>\n",
       "    </tr>\n",
       "    <tr>\n",
       "      <th>145</th>\n",
       "      <td>KARNATAKA</td>\n",
       "      <td>BANGALORE COMMR.</td>\n",
       "      <td>2009</td>\n",
       "      <td>256</td>\n",
       "      <td>338</td>\n",
       "      <td>65</td>\n",
       "      <td>0</td>\n",
       "      <td>2</td>\n",
       "      <td>0</td>\n",
       "      <td>87</td>\n",
       "      <td>9992</td>\n",
       "      <td>32380</td>\n",
       "      <td>2</td>\n",
       "      <td>Sensitive Areas</td>\n",
       "    </tr>\n",
       "    <tr>\n",
       "      <th>146</th>\n",
       "      <td>MAHARASHTRA</td>\n",
       "      <td>MUMBAI COMMR.</td>\n",
       "      <td>2011</td>\n",
       "      <td>203</td>\n",
       "      <td>180</td>\n",
       "      <td>221</td>\n",
       "      <td>0</td>\n",
       "      <td>166</td>\n",
       "      <td>0</td>\n",
       "      <td>656</td>\n",
       "      <td>6464</td>\n",
       "      <td>32647</td>\n",
       "      <td>2</td>\n",
       "      <td>Sensitive Areas</td>\n",
       "    </tr>\n",
       "    <tr>\n",
       "      <th>147</th>\n",
       "      <td>MAHARASHTRA</td>\n",
       "      <td>MUMBAI COMMR.</td>\n",
       "      <td>2008</td>\n",
       "      <td>210</td>\n",
       "      <td>132</td>\n",
       "      <td>218</td>\n",
       "      <td>0</td>\n",
       "      <td>116</td>\n",
       "      <td>0</td>\n",
       "      <td>709</td>\n",
       "      <td>6850</td>\n",
       "      <td>32770</td>\n",
       "      <td>2</td>\n",
       "      <td>Sensitive Areas</td>\n",
       "    </tr>\n",
       "    <tr>\n",
       "      <th>148</th>\n",
       "      <td>MAHARASHTRA</td>\n",
       "      <td>MUMBAI COMMR.</td>\n",
       "      <td>2010</td>\n",
       "      <td>228</td>\n",
       "      <td>170</td>\n",
       "      <td>194</td>\n",
       "      <td>0</td>\n",
       "      <td>146</td>\n",
       "      <td>0</td>\n",
       "      <td>690</td>\n",
       "      <td>7093</td>\n",
       "      <td>33932</td>\n",
       "      <td>2</td>\n",
       "      <td>Sensitive Areas</td>\n",
       "    </tr>\n",
       "    <tr>\n",
       "      <th>149</th>\n",
       "      <td>KERALA</td>\n",
       "      <td>ERNAKULAM RURAL</td>\n",
       "      <td>2011</td>\n",
       "      <td>15</td>\n",
       "      <td>14</td>\n",
       "      <td>30</td>\n",
       "      <td>0</td>\n",
       "      <td>11</td>\n",
       "      <td>0</td>\n",
       "      <td>2</td>\n",
       "      <td>32452</td>\n",
       "      <td>34638</td>\n",
       "      <td>2</td>\n",
       "      <td>Sensitive Areas</td>\n",
       "    </tr>\n",
       "  </tbody>\n",
       "</table>\n",
       "<p>150 rows × 14 columns</p>\n",
       "</div>"
      ],
      "text/plain": [
       "           STATE/UT           DISTRICT  YEAR  MURDER  ATTEMPT TO MURDER  RAPE  \\\n",
       "0       WEST BENGAL  24 PARGANAS NORTH  2012     140                108   118   \n",
       "1       MAHARASHTRA        PUNE COMMR.  2005     106                 85    79   \n",
       "2     UTTAR PRADESH          GHAZIABAD  2009     254                277    53   \n",
       "3        TAMIL NADU            CHENNAI  2008     100                130    35   \n",
       "4    ANDHRA PRADESH     HYDERABAD CITY  2001     111                113    37   \n",
       "..              ...                ...   ...     ...                ...   ...   \n",
       "145       KARNATAKA   BANGALORE COMMR.  2009     256                338    65   \n",
       "146     MAHARASHTRA      MUMBAI COMMR.  2011     203                180   221   \n",
       "147     MAHARASHTRA      MUMBAI COMMR.  2008     210                132   218   \n",
       "148     MAHARASHTRA      MUMBAI COMMR.  2010     228                170   194   \n",
       "149          KERALA    ERNAKULAM RURAL  2011      15                 14    30   \n",
       "\n",
       "     CUSTODIAL RAPE  KIDNAPPING AND ABDUCTION OF WOMEN AND GIRLS  \\\n",
       "0                 0                                          338   \n",
       "1                 0                                           72   \n",
       "2                 0                                          321   \n",
       "3                 0                                           32   \n",
       "4                 0                                           39   \n",
       "..              ...                                          ...   \n",
       "145               0                                            2   \n",
       "146               0                                          166   \n",
       "147               0                                          116   \n",
       "148               0                                          146   \n",
       "149               0                                           11   \n",
       "\n",
       "     IMPORTATION OF GIRLS FROM FOREIGN COUNTRIES  CAUSING DEATH BY NEGLIGENCE  \\\n",
       "0                                              3                           10   \n",
       "1                                              0                          407   \n",
       "2                                              0                          456   \n",
       "3                                              0                          613   \n",
       "4                                              0                          409   \n",
       "..                                           ...                          ...   \n",
       "145                                            0                           87   \n",
       "146                                            0                          656   \n",
       "147                                            0                          709   \n",
       "148                                            0                          690   \n",
       "149                                            0                            2   \n",
       "\n",
       "     OTHER IPC CRIMES  TOTAL IPC CRIMES  CLUSTER     CLUSTER NAME  \n",
       "0                6062             11765        2  Sensitive Areas  \n",
       "1                2418             11817        2  Sensitive Areas  \n",
       "2                3123             11821        2  Sensitive Areas  \n",
       "3                7478             11829        2  Sensitive Areas  \n",
       "4                1512             11831        2  Sensitive Areas  \n",
       "..                ...               ...      ...              ...  \n",
       "145              9992             32380        2  Sensitive Areas  \n",
       "146              6464             32647        2  Sensitive Areas  \n",
       "147              6850             32770        2  Sensitive Areas  \n",
       "148              7093             33932        2  Sensitive Areas  \n",
       "149             32452             34638        2  Sensitive Areas  \n",
       "\n",
       "[150 rows x 14 columns]"
      ]
     },
     "execution_count": 45,
     "metadata": {},
     "output_type": "execute_result"
    }
   ],
   "source": [
    "selected_col"
   ]
  },
  {
   "cell_type": "markdown",
   "id": "c36aa4b6",
   "metadata": {},
   "source": [
    "1.From above dataset we can see that the number of crimes increases year by year.\n",
    "2.Population of each state increases year by year and number of crimes also increases."
   ]
  },
  {
   "cell_type": "code",
   "execution_count": 46,
   "id": "87f5f985",
   "metadata": {},
   "outputs": [
    {
     "data": {
      "text/plain": [
       "STATE/UT                                       0\n",
       "DISTRICT                                       0\n",
       "YEAR                                           0\n",
       "MURDER                                         0\n",
       "ATTEMPT TO MURDER                              0\n",
       "RAPE                                           0\n",
       "CUSTODIAL RAPE                                 0\n",
       "KIDNAPPING AND ABDUCTION OF WOMEN AND GIRLS    0\n",
       "IMPORTATION OF GIRLS FROM FOREIGN COUNTRIES    0\n",
       "CAUSING DEATH BY NEGLIGENCE                    0\n",
       "OTHER IPC CRIMES                               0\n",
       "TOTAL IPC CRIMES                               0\n",
       "CLUSTER                                        0\n",
       "CLUSTER NAME                                   0\n",
       "dtype: int64"
      ]
     },
     "execution_count": 46,
     "metadata": {},
     "output_type": "execute_result"
    }
   ],
   "source": [
    "selected_col.isnull().sum()"
   ]
  },
  {
   "cell_type": "code",
   "execution_count": 47,
   "id": "8301f7d8",
   "metadata": {},
   "outputs": [
    {
     "data": {
      "text/html": [
       "<div>\n",
       "<style scoped>\n",
       "    .dataframe tbody tr th:only-of-type {\n",
       "        vertical-align: middle;\n",
       "    }\n",
       "\n",
       "    .dataframe tbody tr th {\n",
       "        vertical-align: top;\n",
       "    }\n",
       "\n",
       "    .dataframe thead th {\n",
       "        text-align: right;\n",
       "    }\n",
       "</style>\n",
       "<table border=\"1\" class=\"dataframe\">\n",
       "  <thead>\n",
       "    <tr style=\"text-align: right;\">\n",
       "      <th></th>\n",
       "      <th>YEAR</th>\n",
       "      <th>MURDER</th>\n",
       "      <th>ATTEMPT TO MURDER</th>\n",
       "      <th>RAPE</th>\n",
       "      <th>CUSTODIAL RAPE</th>\n",
       "      <th>KIDNAPPING AND ABDUCTION OF WOMEN AND GIRLS</th>\n",
       "      <th>IMPORTATION OF GIRLS FROM FOREIGN COUNTRIES</th>\n",
       "      <th>CAUSING DEATH BY NEGLIGENCE</th>\n",
       "      <th>OTHER IPC CRIMES</th>\n",
       "      <th>TOTAL IPC CRIMES</th>\n",
       "      <th>CLUSTER</th>\n",
       "    </tr>\n",
       "  </thead>\n",
       "  <tbody>\n",
       "    <tr>\n",
       "      <th>count</th>\n",
       "      <td>150.000000</td>\n",
       "      <td>150.000000</td>\n",
       "      <td>150.000000</td>\n",
       "      <td>150.000000</td>\n",
       "      <td>150.000000</td>\n",
       "      <td>150.000000</td>\n",
       "      <td>150.000000</td>\n",
       "      <td>150.000000</td>\n",
       "      <td>150.000000</td>\n",
       "      <td>150.000000</td>\n",
       "      <td>150.0</td>\n",
       "    </tr>\n",
       "    <tr>\n",
       "      <th>mean</th>\n",
       "      <td>2007.540000</td>\n",
       "      <td>143.346667</td>\n",
       "      <td>142.066667</td>\n",
       "      <td>97.313333</td>\n",
       "      <td>0.006667</td>\n",
       "      <td>113.600000</td>\n",
       "      <td>0.300000</td>\n",
       "      <td>416.193333</td>\n",
       "      <td>7205.913333</td>\n",
       "      <td>17872.306667</td>\n",
       "      <td>2.0</td>\n",
       "    </tr>\n",
       "    <tr>\n",
       "      <th>std</th>\n",
       "      <td>3.467258</td>\n",
       "      <td>83.420016</td>\n",
       "      <td>115.611689</td>\n",
       "      <td>86.996963</td>\n",
       "      <td>0.081650</td>\n",
       "      <td>111.947315</td>\n",
       "      <td>1.097587</td>\n",
       "      <td>333.330694</td>\n",
       "      <td>3967.660667</td>\n",
       "      <td>6146.595588</td>\n",
       "      <td>0.0</td>\n",
       "    </tr>\n",
       "    <tr>\n",
       "      <th>min</th>\n",
       "      <td>2001.000000</td>\n",
       "      <td>4.000000</td>\n",
       "      <td>2.000000</td>\n",
       "      <td>12.000000</td>\n",
       "      <td>0.000000</td>\n",
       "      <td>2.000000</td>\n",
       "      <td>0.000000</td>\n",
       "      <td>0.000000</td>\n",
       "      <td>1397.000000</td>\n",
       "      <td>11765.000000</td>\n",
       "      <td>2.0</td>\n",
       "    </tr>\n",
       "    <tr>\n",
       "      <th>25%</th>\n",
       "      <td>2005.000000</td>\n",
       "      <td>85.000000</td>\n",
       "      <td>76.250000</td>\n",
       "      <td>46.000000</td>\n",
       "      <td>0.000000</td>\n",
       "      <td>38.250000</td>\n",
       "      <td>0.000000</td>\n",
       "      <td>158.250000</td>\n",
       "      <td>4684.000000</td>\n",
       "      <td>13605.250000</td>\n",
       "      <td>2.0</td>\n",
       "    </tr>\n",
       "    <tr>\n",
       "      <th>50%</th>\n",
       "      <td>2008.000000</td>\n",
       "      <td>122.500000</td>\n",
       "      <td>116.000000</td>\n",
       "      <td>69.000000</td>\n",
       "      <td>0.000000</td>\n",
       "      <td>75.500000</td>\n",
       "      <td>0.000000</td>\n",
       "      <td>408.000000</td>\n",
       "      <td>7270.000000</td>\n",
       "      <td>15475.000000</td>\n",
       "      <td>2.0</td>\n",
       "    </tr>\n",
       "    <tr>\n",
       "      <th>75%</th>\n",
       "      <td>2010.750000</td>\n",
       "      <td>212.750000</td>\n",
       "      <td>160.000000</td>\n",
       "      <td>105.500000</td>\n",
       "      <td>0.000000</td>\n",
       "      <td>146.000000</td>\n",
       "      <td>0.000000</td>\n",
       "      <td>565.000000</td>\n",
       "      <td>9171.000000</td>\n",
       "      <td>20065.500000</td>\n",
       "      <td>2.0</td>\n",
       "    </tr>\n",
       "    <tr>\n",
       "      <th>max</th>\n",
       "      <td>2012.000000</td>\n",
       "      <td>436.000000</td>\n",
       "      <td>637.000000</td>\n",
       "      <td>568.000000</td>\n",
       "      <td>1.000000</td>\n",
       "      <td>492.000000</td>\n",
       "      <td>9.000000</td>\n",
       "      <td>1431.000000</td>\n",
       "      <td>32452.000000</td>\n",
       "      <td>34638.000000</td>\n",
       "      <td>2.0</td>\n",
       "    </tr>\n",
       "  </tbody>\n",
       "</table>\n",
       "</div>"
      ],
      "text/plain": [
       "              YEAR      MURDER  ATTEMPT TO MURDER        RAPE  CUSTODIAL RAPE  \\\n",
       "count   150.000000  150.000000         150.000000  150.000000      150.000000   \n",
       "mean   2007.540000  143.346667         142.066667   97.313333        0.006667   \n",
       "std       3.467258   83.420016         115.611689   86.996963        0.081650   \n",
       "min    2001.000000    4.000000           2.000000   12.000000        0.000000   \n",
       "25%    2005.000000   85.000000          76.250000   46.000000        0.000000   \n",
       "50%    2008.000000  122.500000         116.000000   69.000000        0.000000   \n",
       "75%    2010.750000  212.750000         160.000000  105.500000        0.000000   \n",
       "max    2012.000000  436.000000         637.000000  568.000000        1.000000   \n",
       "\n",
       "       KIDNAPPING AND ABDUCTION OF WOMEN AND GIRLS  \\\n",
       "count                                   150.000000   \n",
       "mean                                    113.600000   \n",
       "std                                     111.947315   \n",
       "min                                       2.000000   \n",
       "25%                                      38.250000   \n",
       "50%                                      75.500000   \n",
       "75%                                     146.000000   \n",
       "max                                     492.000000   \n",
       "\n",
       "       IMPORTATION OF GIRLS FROM FOREIGN COUNTRIES  \\\n",
       "count                                   150.000000   \n",
       "mean                                      0.300000   \n",
       "std                                       1.097587   \n",
       "min                                       0.000000   \n",
       "25%                                       0.000000   \n",
       "50%                                       0.000000   \n",
       "75%                                       0.000000   \n",
       "max                                       9.000000   \n",
       "\n",
       "       CAUSING DEATH BY NEGLIGENCE  OTHER IPC CRIMES  TOTAL IPC CRIMES  \\\n",
       "count                   150.000000        150.000000        150.000000   \n",
       "mean                    416.193333       7205.913333      17872.306667   \n",
       "std                     333.330694       3967.660667       6146.595588   \n",
       "min                       0.000000       1397.000000      11765.000000   \n",
       "25%                     158.250000       4684.000000      13605.250000   \n",
       "50%                     408.000000       7270.000000      15475.000000   \n",
       "75%                     565.000000       9171.000000      20065.500000   \n",
       "max                    1431.000000      32452.000000      34638.000000   \n",
       "\n",
       "       CLUSTER  \n",
       "count    150.0  \n",
       "mean       2.0  \n",
       "std        0.0  \n",
       "min        2.0  \n",
       "25%        2.0  \n",
       "50%        2.0  \n",
       "75%        2.0  \n",
       "max        2.0  "
      ]
     },
     "execution_count": 47,
     "metadata": {},
     "output_type": "execute_result"
    }
   ],
   "source": [
    "selected_col.describe()"
   ]
  },
  {
   "cell_type": "markdown",
   "id": "4005df72",
   "metadata": {},
   "source": [
    "sensitive areas where total number of crimes above 11,000."
   ]
  },
  {
   "cell_type": "markdown",
   "id": "ab354741",
   "metadata": {},
   "source": [
    "# 2. What needs to be done to reduce crime. "
   ]
  },
  {
   "cell_type": "markdown",
   "id": "04b36471",
   "metadata": {},
   "source": [
    "FOLLOWING ARE SOME RECOMENDATION TO REDUCE CRIME IN ALL AREAS OF STATE\n",
    "---------------------------------------------------------------------------------\n",
    "1]Awareness campaigns and preventive measures should be implemented for \n",
    "specific crime categories showing concerning trends.\n",
    "2]Further investigation is needed to understand the factors contributing \n",
    "to the fluctuations in crime rates.\n",
    "3]Implement targeted interventions for specific \n",
    "crime categories showing consistent increases.\n",
    "4]Enhance community engagement and awareness programs to prevent \n",
    "crimes like dowry deaths and assault on women.\n",
    "5]Collaborate with law enforcement agencies to develop strategies for \n",
    "reducing attempted murders and other violent crimes.\n",
    "6]Collaborate with relevant authorities to develop targeted interventions \n",
    "based on the insights provided by the data.\n",
    "7]Strengthen law enforcement measures to address specific \n",
    "crime categories showing consistent increases.\n",
    "8]Establish a system for continuous monitoring and \n",
    "analysis of crime data for proactive interventions.\n",
    "9]Collaborate with non-governmental organizations(NGOs) to \n",
    "address the root causes of specific crimes.\n",
    "10]Collaborate with social organizations to address underlying\n",
    " issues contributing to certain crimes.\n",
    "11]Launch community engagement initiatives to enhance public \n",
    "awareness and participation in crime prevention.\n"
   ]
  },
  {
   "cell_type": "markdown",
   "id": "1fa502b5",
   "metadata": {},
   "source": [
    "# 3. Most safe and unsafe districts."
   ]
  },
  {
   "cell_type": "markdown",
   "id": "5690a37f",
   "metadata": {},
   "source": [
    "Most safe Districts\n",
    "--------------------------"
   ]
  },
  {
   "cell_type": "code",
   "execution_count": 48,
   "id": "f0eab4a7",
   "metadata": {},
   "outputs": [
    {
     "data": {
      "text/html": [
       "<div>\n",
       "<style scoped>\n",
       "    .dataframe tbody tr th:only-of-type {\n",
       "        vertical-align: middle;\n",
       "    }\n",
       "\n",
       "    .dataframe tbody tr th {\n",
       "        vertical-align: top;\n",
       "    }\n",
       "\n",
       "    .dataframe thead th {\n",
       "        text-align: right;\n",
       "    }\n",
       "</style>\n",
       "<table border=\"1\" class=\"dataframe\">\n",
       "  <thead>\n",
       "    <tr style=\"text-align: right;\">\n",
       "      <th></th>\n",
       "      <th>STATE/UT</th>\n",
       "      <th>DISTRICT</th>\n",
       "      <th>YEAR</th>\n",
       "      <th>MURDER</th>\n",
       "      <th>ATTEMPT TO MURDER</th>\n",
       "      <th>CULPABLE HOMICIDE NOT AMOUNTING TO MURDER</th>\n",
       "      <th>RAPE</th>\n",
       "      <th>CUSTODIAL RAPE</th>\n",
       "      <th>OTHER RAPE</th>\n",
       "      <th>KIDNAPPING &amp; ABDUCTION</th>\n",
       "      <th>...</th>\n",
       "      <th>DOWRY DEATHS</th>\n",
       "      <th>ASSAULT ON WOMEN WITH INTENT TO OUTRAGE HER MODESTY</th>\n",
       "      <th>INSULT TO MODESTY OF WOMEN</th>\n",
       "      <th>CRUELTY BY HUSBAND OR HIS RELATIVES</th>\n",
       "      <th>IMPORTATION OF GIRLS FROM FOREIGN COUNTRIES</th>\n",
       "      <th>CAUSING DEATH BY NEGLIGENCE</th>\n",
       "      <th>OTHER IPC CRIMES</th>\n",
       "      <th>TOTAL IPC CRIMES</th>\n",
       "      <th>CLUSTER</th>\n",
       "      <th>CLUSTER NAME</th>\n",
       "    </tr>\n",
       "  </thead>\n",
       "  <tbody>\n",
       "    <tr>\n",
       "      <th>0</th>\n",
       "      <td>DELHI UT</td>\n",
       "      <td>S.T.F.</td>\n",
       "      <td>2001</td>\n",
       "      <td>0</td>\n",
       "      <td>0</td>\n",
       "      <td>0</td>\n",
       "      <td>0</td>\n",
       "      <td>0</td>\n",
       "      <td>0</td>\n",
       "      <td>0</td>\n",
       "      <td>...</td>\n",
       "      <td>0</td>\n",
       "      <td>0</td>\n",
       "      <td>0</td>\n",
       "      <td>0</td>\n",
       "      <td>0</td>\n",
       "      <td>0</td>\n",
       "      <td>0</td>\n",
       "      <td>0</td>\n",
       "      <td>0</td>\n",
       "      <td>Peaceful Areas</td>\n",
       "    </tr>\n",
       "    <tr>\n",
       "      <th>1</th>\n",
       "      <td>DELHI UT</td>\n",
       "      <td>S.T.F.</td>\n",
       "      <td>2002</td>\n",
       "      <td>0</td>\n",
       "      <td>0</td>\n",
       "      <td>0</td>\n",
       "      <td>0</td>\n",
       "      <td>0</td>\n",
       "      <td>0</td>\n",
       "      <td>0</td>\n",
       "      <td>...</td>\n",
       "      <td>0</td>\n",
       "      <td>0</td>\n",
       "      <td>0</td>\n",
       "      <td>0</td>\n",
       "      <td>0</td>\n",
       "      <td>0</td>\n",
       "      <td>0</td>\n",
       "      <td>0</td>\n",
       "      <td>0</td>\n",
       "      <td>Peaceful Areas</td>\n",
       "    </tr>\n",
       "    <tr>\n",
       "      <th>2</th>\n",
       "      <td>HIMACHAL PRADESH</td>\n",
       "      <td>G.R.P.</td>\n",
       "      <td>2003</td>\n",
       "      <td>0</td>\n",
       "      <td>0</td>\n",
       "      <td>0</td>\n",
       "      <td>0</td>\n",
       "      <td>0</td>\n",
       "      <td>0</td>\n",
       "      <td>0</td>\n",
       "      <td>...</td>\n",
       "      <td>0</td>\n",
       "      <td>0</td>\n",
       "      <td>0</td>\n",
       "      <td>0</td>\n",
       "      <td>0</td>\n",
       "      <td>0</td>\n",
       "      <td>1</td>\n",
       "      <td>1</td>\n",
       "      <td>0</td>\n",
       "      <td>Peaceful Areas</td>\n",
       "    </tr>\n",
       "    <tr>\n",
       "      <th>3</th>\n",
       "      <td>MANIPUR</td>\n",
       "      <td>CID</td>\n",
       "      <td>2009</td>\n",
       "      <td>0</td>\n",
       "      <td>0</td>\n",
       "      <td>0</td>\n",
       "      <td>0</td>\n",
       "      <td>0</td>\n",
       "      <td>0</td>\n",
       "      <td>0</td>\n",
       "      <td>...</td>\n",
       "      <td>0</td>\n",
       "      <td>0</td>\n",
       "      <td>0</td>\n",
       "      <td>0</td>\n",
       "      <td>0</td>\n",
       "      <td>0</td>\n",
       "      <td>0</td>\n",
       "      <td>1</td>\n",
       "      <td>0</td>\n",
       "      <td>Peaceful Areas</td>\n",
       "    </tr>\n",
       "    <tr>\n",
       "      <th>4</th>\n",
       "      <td>MANIPUR</td>\n",
       "      <td>CID</td>\n",
       "      <td>2008</td>\n",
       "      <td>0</td>\n",
       "      <td>0</td>\n",
       "      <td>0</td>\n",
       "      <td>0</td>\n",
       "      <td>0</td>\n",
       "      <td>0</td>\n",
       "      <td>0</td>\n",
       "      <td>...</td>\n",
       "      <td>0</td>\n",
       "      <td>0</td>\n",
       "      <td>0</td>\n",
       "      <td>0</td>\n",
       "      <td>0</td>\n",
       "      <td>0</td>\n",
       "      <td>0</td>\n",
       "      <td>2</td>\n",
       "      <td>0</td>\n",
       "      <td>Peaceful Areas</td>\n",
       "    </tr>\n",
       "    <tr>\n",
       "      <th>...</th>\n",
       "      <td>...</td>\n",
       "      <td>...</td>\n",
       "      <td>...</td>\n",
       "      <td>...</td>\n",
       "      <td>...</td>\n",
       "      <td>...</td>\n",
       "      <td>...</td>\n",
       "      <td>...</td>\n",
       "      <td>...</td>\n",
       "      <td>...</td>\n",
       "      <td>...</td>\n",
       "      <td>...</td>\n",
       "      <td>...</td>\n",
       "      <td>...</td>\n",
       "      <td>...</td>\n",
       "      <td>...</td>\n",
       "      <td>...</td>\n",
       "      <td>...</td>\n",
       "      <td>...</td>\n",
       "      <td>...</td>\n",
       "      <td>...</td>\n",
       "    </tr>\n",
       "    <tr>\n",
       "      <th>6059</th>\n",
       "      <td>TAMIL NADU</td>\n",
       "      <td>MADURAI URBAN</td>\n",
       "      <td>2005</td>\n",
       "      <td>21</td>\n",
       "      <td>40</td>\n",
       "      <td>0</td>\n",
       "      <td>5</td>\n",
       "      <td>0</td>\n",
       "      <td>5</td>\n",
       "      <td>20</td>\n",
       "      <td>...</td>\n",
       "      <td>3</td>\n",
       "      <td>28</td>\n",
       "      <td>29</td>\n",
       "      <td>43</td>\n",
       "      <td>0</td>\n",
       "      <td>112</td>\n",
       "      <td>2075</td>\n",
       "      <td>3384</td>\n",
       "      <td>0</td>\n",
       "      <td>Peaceful Areas</td>\n",
       "    </tr>\n",
       "    <tr>\n",
       "      <th>6060</th>\n",
       "      <td>BIHAR</td>\n",
       "      <td>BEGUSARAI</td>\n",
       "      <td>2009</td>\n",
       "      <td>109</td>\n",
       "      <td>237</td>\n",
       "      <td>1</td>\n",
       "      <td>12</td>\n",
       "      <td>0</td>\n",
       "      <td>12</td>\n",
       "      <td>79</td>\n",
       "      <td>...</td>\n",
       "      <td>46</td>\n",
       "      <td>10</td>\n",
       "      <td>0</td>\n",
       "      <td>47</td>\n",
       "      <td>2</td>\n",
       "      <td>234</td>\n",
       "      <td>1386</td>\n",
       "      <td>3387</td>\n",
       "      <td>0</td>\n",
       "      <td>Peaceful Areas</td>\n",
       "    </tr>\n",
       "    <tr>\n",
       "      <th>6061</th>\n",
       "      <td>BIHAR</td>\n",
       "      <td>DARBHANGA</td>\n",
       "      <td>2007</td>\n",
       "      <td>72</td>\n",
       "      <td>109</td>\n",
       "      <td>5</td>\n",
       "      <td>47</td>\n",
       "      <td>0</td>\n",
       "      <td>47</td>\n",
       "      <td>91</td>\n",
       "      <td>...</td>\n",
       "      <td>39</td>\n",
       "      <td>41</td>\n",
       "      <td>0</td>\n",
       "      <td>59</td>\n",
       "      <td>0</td>\n",
       "      <td>84</td>\n",
       "      <td>2012</td>\n",
       "      <td>3388</td>\n",
       "      <td>0</td>\n",
       "      <td>Peaceful Areas</td>\n",
       "    </tr>\n",
       "    <tr>\n",
       "      <th>6062</th>\n",
       "      <td>MADHYA PRADESH</td>\n",
       "      <td>SIHORE</td>\n",
       "      <td>2001</td>\n",
       "      <td>35</td>\n",
       "      <td>54</td>\n",
       "      <td>1</td>\n",
       "      <td>59</td>\n",
       "      <td>0</td>\n",
       "      <td>59</td>\n",
       "      <td>29</td>\n",
       "      <td>...</td>\n",
       "      <td>5</td>\n",
       "      <td>130</td>\n",
       "      <td>17</td>\n",
       "      <td>45</td>\n",
       "      <td>0</td>\n",
       "      <td>68</td>\n",
       "      <td>1755</td>\n",
       "      <td>3389</td>\n",
       "      <td>0</td>\n",
       "      <td>Peaceful Areas</td>\n",
       "    </tr>\n",
       "    <tr>\n",
       "      <th>6063</th>\n",
       "      <td>RAJASTHAN</td>\n",
       "      <td>BARMER</td>\n",
       "      <td>2011</td>\n",
       "      <td>29</td>\n",
       "      <td>27</td>\n",
       "      <td>0</td>\n",
       "      <td>21</td>\n",
       "      <td>0</td>\n",
       "      <td>21</td>\n",
       "      <td>34</td>\n",
       "      <td>...</td>\n",
       "      <td>27</td>\n",
       "      <td>36</td>\n",
       "      <td>0</td>\n",
       "      <td>201</td>\n",
       "      <td>0</td>\n",
       "      <td>225</td>\n",
       "      <td>1682</td>\n",
       "      <td>3392</td>\n",
       "      <td>0</td>\n",
       "      <td>Peaceful Areas</td>\n",
       "    </tr>\n",
       "  </tbody>\n",
       "</table>\n",
       "<p>6064 rows × 35 columns</p>\n",
       "</div>"
      ],
      "text/plain": [
       "              STATE/UT       DISTRICT  YEAR  MURDER  ATTEMPT TO MURDER  \\\n",
       "0             DELHI UT         S.T.F.  2001       0                  0   \n",
       "1             DELHI UT         S.T.F.  2002       0                  0   \n",
       "2     HIMACHAL PRADESH         G.R.P.  2003       0                  0   \n",
       "3              MANIPUR            CID  2009       0                  0   \n",
       "4              MANIPUR            CID  2008       0                  0   \n",
       "...                ...            ...   ...     ...                ...   \n",
       "6059        TAMIL NADU  MADURAI URBAN  2005      21                 40   \n",
       "6060             BIHAR      BEGUSARAI  2009     109                237   \n",
       "6061             BIHAR      DARBHANGA  2007      72                109   \n",
       "6062    MADHYA PRADESH         SIHORE  2001      35                 54   \n",
       "6063         RAJASTHAN         BARMER  2011      29                 27   \n",
       "\n",
       "      CULPABLE HOMICIDE NOT AMOUNTING TO MURDER  RAPE  CUSTODIAL RAPE  \\\n",
       "0                                             0     0               0   \n",
       "1                                             0     0               0   \n",
       "2                                             0     0               0   \n",
       "3                                             0     0               0   \n",
       "4                                             0     0               0   \n",
       "...                                         ...   ...             ...   \n",
       "6059                                          0     5               0   \n",
       "6060                                          1    12               0   \n",
       "6061                                          5    47               0   \n",
       "6062                                          1    59               0   \n",
       "6063                                          0    21               0   \n",
       "\n",
       "      OTHER RAPE  KIDNAPPING & ABDUCTION  ...  DOWRY DEATHS  \\\n",
       "0              0                       0  ...             0   \n",
       "1              0                       0  ...             0   \n",
       "2              0                       0  ...             0   \n",
       "3              0                       0  ...             0   \n",
       "4              0                       0  ...             0   \n",
       "...          ...                     ...  ...           ...   \n",
       "6059           5                      20  ...             3   \n",
       "6060          12                      79  ...            46   \n",
       "6061          47                      91  ...            39   \n",
       "6062          59                      29  ...             5   \n",
       "6063          21                      34  ...            27   \n",
       "\n",
       "      ASSAULT ON WOMEN WITH INTENT TO OUTRAGE HER MODESTY  \\\n",
       "0                                                     0     \n",
       "1                                                     0     \n",
       "2                                                     0     \n",
       "3                                                     0     \n",
       "4                                                     0     \n",
       "...                                                 ...     \n",
       "6059                                                 28     \n",
       "6060                                                 10     \n",
       "6061                                                 41     \n",
       "6062                                                130     \n",
       "6063                                                 36     \n",
       "\n",
       "      INSULT TO MODESTY OF WOMEN  CRUELTY BY HUSBAND OR HIS RELATIVES  \\\n",
       "0                              0                                    0   \n",
       "1                              0                                    0   \n",
       "2                              0                                    0   \n",
       "3                              0                                    0   \n",
       "4                              0                                    0   \n",
       "...                          ...                                  ...   \n",
       "6059                          29                                   43   \n",
       "6060                           0                                   47   \n",
       "6061                           0                                   59   \n",
       "6062                          17                                   45   \n",
       "6063                           0                                  201   \n",
       "\n",
       "      IMPORTATION OF GIRLS FROM FOREIGN COUNTRIES  \\\n",
       "0                                               0   \n",
       "1                                               0   \n",
       "2                                               0   \n",
       "3                                               0   \n",
       "4                                               0   \n",
       "...                                           ...   \n",
       "6059                                            0   \n",
       "6060                                            2   \n",
       "6061                                            0   \n",
       "6062                                            0   \n",
       "6063                                            0   \n",
       "\n",
       "      CAUSING DEATH BY NEGLIGENCE  OTHER IPC CRIMES  TOTAL IPC CRIMES  \\\n",
       "0                               0                 0                 0   \n",
       "1                               0                 0                 0   \n",
       "2                               0                 1                 1   \n",
       "3                               0                 0                 1   \n",
       "4                               0                 0                 2   \n",
       "...                           ...               ...               ...   \n",
       "6059                          112              2075              3384   \n",
       "6060                          234              1386              3387   \n",
       "6061                           84              2012              3388   \n",
       "6062                           68              1755              3389   \n",
       "6063                          225              1682              3392   \n",
       "\n",
       "      CLUSTER    CLUSTER NAME  \n",
       "0           0  Peaceful Areas  \n",
       "1           0  Peaceful Areas  \n",
       "2           0  Peaceful Areas  \n",
       "3           0  Peaceful Areas  \n",
       "4           0  Peaceful Areas  \n",
       "...       ...             ...  \n",
       "6059        0  Peaceful Areas  \n",
       "6060        0  Peaceful Areas  \n",
       "6061        0  Peaceful Areas  \n",
       "6062        0  Peaceful Areas  \n",
       "6063        0  Peaceful Areas  \n",
       "\n",
       "[6064 rows x 35 columns]"
      ]
     },
     "execution_count": 48,
     "metadata": {},
     "output_type": "execute_result"
    }
   ],
   "source": [
    "peaceful_df = pd.read_csv('C:\\\\Users\\\\SNEHAL\\\\Downloads\\\\Capstone-Project-File\\\\peaceful_area.csv')\n",
    "peaceful_df"
   ]
  },
  {
   "cell_type": "code",
   "execution_count": 53,
   "id": "f1017689",
   "metadata": {},
   "outputs": [],
   "source": [
    "top_20_districts = peaceful_df.nsmallest(20, 'TOTAL IPC CRIMES')"
   ]
  },
  {
   "cell_type": "code",
   "execution_count": 54,
   "id": "a8e49bda",
   "metadata": {},
   "outputs": [
    {
     "data": {
      "application/vnd.plotly.v1+json": {
       "config": {
        "plotlyServerURL": "https://plot.ly"
       },
       "data": [
        {
         "alignmentgroup": "True",
         "hovertemplate": "DISTRICT=%{x}<br>TOTAL IPC CRIMES=%{y}<extra></extra>",
         "legendgroup": "",
         "marker": {
          "color": "blue",
          "pattern": {
           "shape": ""
          }
         },
         "name": "",
         "offsetgroup": "",
         "orientation": "v",
         "showlegend": false,
         "textposition": "auto",
         "type": "bar",
         "x": [
          "S.T.F.",
          "S.T.F.",
          "G.R.P.",
          "CID",
          "CID",
          "CID",
          "CID",
          "CID",
          "CID",
          "RAILWAYS KATRA",
          "CID",
          "G.R.P.",
          "G.R.P.",
          "UPPER DIBANG VALLEY",
          "CID",
          "UPPER DIBANG VALLEY",
          "CID",
          "G.R.P.",
          "G.R.P.",
          "STF"
         ],
         "xaxis": "x",
         "y": [
          0,
          0,
          1,
          1,
          2,
          2,
          2,
          2,
          2,
          2,
          2,
          4,
          4,
          5,
          5,
          5,
          5,
          6,
          6,
          6
         ],
         "yaxis": "y"
        }
       ],
       "layout": {
        "barmode": "relative",
        "legend": {
         "tracegroupgap": 0
        },
        "template": {
         "data": {
          "bar": [
           {
            "error_x": {
             "color": "#f2f5fa"
            },
            "error_y": {
             "color": "#f2f5fa"
            },
            "marker": {
             "line": {
              "color": "rgb(17,17,17)",
              "width": 0.5
             },
             "pattern": {
              "fillmode": "overlay",
              "size": 10,
              "solidity": 0.2
             }
            },
            "type": "bar"
           }
          ],
          "barpolar": [
           {
            "marker": {
             "line": {
              "color": "rgb(17,17,17)",
              "width": 0.5
             },
             "pattern": {
              "fillmode": "overlay",
              "size": 10,
              "solidity": 0.2
             }
            },
            "type": "barpolar"
           }
          ],
          "carpet": [
           {
            "aaxis": {
             "endlinecolor": "#A2B1C6",
             "gridcolor": "#506784",
             "linecolor": "#506784",
             "minorgridcolor": "#506784",
             "startlinecolor": "#A2B1C6"
            },
            "baxis": {
             "endlinecolor": "#A2B1C6",
             "gridcolor": "#506784",
             "linecolor": "#506784",
             "minorgridcolor": "#506784",
             "startlinecolor": "#A2B1C6"
            },
            "type": "carpet"
           }
          ],
          "choropleth": [
           {
            "colorbar": {
             "outlinewidth": 0,
             "ticks": ""
            },
            "type": "choropleth"
           }
          ],
          "contour": [
           {
            "colorbar": {
             "outlinewidth": 0,
             "ticks": ""
            },
            "colorscale": [
             [
              0,
              "#0d0887"
             ],
             [
              0.1111111111111111,
              "#46039f"
             ],
             [
              0.2222222222222222,
              "#7201a8"
             ],
             [
              0.3333333333333333,
              "#9c179e"
             ],
             [
              0.4444444444444444,
              "#bd3786"
             ],
             [
              0.5555555555555556,
              "#d8576b"
             ],
             [
              0.6666666666666666,
              "#ed7953"
             ],
             [
              0.7777777777777778,
              "#fb9f3a"
             ],
             [
              0.8888888888888888,
              "#fdca26"
             ],
             [
              1,
              "#f0f921"
             ]
            ],
            "type": "contour"
           }
          ],
          "contourcarpet": [
           {
            "colorbar": {
             "outlinewidth": 0,
             "ticks": ""
            },
            "type": "contourcarpet"
           }
          ],
          "heatmap": [
           {
            "colorbar": {
             "outlinewidth": 0,
             "ticks": ""
            },
            "colorscale": [
             [
              0,
              "#0d0887"
             ],
             [
              0.1111111111111111,
              "#46039f"
             ],
             [
              0.2222222222222222,
              "#7201a8"
             ],
             [
              0.3333333333333333,
              "#9c179e"
             ],
             [
              0.4444444444444444,
              "#bd3786"
             ],
             [
              0.5555555555555556,
              "#d8576b"
             ],
             [
              0.6666666666666666,
              "#ed7953"
             ],
             [
              0.7777777777777778,
              "#fb9f3a"
             ],
             [
              0.8888888888888888,
              "#fdca26"
             ],
             [
              1,
              "#f0f921"
             ]
            ],
            "type": "heatmap"
           }
          ],
          "heatmapgl": [
           {
            "colorbar": {
             "outlinewidth": 0,
             "ticks": ""
            },
            "colorscale": [
             [
              0,
              "#0d0887"
             ],
             [
              0.1111111111111111,
              "#46039f"
             ],
             [
              0.2222222222222222,
              "#7201a8"
             ],
             [
              0.3333333333333333,
              "#9c179e"
             ],
             [
              0.4444444444444444,
              "#bd3786"
             ],
             [
              0.5555555555555556,
              "#d8576b"
             ],
             [
              0.6666666666666666,
              "#ed7953"
             ],
             [
              0.7777777777777778,
              "#fb9f3a"
             ],
             [
              0.8888888888888888,
              "#fdca26"
             ],
             [
              1,
              "#f0f921"
             ]
            ],
            "type": "heatmapgl"
           }
          ],
          "histogram": [
           {
            "marker": {
             "pattern": {
              "fillmode": "overlay",
              "size": 10,
              "solidity": 0.2
             }
            },
            "type": "histogram"
           }
          ],
          "histogram2d": [
           {
            "colorbar": {
             "outlinewidth": 0,
             "ticks": ""
            },
            "colorscale": [
             [
              0,
              "#0d0887"
             ],
             [
              0.1111111111111111,
              "#46039f"
             ],
             [
              0.2222222222222222,
              "#7201a8"
             ],
             [
              0.3333333333333333,
              "#9c179e"
             ],
             [
              0.4444444444444444,
              "#bd3786"
             ],
             [
              0.5555555555555556,
              "#d8576b"
             ],
             [
              0.6666666666666666,
              "#ed7953"
             ],
             [
              0.7777777777777778,
              "#fb9f3a"
             ],
             [
              0.8888888888888888,
              "#fdca26"
             ],
             [
              1,
              "#f0f921"
             ]
            ],
            "type": "histogram2d"
           }
          ],
          "histogram2dcontour": [
           {
            "colorbar": {
             "outlinewidth": 0,
             "ticks": ""
            },
            "colorscale": [
             [
              0,
              "#0d0887"
             ],
             [
              0.1111111111111111,
              "#46039f"
             ],
             [
              0.2222222222222222,
              "#7201a8"
             ],
             [
              0.3333333333333333,
              "#9c179e"
             ],
             [
              0.4444444444444444,
              "#bd3786"
             ],
             [
              0.5555555555555556,
              "#d8576b"
             ],
             [
              0.6666666666666666,
              "#ed7953"
             ],
             [
              0.7777777777777778,
              "#fb9f3a"
             ],
             [
              0.8888888888888888,
              "#fdca26"
             ],
             [
              1,
              "#f0f921"
             ]
            ],
            "type": "histogram2dcontour"
           }
          ],
          "mesh3d": [
           {
            "colorbar": {
             "outlinewidth": 0,
             "ticks": ""
            },
            "type": "mesh3d"
           }
          ],
          "parcoords": [
           {
            "line": {
             "colorbar": {
              "outlinewidth": 0,
              "ticks": ""
             }
            },
            "type": "parcoords"
           }
          ],
          "pie": [
           {
            "automargin": true,
            "type": "pie"
           }
          ],
          "scatter": [
           {
            "marker": {
             "line": {
              "color": "#283442"
             }
            },
            "type": "scatter"
           }
          ],
          "scatter3d": [
           {
            "line": {
             "colorbar": {
              "outlinewidth": 0,
              "ticks": ""
             }
            },
            "marker": {
             "colorbar": {
              "outlinewidth": 0,
              "ticks": ""
             }
            },
            "type": "scatter3d"
           }
          ],
          "scattercarpet": [
           {
            "marker": {
             "colorbar": {
              "outlinewidth": 0,
              "ticks": ""
             }
            },
            "type": "scattercarpet"
           }
          ],
          "scattergeo": [
           {
            "marker": {
             "colorbar": {
              "outlinewidth": 0,
              "ticks": ""
             }
            },
            "type": "scattergeo"
           }
          ],
          "scattergl": [
           {
            "marker": {
             "line": {
              "color": "#283442"
             }
            },
            "type": "scattergl"
           }
          ],
          "scattermapbox": [
           {
            "marker": {
             "colorbar": {
              "outlinewidth": 0,
              "ticks": ""
             }
            },
            "type": "scattermapbox"
           }
          ],
          "scatterpolar": [
           {
            "marker": {
             "colorbar": {
              "outlinewidth": 0,
              "ticks": ""
             }
            },
            "type": "scatterpolar"
           }
          ],
          "scatterpolargl": [
           {
            "marker": {
             "colorbar": {
              "outlinewidth": 0,
              "ticks": ""
             }
            },
            "type": "scatterpolargl"
           }
          ],
          "scatterternary": [
           {
            "marker": {
             "colorbar": {
              "outlinewidth": 0,
              "ticks": ""
             }
            },
            "type": "scatterternary"
           }
          ],
          "surface": [
           {
            "colorbar": {
             "outlinewidth": 0,
             "ticks": ""
            },
            "colorscale": [
             [
              0,
              "#0d0887"
             ],
             [
              0.1111111111111111,
              "#46039f"
             ],
             [
              0.2222222222222222,
              "#7201a8"
             ],
             [
              0.3333333333333333,
              "#9c179e"
             ],
             [
              0.4444444444444444,
              "#bd3786"
             ],
             [
              0.5555555555555556,
              "#d8576b"
             ],
             [
              0.6666666666666666,
              "#ed7953"
             ],
             [
              0.7777777777777778,
              "#fb9f3a"
             ],
             [
              0.8888888888888888,
              "#fdca26"
             ],
             [
              1,
              "#f0f921"
             ]
            ],
            "type": "surface"
           }
          ],
          "table": [
           {
            "cells": {
             "fill": {
              "color": "#506784"
             },
             "line": {
              "color": "rgb(17,17,17)"
             }
            },
            "header": {
             "fill": {
              "color": "#2a3f5f"
             },
             "line": {
              "color": "rgb(17,17,17)"
             }
            },
            "type": "table"
           }
          ]
         },
         "layout": {
          "annotationdefaults": {
           "arrowcolor": "#f2f5fa",
           "arrowhead": 0,
           "arrowwidth": 1
          },
          "autotypenumbers": "strict",
          "coloraxis": {
           "colorbar": {
            "outlinewidth": 0,
            "ticks": ""
           }
          },
          "colorscale": {
           "diverging": [
            [
             0,
             "#8e0152"
            ],
            [
             0.1,
             "#c51b7d"
            ],
            [
             0.2,
             "#de77ae"
            ],
            [
             0.3,
             "#f1b6da"
            ],
            [
             0.4,
             "#fde0ef"
            ],
            [
             0.5,
             "#f7f7f7"
            ],
            [
             0.6,
             "#e6f5d0"
            ],
            [
             0.7,
             "#b8e186"
            ],
            [
             0.8,
             "#7fbc41"
            ],
            [
             0.9,
             "#4d9221"
            ],
            [
             1,
             "#276419"
            ]
           ],
           "sequential": [
            [
             0,
             "#0d0887"
            ],
            [
             0.1111111111111111,
             "#46039f"
            ],
            [
             0.2222222222222222,
             "#7201a8"
            ],
            [
             0.3333333333333333,
             "#9c179e"
            ],
            [
             0.4444444444444444,
             "#bd3786"
            ],
            [
             0.5555555555555556,
             "#d8576b"
            ],
            [
             0.6666666666666666,
             "#ed7953"
            ],
            [
             0.7777777777777778,
             "#fb9f3a"
            ],
            [
             0.8888888888888888,
             "#fdca26"
            ],
            [
             1,
             "#f0f921"
            ]
           ],
           "sequentialminus": [
            [
             0,
             "#0d0887"
            ],
            [
             0.1111111111111111,
             "#46039f"
            ],
            [
             0.2222222222222222,
             "#7201a8"
            ],
            [
             0.3333333333333333,
             "#9c179e"
            ],
            [
             0.4444444444444444,
             "#bd3786"
            ],
            [
             0.5555555555555556,
             "#d8576b"
            ],
            [
             0.6666666666666666,
             "#ed7953"
            ],
            [
             0.7777777777777778,
             "#fb9f3a"
            ],
            [
             0.8888888888888888,
             "#fdca26"
            ],
            [
             1,
             "#f0f921"
            ]
           ]
          },
          "colorway": [
           "#636efa",
           "#EF553B",
           "#00cc96",
           "#ab63fa",
           "#FFA15A",
           "#19d3f3",
           "#FF6692",
           "#B6E880",
           "#FF97FF",
           "#FECB52"
          ],
          "font": {
           "color": "#f2f5fa"
          },
          "geo": {
           "bgcolor": "rgb(17,17,17)",
           "lakecolor": "rgb(17,17,17)",
           "landcolor": "rgb(17,17,17)",
           "showlakes": true,
           "showland": true,
           "subunitcolor": "#506784"
          },
          "hoverlabel": {
           "align": "left"
          },
          "hovermode": "closest",
          "mapbox": {
           "style": "dark"
          },
          "paper_bgcolor": "rgb(17,17,17)",
          "plot_bgcolor": "rgb(17,17,17)",
          "polar": {
           "angularaxis": {
            "gridcolor": "#506784",
            "linecolor": "#506784",
            "ticks": ""
           },
           "bgcolor": "rgb(17,17,17)",
           "radialaxis": {
            "gridcolor": "#506784",
            "linecolor": "#506784",
            "ticks": ""
           }
          },
          "scene": {
           "xaxis": {
            "backgroundcolor": "rgb(17,17,17)",
            "gridcolor": "#506784",
            "gridwidth": 2,
            "linecolor": "#506784",
            "showbackground": true,
            "ticks": "",
            "zerolinecolor": "#C8D4E3"
           },
           "yaxis": {
            "backgroundcolor": "rgb(17,17,17)",
            "gridcolor": "#506784",
            "gridwidth": 2,
            "linecolor": "#506784",
            "showbackground": true,
            "ticks": "",
            "zerolinecolor": "#C8D4E3"
           },
           "zaxis": {
            "backgroundcolor": "rgb(17,17,17)",
            "gridcolor": "#506784",
            "gridwidth": 2,
            "linecolor": "#506784",
            "showbackground": true,
            "ticks": "",
            "zerolinecolor": "#C8D4E3"
           }
          },
          "shapedefaults": {
           "line": {
            "color": "#f2f5fa"
           }
          },
          "sliderdefaults": {
           "bgcolor": "#C8D4E3",
           "bordercolor": "rgb(17,17,17)",
           "borderwidth": 1,
           "tickwidth": 0
          },
          "ternary": {
           "aaxis": {
            "gridcolor": "#506784",
            "linecolor": "#506784",
            "ticks": ""
           },
           "baxis": {
            "gridcolor": "#506784",
            "linecolor": "#506784",
            "ticks": ""
           },
           "bgcolor": "rgb(17,17,17)",
           "caxis": {
            "gridcolor": "#506784",
            "linecolor": "#506784",
            "ticks": ""
           }
          },
          "title": {
           "x": 0.05
          },
          "updatemenudefaults": {
           "bgcolor": "#506784",
           "borderwidth": 0
          },
          "xaxis": {
           "automargin": true,
           "gridcolor": "#283442",
           "linecolor": "#506784",
           "ticks": "",
           "title": {
            "standoff": 15
           },
           "zerolinecolor": "#283442",
           "zerolinewidth": 2
          },
          "yaxis": {
           "automargin": true,
           "gridcolor": "#283442",
           "linecolor": "#506784",
           "ticks": "",
           "title": {
            "standoff": 15
           },
           "zerolinecolor": "#283442",
           "zerolinewidth": 2
          }
         }
        },
        "title": {
         "text": "Most Safe District"
        },
        "xaxis": {
         "anchor": "y",
         "domain": [
          0,
          1
         ],
         "title": {
          "text": "District"
         }
        },
        "yaxis": {
         "anchor": "x",
         "domain": [
          0,
          1
         ],
         "title": {
          "text": "Crimes"
         }
        }
       }
      },
      "text/html": [
       "<div>                            <div id=\"40e15ee1-df81-4d51-b081-845ca651f55b\" class=\"plotly-graph-div\" style=\"height:525px; width:100%;\"></div>            <script type=\"text/javascript\">                require([\"plotly\"], function(Plotly) {                    window.PLOTLYENV=window.PLOTLYENV || {};                                    if (document.getElementById(\"40e15ee1-df81-4d51-b081-845ca651f55b\")) {                    Plotly.newPlot(                        \"40e15ee1-df81-4d51-b081-845ca651f55b\",                        [{\"alignmentgroup\":\"True\",\"hovertemplate\":\"DISTRICT=%{x}<br>TOTAL IPC CRIMES=%{y}<extra></extra>\",\"legendgroup\":\"\",\"marker\":{\"color\":\"blue\",\"pattern\":{\"shape\":\"\"}},\"name\":\"\",\"offsetgroup\":\"\",\"orientation\":\"v\",\"showlegend\":false,\"textposition\":\"auto\",\"x\":[\"S.T.F.\",\"S.T.F.\",\"G.R.P.\",\"CID\",\"CID\",\"CID\",\"CID\",\"CID\",\"CID\",\"RAILWAYS KATRA\",\"CID\",\"G.R.P.\",\"G.R.P.\",\"UPPER DIBANG VALLEY\",\"CID\",\"UPPER DIBANG VALLEY\",\"CID\",\"G.R.P.\",\"G.R.P.\",\"STF\"],\"xaxis\":\"x\",\"y\":[0,0,1,1,2,2,2,2,2,2,2,4,4,5,5,5,5,6,6,6],\"yaxis\":\"y\",\"type\":\"bar\"}],                        {\"template\":{\"data\":{\"barpolar\":[{\"marker\":{\"line\":{\"color\":\"rgb(17,17,17)\",\"width\":0.5},\"pattern\":{\"fillmode\":\"overlay\",\"size\":10,\"solidity\":0.2}},\"type\":\"barpolar\"}],\"bar\":[{\"error_x\":{\"color\":\"#f2f5fa\"},\"error_y\":{\"color\":\"#f2f5fa\"},\"marker\":{\"line\":{\"color\":\"rgb(17,17,17)\",\"width\":0.5},\"pattern\":{\"fillmode\":\"overlay\",\"size\":10,\"solidity\":0.2}},\"type\":\"bar\"}],\"carpet\":[{\"aaxis\":{\"endlinecolor\":\"#A2B1C6\",\"gridcolor\":\"#506784\",\"linecolor\":\"#506784\",\"minorgridcolor\":\"#506784\",\"startlinecolor\":\"#A2B1C6\"},\"baxis\":{\"endlinecolor\":\"#A2B1C6\",\"gridcolor\":\"#506784\",\"linecolor\":\"#506784\",\"minorgridcolor\":\"#506784\",\"startlinecolor\":\"#A2B1C6\"},\"type\":\"carpet\"}],\"choropleth\":[{\"colorbar\":{\"outlinewidth\":0,\"ticks\":\"\"},\"type\":\"choropleth\"}],\"contourcarpet\":[{\"colorbar\":{\"outlinewidth\":0,\"ticks\":\"\"},\"type\":\"contourcarpet\"}],\"contour\":[{\"colorbar\":{\"outlinewidth\":0,\"ticks\":\"\"},\"colorscale\":[[0.0,\"#0d0887\"],[0.1111111111111111,\"#46039f\"],[0.2222222222222222,\"#7201a8\"],[0.3333333333333333,\"#9c179e\"],[0.4444444444444444,\"#bd3786\"],[0.5555555555555556,\"#d8576b\"],[0.6666666666666666,\"#ed7953\"],[0.7777777777777778,\"#fb9f3a\"],[0.8888888888888888,\"#fdca26\"],[1.0,\"#f0f921\"]],\"type\":\"contour\"}],\"heatmapgl\":[{\"colorbar\":{\"outlinewidth\":0,\"ticks\":\"\"},\"colorscale\":[[0.0,\"#0d0887\"],[0.1111111111111111,\"#46039f\"],[0.2222222222222222,\"#7201a8\"],[0.3333333333333333,\"#9c179e\"],[0.4444444444444444,\"#bd3786\"],[0.5555555555555556,\"#d8576b\"],[0.6666666666666666,\"#ed7953\"],[0.7777777777777778,\"#fb9f3a\"],[0.8888888888888888,\"#fdca26\"],[1.0,\"#f0f921\"]],\"type\":\"heatmapgl\"}],\"heatmap\":[{\"colorbar\":{\"outlinewidth\":0,\"ticks\":\"\"},\"colorscale\":[[0.0,\"#0d0887\"],[0.1111111111111111,\"#46039f\"],[0.2222222222222222,\"#7201a8\"],[0.3333333333333333,\"#9c179e\"],[0.4444444444444444,\"#bd3786\"],[0.5555555555555556,\"#d8576b\"],[0.6666666666666666,\"#ed7953\"],[0.7777777777777778,\"#fb9f3a\"],[0.8888888888888888,\"#fdca26\"],[1.0,\"#f0f921\"]],\"type\":\"heatmap\"}],\"histogram2dcontour\":[{\"colorbar\":{\"outlinewidth\":0,\"ticks\":\"\"},\"colorscale\":[[0.0,\"#0d0887\"],[0.1111111111111111,\"#46039f\"],[0.2222222222222222,\"#7201a8\"],[0.3333333333333333,\"#9c179e\"],[0.4444444444444444,\"#bd3786\"],[0.5555555555555556,\"#d8576b\"],[0.6666666666666666,\"#ed7953\"],[0.7777777777777778,\"#fb9f3a\"],[0.8888888888888888,\"#fdca26\"],[1.0,\"#f0f921\"]],\"type\":\"histogram2dcontour\"}],\"histogram2d\":[{\"colorbar\":{\"outlinewidth\":0,\"ticks\":\"\"},\"colorscale\":[[0.0,\"#0d0887\"],[0.1111111111111111,\"#46039f\"],[0.2222222222222222,\"#7201a8\"],[0.3333333333333333,\"#9c179e\"],[0.4444444444444444,\"#bd3786\"],[0.5555555555555556,\"#d8576b\"],[0.6666666666666666,\"#ed7953\"],[0.7777777777777778,\"#fb9f3a\"],[0.8888888888888888,\"#fdca26\"],[1.0,\"#f0f921\"]],\"type\":\"histogram2d\"}],\"histogram\":[{\"marker\":{\"pattern\":{\"fillmode\":\"overlay\",\"size\":10,\"solidity\":0.2}},\"type\":\"histogram\"}],\"mesh3d\":[{\"colorbar\":{\"outlinewidth\":0,\"ticks\":\"\"},\"type\":\"mesh3d\"}],\"parcoords\":[{\"line\":{\"colorbar\":{\"outlinewidth\":0,\"ticks\":\"\"}},\"type\":\"parcoords\"}],\"pie\":[{\"automargin\":true,\"type\":\"pie\"}],\"scatter3d\":[{\"line\":{\"colorbar\":{\"outlinewidth\":0,\"ticks\":\"\"}},\"marker\":{\"colorbar\":{\"outlinewidth\":0,\"ticks\":\"\"}},\"type\":\"scatter3d\"}],\"scattercarpet\":[{\"marker\":{\"colorbar\":{\"outlinewidth\":0,\"ticks\":\"\"}},\"type\":\"scattercarpet\"}],\"scattergeo\":[{\"marker\":{\"colorbar\":{\"outlinewidth\":0,\"ticks\":\"\"}},\"type\":\"scattergeo\"}],\"scattergl\":[{\"marker\":{\"line\":{\"color\":\"#283442\"}},\"type\":\"scattergl\"}],\"scattermapbox\":[{\"marker\":{\"colorbar\":{\"outlinewidth\":0,\"ticks\":\"\"}},\"type\":\"scattermapbox\"}],\"scatterpolargl\":[{\"marker\":{\"colorbar\":{\"outlinewidth\":0,\"ticks\":\"\"}},\"type\":\"scatterpolargl\"}],\"scatterpolar\":[{\"marker\":{\"colorbar\":{\"outlinewidth\":0,\"ticks\":\"\"}},\"type\":\"scatterpolar\"}],\"scatter\":[{\"marker\":{\"line\":{\"color\":\"#283442\"}},\"type\":\"scatter\"}],\"scatterternary\":[{\"marker\":{\"colorbar\":{\"outlinewidth\":0,\"ticks\":\"\"}},\"type\":\"scatterternary\"}],\"surface\":[{\"colorbar\":{\"outlinewidth\":0,\"ticks\":\"\"},\"colorscale\":[[0.0,\"#0d0887\"],[0.1111111111111111,\"#46039f\"],[0.2222222222222222,\"#7201a8\"],[0.3333333333333333,\"#9c179e\"],[0.4444444444444444,\"#bd3786\"],[0.5555555555555556,\"#d8576b\"],[0.6666666666666666,\"#ed7953\"],[0.7777777777777778,\"#fb9f3a\"],[0.8888888888888888,\"#fdca26\"],[1.0,\"#f0f921\"]],\"type\":\"surface\"}],\"table\":[{\"cells\":{\"fill\":{\"color\":\"#506784\"},\"line\":{\"color\":\"rgb(17,17,17)\"}},\"header\":{\"fill\":{\"color\":\"#2a3f5f\"},\"line\":{\"color\":\"rgb(17,17,17)\"}},\"type\":\"table\"}]},\"layout\":{\"annotationdefaults\":{\"arrowcolor\":\"#f2f5fa\",\"arrowhead\":0,\"arrowwidth\":1},\"autotypenumbers\":\"strict\",\"coloraxis\":{\"colorbar\":{\"outlinewidth\":0,\"ticks\":\"\"}},\"colorscale\":{\"diverging\":[[0,\"#8e0152\"],[0.1,\"#c51b7d\"],[0.2,\"#de77ae\"],[0.3,\"#f1b6da\"],[0.4,\"#fde0ef\"],[0.5,\"#f7f7f7\"],[0.6,\"#e6f5d0\"],[0.7,\"#b8e186\"],[0.8,\"#7fbc41\"],[0.9,\"#4d9221\"],[1,\"#276419\"]],\"sequential\":[[0.0,\"#0d0887\"],[0.1111111111111111,\"#46039f\"],[0.2222222222222222,\"#7201a8\"],[0.3333333333333333,\"#9c179e\"],[0.4444444444444444,\"#bd3786\"],[0.5555555555555556,\"#d8576b\"],[0.6666666666666666,\"#ed7953\"],[0.7777777777777778,\"#fb9f3a\"],[0.8888888888888888,\"#fdca26\"],[1.0,\"#f0f921\"]],\"sequentialminus\":[[0.0,\"#0d0887\"],[0.1111111111111111,\"#46039f\"],[0.2222222222222222,\"#7201a8\"],[0.3333333333333333,\"#9c179e\"],[0.4444444444444444,\"#bd3786\"],[0.5555555555555556,\"#d8576b\"],[0.6666666666666666,\"#ed7953\"],[0.7777777777777778,\"#fb9f3a\"],[0.8888888888888888,\"#fdca26\"],[1.0,\"#f0f921\"]]},\"colorway\":[\"#636efa\",\"#EF553B\",\"#00cc96\",\"#ab63fa\",\"#FFA15A\",\"#19d3f3\",\"#FF6692\",\"#B6E880\",\"#FF97FF\",\"#FECB52\"],\"font\":{\"color\":\"#f2f5fa\"},\"geo\":{\"bgcolor\":\"rgb(17,17,17)\",\"lakecolor\":\"rgb(17,17,17)\",\"landcolor\":\"rgb(17,17,17)\",\"showlakes\":true,\"showland\":true,\"subunitcolor\":\"#506784\"},\"hoverlabel\":{\"align\":\"left\"},\"hovermode\":\"closest\",\"mapbox\":{\"style\":\"dark\"},\"paper_bgcolor\":\"rgb(17,17,17)\",\"plot_bgcolor\":\"rgb(17,17,17)\",\"polar\":{\"angularaxis\":{\"gridcolor\":\"#506784\",\"linecolor\":\"#506784\",\"ticks\":\"\"},\"bgcolor\":\"rgb(17,17,17)\",\"radialaxis\":{\"gridcolor\":\"#506784\",\"linecolor\":\"#506784\",\"ticks\":\"\"}},\"scene\":{\"xaxis\":{\"backgroundcolor\":\"rgb(17,17,17)\",\"gridcolor\":\"#506784\",\"gridwidth\":2,\"linecolor\":\"#506784\",\"showbackground\":true,\"ticks\":\"\",\"zerolinecolor\":\"#C8D4E3\"},\"yaxis\":{\"backgroundcolor\":\"rgb(17,17,17)\",\"gridcolor\":\"#506784\",\"gridwidth\":2,\"linecolor\":\"#506784\",\"showbackground\":true,\"ticks\":\"\",\"zerolinecolor\":\"#C8D4E3\"},\"zaxis\":{\"backgroundcolor\":\"rgb(17,17,17)\",\"gridcolor\":\"#506784\",\"gridwidth\":2,\"linecolor\":\"#506784\",\"showbackground\":true,\"ticks\":\"\",\"zerolinecolor\":\"#C8D4E3\"}},\"shapedefaults\":{\"line\":{\"color\":\"#f2f5fa\"}},\"sliderdefaults\":{\"bgcolor\":\"#C8D4E3\",\"bordercolor\":\"rgb(17,17,17)\",\"borderwidth\":1,\"tickwidth\":0},\"ternary\":{\"aaxis\":{\"gridcolor\":\"#506784\",\"linecolor\":\"#506784\",\"ticks\":\"\"},\"baxis\":{\"gridcolor\":\"#506784\",\"linecolor\":\"#506784\",\"ticks\":\"\"},\"bgcolor\":\"rgb(17,17,17)\",\"caxis\":{\"gridcolor\":\"#506784\",\"linecolor\":\"#506784\",\"ticks\":\"\"}},\"title\":{\"x\":0.05},\"updatemenudefaults\":{\"bgcolor\":\"#506784\",\"borderwidth\":0},\"xaxis\":{\"automargin\":true,\"gridcolor\":\"#283442\",\"linecolor\":\"#506784\",\"ticks\":\"\",\"title\":{\"standoff\":15},\"zerolinecolor\":\"#283442\",\"zerolinewidth\":2},\"yaxis\":{\"automargin\":true,\"gridcolor\":\"#283442\",\"linecolor\":\"#506784\",\"ticks\":\"\",\"title\":{\"standoff\":15},\"zerolinecolor\":\"#283442\",\"zerolinewidth\":2}}},\"xaxis\":{\"anchor\":\"y\",\"domain\":[0.0,1.0],\"title\":{\"text\":\"District\"}},\"yaxis\":{\"anchor\":\"x\",\"domain\":[0.0,1.0],\"title\":{\"text\":\"Crimes\"}},\"legend\":{\"tracegroupgap\":0},\"title\":{\"text\":\"Most Safe District\"},\"barmode\":\"relative\"},                        {\"responsive\": true}                    ).then(function(){\n",
       "                            \n",
       "var gd = document.getElementById('40e15ee1-df81-4d51-b081-845ca651f55b');\n",
       "var x = new MutationObserver(function (mutations, observer) {{\n",
       "        var display = window.getComputedStyle(gd).display;\n",
       "        if (!display || display === 'none') {{\n",
       "            console.log([gd, 'removed!']);\n",
       "            Plotly.purge(gd);\n",
       "            observer.disconnect();\n",
       "        }}\n",
       "}});\n",
       "\n",
       "// Listen for the removal of the full notebook cells\n",
       "var notebookContainer = gd.closest('#notebook-container');\n",
       "if (notebookContainer) {{\n",
       "    x.observe(notebookContainer, {childList: true});\n",
       "}}\n",
       "\n",
       "// Listen for the clearing of the current output cell\n",
       "var outputEl = gd.closest('.output');\n",
       "if (outputEl) {{\n",
       "    x.observe(outputEl, {childList: true});\n",
       "}}\n",
       "\n",
       "                        })                };                });            </script>        </div>"
      ]
     },
     "metadata": {},
     "output_type": "display_data"
    }
   ],
   "source": [
    "fig = px.bar(top_20_districts, x=\"DISTRICT\", y=\"TOTAL IPC CRIMES\", color_discrete_sequence=[\"blue\"], title=\"Most Safe District\")\n",
    "fig.update_layout(xaxis_title = \"District\",\n",
    "                  yaxis_title = \"Crimes\")\n",
    "fig.layout.template =\"plotly_dark\"\n",
    "fig.show()"
   ]
  },
  {
   "cell_type": "markdown",
   "id": "9767875e",
   "metadata": {},
   "source": [
    "1]there are some police force areas also included in dataframe\n",
    "2]if we see the peaceful areas where number of crimes are very low these are considerd to be most safe areas.\n",
    "3]Like districts 'phek' in nagaland,'tawang' in arunachal pradesh,'colasib' in mizoram."
   ]
  },
  {
   "cell_type": "markdown",
   "id": "6cb69ac6",
   "metadata": {},
   "source": [
    "Most Unsafe Districts\n",
    "------------------------------"
   ]
  },
  {
   "cell_type": "code",
   "execution_count": 60,
   "id": "0460ae86",
   "metadata": {},
   "outputs": [],
   "source": [
    "unsafe=sensitive_df.tail(10)"
   ]
  },
  {
   "cell_type": "code",
   "execution_count": 62,
   "id": "f2db1cf7",
   "metadata": {},
   "outputs": [
    {
     "data": {
      "text/html": [
       "<div>\n",
       "<style scoped>\n",
       "    .dataframe tbody tr th:only-of-type {\n",
       "        vertical-align: middle;\n",
       "    }\n",
       "\n",
       "    .dataframe tbody tr th {\n",
       "        vertical-align: top;\n",
       "    }\n",
       "\n",
       "    .dataframe thead th {\n",
       "        text-align: right;\n",
       "    }\n",
       "</style>\n",
       "<table border=\"1\" class=\"dataframe\">\n",
       "  <thead>\n",
       "    <tr style=\"text-align: right;\">\n",
       "      <th></th>\n",
       "      <th>STATE/UT</th>\n",
       "      <th>DISTRICT</th>\n",
       "      <th>YEAR</th>\n",
       "      <th>MURDER</th>\n",
       "      <th>ATTEMPT TO MURDER</th>\n",
       "      <th>CULPABLE HOMICIDE NOT AMOUNTING TO MURDER</th>\n",
       "      <th>RAPE</th>\n",
       "      <th>CUSTODIAL RAPE</th>\n",
       "      <th>OTHER RAPE</th>\n",
       "      <th>KIDNAPPING &amp; ABDUCTION</th>\n",
       "      <th>...</th>\n",
       "      <th>DOWRY DEATHS</th>\n",
       "      <th>ASSAULT ON WOMEN WITH INTENT TO OUTRAGE HER MODESTY</th>\n",
       "      <th>INSULT TO MODESTY OF WOMEN</th>\n",
       "      <th>CRUELTY BY HUSBAND OR HIS RELATIVES</th>\n",
       "      <th>IMPORTATION OF GIRLS FROM FOREIGN COUNTRIES</th>\n",
       "      <th>CAUSING DEATH BY NEGLIGENCE</th>\n",
       "      <th>OTHER IPC CRIMES</th>\n",
       "      <th>TOTAL IPC CRIMES</th>\n",
       "      <th>CLUSTER</th>\n",
       "      <th>CLUSTER NAME</th>\n",
       "    </tr>\n",
       "  </thead>\n",
       "  <tbody>\n",
       "    <tr>\n",
       "      <th>140</th>\n",
       "      <td>MAHARASHTRA</td>\n",
       "      <td>MUMBAI COMMR.</td>\n",
       "      <td>2012</td>\n",
       "      <td>215</td>\n",
       "      <td>170</td>\n",
       "      <td>9</td>\n",
       "      <td>232</td>\n",
       "      <td>0</td>\n",
       "      <td>232</td>\n",
       "      <td>212</td>\n",
       "      <td>...</td>\n",
       "      <td>11</td>\n",
       "      <td>614</td>\n",
       "      <td>235</td>\n",
       "      <td>388</td>\n",
       "      <td>0</td>\n",
       "      <td>621</td>\n",
       "      <td>6423</td>\n",
       "      <td>30508</td>\n",
       "      <td>2</td>\n",
       "      <td>Sensitive Areas</td>\n",
       "    </tr>\n",
       "    <tr>\n",
       "      <th>141</th>\n",
       "      <td>MAHARASHTRA</td>\n",
       "      <td>MUMBAI COMMR.</td>\n",
       "      <td>2006</td>\n",
       "      <td>239</td>\n",
       "      <td>135</td>\n",
       "      <td>5</td>\n",
       "      <td>165</td>\n",
       "      <td>0</td>\n",
       "      <td>165</td>\n",
       "      <td>190</td>\n",
       "      <td>...</td>\n",
       "      <td>17</td>\n",
       "      <td>357</td>\n",
       "      <td>102</td>\n",
       "      <td>327</td>\n",
       "      <td>1</td>\n",
       "      <td>778</td>\n",
       "      <td>7138</td>\n",
       "      <td>31070</td>\n",
       "      <td>2</td>\n",
       "      <td>Sensitive Areas</td>\n",
       "    </tr>\n",
       "    <tr>\n",
       "      <th>142</th>\n",
       "      <td>MAHARASHTRA</td>\n",
       "      <td>MUMBAI COMMR.</td>\n",
       "      <td>2009</td>\n",
       "      <td>217</td>\n",
       "      <td>160</td>\n",
       "      <td>6</td>\n",
       "      <td>182</td>\n",
       "      <td>0</td>\n",
       "      <td>182</td>\n",
       "      <td>149</td>\n",
       "      <td>...</td>\n",
       "      <td>15</td>\n",
       "      <td>400</td>\n",
       "      <td>101</td>\n",
       "      <td>434</td>\n",
       "      <td>0</td>\n",
       "      <td>710</td>\n",
       "      <td>6738</td>\n",
       "      <td>31262</td>\n",
       "      <td>2</td>\n",
       "      <td>Sensitive Areas</td>\n",
       "    </tr>\n",
       "    <tr>\n",
       "      <th>143</th>\n",
       "      <td>MAHARASHTRA</td>\n",
       "      <td>MUMBAI</td>\n",
       "      <td>2005</td>\n",
       "      <td>212</td>\n",
       "      <td>136</td>\n",
       "      <td>8</td>\n",
       "      <td>201</td>\n",
       "      <td>0</td>\n",
       "      <td>201</td>\n",
       "      <td>198</td>\n",
       "      <td>...</td>\n",
       "      <td>9</td>\n",
       "      <td>385</td>\n",
       "      <td>99</td>\n",
       "      <td>336</td>\n",
       "      <td>0</td>\n",
       "      <td>658</td>\n",
       "      <td>7275</td>\n",
       "      <td>31432</td>\n",
       "      <td>2</td>\n",
       "      <td>Sensitive Areas</td>\n",
       "    </tr>\n",
       "    <tr>\n",
       "      <th>144</th>\n",
       "      <td>KARNATAKA</td>\n",
       "      <td>BANGALORE COMMR.</td>\n",
       "      <td>2010</td>\n",
       "      <td>266</td>\n",
       "      <td>445</td>\n",
       "      <td>5</td>\n",
       "      <td>65</td>\n",
       "      <td>0</td>\n",
       "      <td>65</td>\n",
       "      <td>513</td>\n",
       "      <td>...</td>\n",
       "      <td>52</td>\n",
       "      <td>308</td>\n",
       "      <td>50</td>\n",
       "      <td>398</td>\n",
       "      <td>0</td>\n",
       "      <td>104</td>\n",
       "      <td>10333</td>\n",
       "      <td>32188</td>\n",
       "      <td>2</td>\n",
       "      <td>Sensitive Areas</td>\n",
       "    </tr>\n",
       "    <tr>\n",
       "      <th>145</th>\n",
       "      <td>KARNATAKA</td>\n",
       "      <td>BANGALORE COMMR.</td>\n",
       "      <td>2009</td>\n",
       "      <td>256</td>\n",
       "      <td>338</td>\n",
       "      <td>1</td>\n",
       "      <td>65</td>\n",
       "      <td>0</td>\n",
       "      <td>65</td>\n",
       "      <td>270</td>\n",
       "      <td>...</td>\n",
       "      <td>50</td>\n",
       "      <td>251</td>\n",
       "      <td>35</td>\n",
       "      <td>367</td>\n",
       "      <td>0</td>\n",
       "      <td>87</td>\n",
       "      <td>9992</td>\n",
       "      <td>32380</td>\n",
       "      <td>2</td>\n",
       "      <td>Sensitive Areas</td>\n",
       "    </tr>\n",
       "    <tr>\n",
       "      <th>146</th>\n",
       "      <td>MAHARASHTRA</td>\n",
       "      <td>MUMBAI COMMR.</td>\n",
       "      <td>2011</td>\n",
       "      <td>203</td>\n",
       "      <td>180</td>\n",
       "      <td>4</td>\n",
       "      <td>221</td>\n",
       "      <td>0</td>\n",
       "      <td>221</td>\n",
       "      <td>221</td>\n",
       "      <td>...</td>\n",
       "      <td>14</td>\n",
       "      <td>553</td>\n",
       "      <td>162</td>\n",
       "      <td>393</td>\n",
       "      <td>0</td>\n",
       "      <td>656</td>\n",
       "      <td>6464</td>\n",
       "      <td>32647</td>\n",
       "      <td>2</td>\n",
       "      <td>Sensitive Areas</td>\n",
       "    </tr>\n",
       "    <tr>\n",
       "      <th>147</th>\n",
       "      <td>MAHARASHTRA</td>\n",
       "      <td>MUMBAI COMMR.</td>\n",
       "      <td>2008</td>\n",
       "      <td>210</td>\n",
       "      <td>132</td>\n",
       "      <td>0</td>\n",
       "      <td>218</td>\n",
       "      <td>0</td>\n",
       "      <td>218</td>\n",
       "      <td>189</td>\n",
       "      <td>...</td>\n",
       "      <td>11</td>\n",
       "      <td>436</td>\n",
       "      <td>121</td>\n",
       "      <td>502</td>\n",
       "      <td>0</td>\n",
       "      <td>709</td>\n",
       "      <td>6850</td>\n",
       "      <td>32770</td>\n",
       "      <td>2</td>\n",
       "      <td>Sensitive Areas</td>\n",
       "    </tr>\n",
       "    <tr>\n",
       "      <th>148</th>\n",
       "      <td>MAHARASHTRA</td>\n",
       "      <td>MUMBAI COMMR.</td>\n",
       "      <td>2010</td>\n",
       "      <td>228</td>\n",
       "      <td>170</td>\n",
       "      <td>7</td>\n",
       "      <td>194</td>\n",
       "      <td>0</td>\n",
       "      <td>194</td>\n",
       "      <td>194</td>\n",
       "      <td>...</td>\n",
       "      <td>21</td>\n",
       "      <td>475</td>\n",
       "      <td>138</td>\n",
       "      <td>312</td>\n",
       "      <td>0</td>\n",
       "      <td>690</td>\n",
       "      <td>7093</td>\n",
       "      <td>33932</td>\n",
       "      <td>2</td>\n",
       "      <td>Sensitive Areas</td>\n",
       "    </tr>\n",
       "    <tr>\n",
       "      <th>149</th>\n",
       "      <td>KERALA</td>\n",
       "      <td>ERNAKULAM RURAL</td>\n",
       "      <td>2011</td>\n",
       "      <td>15</td>\n",
       "      <td>14</td>\n",
       "      <td>0</td>\n",
       "      <td>30</td>\n",
       "      <td>0</td>\n",
       "      <td>30</td>\n",
       "      <td>12</td>\n",
       "      <td>...</td>\n",
       "      <td>0</td>\n",
       "      <td>105</td>\n",
       "      <td>32</td>\n",
       "      <td>136</td>\n",
       "      <td>0</td>\n",
       "      <td>2</td>\n",
       "      <td>32452</td>\n",
       "      <td>34638</td>\n",
       "      <td>2</td>\n",
       "      <td>Sensitive Areas</td>\n",
       "    </tr>\n",
       "  </tbody>\n",
       "</table>\n",
       "<p>10 rows × 35 columns</p>\n",
       "</div>"
      ],
      "text/plain": [
       "        STATE/UT          DISTRICT  YEAR  MURDER  ATTEMPT TO MURDER  \\\n",
       "140  MAHARASHTRA     MUMBAI COMMR.  2012     215                170   \n",
       "141  MAHARASHTRA     MUMBAI COMMR.  2006     239                135   \n",
       "142  MAHARASHTRA     MUMBAI COMMR.  2009     217                160   \n",
       "143  MAHARASHTRA            MUMBAI  2005     212                136   \n",
       "144    KARNATAKA  BANGALORE COMMR.  2010     266                445   \n",
       "145    KARNATAKA  BANGALORE COMMR.  2009     256                338   \n",
       "146  MAHARASHTRA     MUMBAI COMMR.  2011     203                180   \n",
       "147  MAHARASHTRA     MUMBAI COMMR.  2008     210                132   \n",
       "148  MAHARASHTRA     MUMBAI COMMR.  2010     228                170   \n",
       "149       KERALA   ERNAKULAM RURAL  2011      15                 14   \n",
       "\n",
       "     CULPABLE HOMICIDE NOT AMOUNTING TO MURDER  RAPE  CUSTODIAL RAPE  \\\n",
       "140                                          9   232               0   \n",
       "141                                          5   165               0   \n",
       "142                                          6   182               0   \n",
       "143                                          8   201               0   \n",
       "144                                          5    65               0   \n",
       "145                                          1    65               0   \n",
       "146                                          4   221               0   \n",
       "147                                          0   218               0   \n",
       "148                                          7   194               0   \n",
       "149                                          0    30               0   \n",
       "\n",
       "     OTHER RAPE  KIDNAPPING & ABDUCTION  ...  DOWRY DEATHS  \\\n",
       "140         232                     212  ...            11   \n",
       "141         165                     190  ...            17   \n",
       "142         182                     149  ...            15   \n",
       "143         201                     198  ...             9   \n",
       "144          65                     513  ...            52   \n",
       "145          65                     270  ...            50   \n",
       "146         221                     221  ...            14   \n",
       "147         218                     189  ...            11   \n",
       "148         194                     194  ...            21   \n",
       "149          30                      12  ...             0   \n",
       "\n",
       "     ASSAULT ON WOMEN WITH INTENT TO OUTRAGE HER MODESTY  \\\n",
       "140                                                614     \n",
       "141                                                357     \n",
       "142                                                400     \n",
       "143                                                385     \n",
       "144                                                308     \n",
       "145                                                251     \n",
       "146                                                553     \n",
       "147                                                436     \n",
       "148                                                475     \n",
       "149                                                105     \n",
       "\n",
       "     INSULT TO MODESTY OF WOMEN  CRUELTY BY HUSBAND OR HIS RELATIVES  \\\n",
       "140                         235                                  388   \n",
       "141                         102                                  327   \n",
       "142                         101                                  434   \n",
       "143                          99                                  336   \n",
       "144                          50                                  398   \n",
       "145                          35                                  367   \n",
       "146                         162                                  393   \n",
       "147                         121                                  502   \n",
       "148                         138                                  312   \n",
       "149                          32                                  136   \n",
       "\n",
       "     IMPORTATION OF GIRLS FROM FOREIGN COUNTRIES  CAUSING DEATH BY NEGLIGENCE  \\\n",
       "140                                            0                          621   \n",
       "141                                            1                          778   \n",
       "142                                            0                          710   \n",
       "143                                            0                          658   \n",
       "144                                            0                          104   \n",
       "145                                            0                           87   \n",
       "146                                            0                          656   \n",
       "147                                            0                          709   \n",
       "148                                            0                          690   \n",
       "149                                            0                            2   \n",
       "\n",
       "     OTHER IPC CRIMES  TOTAL IPC CRIMES  CLUSTER     CLUSTER NAME  \n",
       "140              6423             30508        2  Sensitive Areas  \n",
       "141              7138             31070        2  Sensitive Areas  \n",
       "142              6738             31262        2  Sensitive Areas  \n",
       "143              7275             31432        2  Sensitive Areas  \n",
       "144             10333             32188        2  Sensitive Areas  \n",
       "145              9992             32380        2  Sensitive Areas  \n",
       "146              6464             32647        2  Sensitive Areas  \n",
       "147              6850             32770        2  Sensitive Areas  \n",
       "148              7093             33932        2  Sensitive Areas  \n",
       "149             32452             34638        2  Sensitive Areas  \n",
       "\n",
       "[10 rows x 35 columns]"
      ]
     },
     "execution_count": 62,
     "metadata": {},
     "output_type": "execute_result"
    }
   ],
   "source": [
    "unsafe"
   ]
  },
  {
   "cell_type": "code",
   "execution_count": 61,
   "id": "7092ae74",
   "metadata": {},
   "outputs": [
    {
     "data": {
      "application/vnd.plotly.v1+json": {
       "config": {
        "plotlyServerURL": "https://plot.ly"
       },
       "data": [
        {
         "alignmentgroup": "True",
         "hovertemplate": "TOTAL IPC CRIMES=%{x}<br>DISTRICT=%{y}<extra></extra>",
         "legendgroup": "",
         "marker": {
          "color": "blue",
          "pattern": {
           "shape": ""
          }
         },
         "name": "",
         "offsetgroup": "",
         "orientation": "h",
         "showlegend": false,
         "textposition": "auto",
         "type": "bar",
         "x": [
          30508,
          31070,
          31262,
          31432,
          32188,
          32380,
          32647,
          32770,
          33932,
          34638
         ],
         "xaxis": "x",
         "y": [
          "MUMBAI COMMR.",
          "MUMBAI COMMR.",
          "MUMBAI COMMR.",
          "MUMBAI",
          "BANGALORE COMMR.",
          "BANGALORE COMMR.",
          "MUMBAI COMMR.",
          "MUMBAI COMMR.",
          "MUMBAI COMMR.",
          "ERNAKULAM RURAL"
         ],
         "yaxis": "y"
        }
       ],
       "layout": {
        "barmode": "relative",
        "legend": {
         "tracegroupgap": 0
        },
        "template": {
         "data": {
          "bar": [
           {
            "error_x": {
             "color": "#f2f5fa"
            },
            "error_y": {
             "color": "#f2f5fa"
            },
            "marker": {
             "line": {
              "color": "rgb(17,17,17)",
              "width": 0.5
             },
             "pattern": {
              "fillmode": "overlay",
              "size": 10,
              "solidity": 0.2
             }
            },
            "type": "bar"
           }
          ],
          "barpolar": [
           {
            "marker": {
             "line": {
              "color": "rgb(17,17,17)",
              "width": 0.5
             },
             "pattern": {
              "fillmode": "overlay",
              "size": 10,
              "solidity": 0.2
             }
            },
            "type": "barpolar"
           }
          ],
          "carpet": [
           {
            "aaxis": {
             "endlinecolor": "#A2B1C6",
             "gridcolor": "#506784",
             "linecolor": "#506784",
             "minorgridcolor": "#506784",
             "startlinecolor": "#A2B1C6"
            },
            "baxis": {
             "endlinecolor": "#A2B1C6",
             "gridcolor": "#506784",
             "linecolor": "#506784",
             "minorgridcolor": "#506784",
             "startlinecolor": "#A2B1C6"
            },
            "type": "carpet"
           }
          ],
          "choropleth": [
           {
            "colorbar": {
             "outlinewidth": 0,
             "ticks": ""
            },
            "type": "choropleth"
           }
          ],
          "contour": [
           {
            "colorbar": {
             "outlinewidth": 0,
             "ticks": ""
            },
            "colorscale": [
             [
              0,
              "#0d0887"
             ],
             [
              0.1111111111111111,
              "#46039f"
             ],
             [
              0.2222222222222222,
              "#7201a8"
             ],
             [
              0.3333333333333333,
              "#9c179e"
             ],
             [
              0.4444444444444444,
              "#bd3786"
             ],
             [
              0.5555555555555556,
              "#d8576b"
             ],
             [
              0.6666666666666666,
              "#ed7953"
             ],
             [
              0.7777777777777778,
              "#fb9f3a"
             ],
             [
              0.8888888888888888,
              "#fdca26"
             ],
             [
              1,
              "#f0f921"
             ]
            ],
            "type": "contour"
           }
          ],
          "contourcarpet": [
           {
            "colorbar": {
             "outlinewidth": 0,
             "ticks": ""
            },
            "type": "contourcarpet"
           }
          ],
          "heatmap": [
           {
            "colorbar": {
             "outlinewidth": 0,
             "ticks": ""
            },
            "colorscale": [
             [
              0,
              "#0d0887"
             ],
             [
              0.1111111111111111,
              "#46039f"
             ],
             [
              0.2222222222222222,
              "#7201a8"
             ],
             [
              0.3333333333333333,
              "#9c179e"
             ],
             [
              0.4444444444444444,
              "#bd3786"
             ],
             [
              0.5555555555555556,
              "#d8576b"
             ],
             [
              0.6666666666666666,
              "#ed7953"
             ],
             [
              0.7777777777777778,
              "#fb9f3a"
             ],
             [
              0.8888888888888888,
              "#fdca26"
             ],
             [
              1,
              "#f0f921"
             ]
            ],
            "type": "heatmap"
           }
          ],
          "heatmapgl": [
           {
            "colorbar": {
             "outlinewidth": 0,
             "ticks": ""
            },
            "colorscale": [
             [
              0,
              "#0d0887"
             ],
             [
              0.1111111111111111,
              "#46039f"
             ],
             [
              0.2222222222222222,
              "#7201a8"
             ],
             [
              0.3333333333333333,
              "#9c179e"
             ],
             [
              0.4444444444444444,
              "#bd3786"
             ],
             [
              0.5555555555555556,
              "#d8576b"
             ],
             [
              0.6666666666666666,
              "#ed7953"
             ],
             [
              0.7777777777777778,
              "#fb9f3a"
             ],
             [
              0.8888888888888888,
              "#fdca26"
             ],
             [
              1,
              "#f0f921"
             ]
            ],
            "type": "heatmapgl"
           }
          ],
          "histogram": [
           {
            "marker": {
             "pattern": {
              "fillmode": "overlay",
              "size": 10,
              "solidity": 0.2
             }
            },
            "type": "histogram"
           }
          ],
          "histogram2d": [
           {
            "colorbar": {
             "outlinewidth": 0,
             "ticks": ""
            },
            "colorscale": [
             [
              0,
              "#0d0887"
             ],
             [
              0.1111111111111111,
              "#46039f"
             ],
             [
              0.2222222222222222,
              "#7201a8"
             ],
             [
              0.3333333333333333,
              "#9c179e"
             ],
             [
              0.4444444444444444,
              "#bd3786"
             ],
             [
              0.5555555555555556,
              "#d8576b"
             ],
             [
              0.6666666666666666,
              "#ed7953"
             ],
             [
              0.7777777777777778,
              "#fb9f3a"
             ],
             [
              0.8888888888888888,
              "#fdca26"
             ],
             [
              1,
              "#f0f921"
             ]
            ],
            "type": "histogram2d"
           }
          ],
          "histogram2dcontour": [
           {
            "colorbar": {
             "outlinewidth": 0,
             "ticks": ""
            },
            "colorscale": [
             [
              0,
              "#0d0887"
             ],
             [
              0.1111111111111111,
              "#46039f"
             ],
             [
              0.2222222222222222,
              "#7201a8"
             ],
             [
              0.3333333333333333,
              "#9c179e"
             ],
             [
              0.4444444444444444,
              "#bd3786"
             ],
             [
              0.5555555555555556,
              "#d8576b"
             ],
             [
              0.6666666666666666,
              "#ed7953"
             ],
             [
              0.7777777777777778,
              "#fb9f3a"
             ],
             [
              0.8888888888888888,
              "#fdca26"
             ],
             [
              1,
              "#f0f921"
             ]
            ],
            "type": "histogram2dcontour"
           }
          ],
          "mesh3d": [
           {
            "colorbar": {
             "outlinewidth": 0,
             "ticks": ""
            },
            "type": "mesh3d"
           }
          ],
          "parcoords": [
           {
            "line": {
             "colorbar": {
              "outlinewidth": 0,
              "ticks": ""
             }
            },
            "type": "parcoords"
           }
          ],
          "pie": [
           {
            "automargin": true,
            "type": "pie"
           }
          ],
          "scatter": [
           {
            "marker": {
             "line": {
              "color": "#283442"
             }
            },
            "type": "scatter"
           }
          ],
          "scatter3d": [
           {
            "line": {
             "colorbar": {
              "outlinewidth": 0,
              "ticks": ""
             }
            },
            "marker": {
             "colorbar": {
              "outlinewidth": 0,
              "ticks": ""
             }
            },
            "type": "scatter3d"
           }
          ],
          "scattercarpet": [
           {
            "marker": {
             "colorbar": {
              "outlinewidth": 0,
              "ticks": ""
             }
            },
            "type": "scattercarpet"
           }
          ],
          "scattergeo": [
           {
            "marker": {
             "colorbar": {
              "outlinewidth": 0,
              "ticks": ""
             }
            },
            "type": "scattergeo"
           }
          ],
          "scattergl": [
           {
            "marker": {
             "line": {
              "color": "#283442"
             }
            },
            "type": "scattergl"
           }
          ],
          "scattermapbox": [
           {
            "marker": {
             "colorbar": {
              "outlinewidth": 0,
              "ticks": ""
             }
            },
            "type": "scattermapbox"
           }
          ],
          "scatterpolar": [
           {
            "marker": {
             "colorbar": {
              "outlinewidth": 0,
              "ticks": ""
             }
            },
            "type": "scatterpolar"
           }
          ],
          "scatterpolargl": [
           {
            "marker": {
             "colorbar": {
              "outlinewidth": 0,
              "ticks": ""
             }
            },
            "type": "scatterpolargl"
           }
          ],
          "scatterternary": [
           {
            "marker": {
             "colorbar": {
              "outlinewidth": 0,
              "ticks": ""
             }
            },
            "type": "scatterternary"
           }
          ],
          "surface": [
           {
            "colorbar": {
             "outlinewidth": 0,
             "ticks": ""
            },
            "colorscale": [
             [
              0,
              "#0d0887"
             ],
             [
              0.1111111111111111,
              "#46039f"
             ],
             [
              0.2222222222222222,
              "#7201a8"
             ],
             [
              0.3333333333333333,
              "#9c179e"
             ],
             [
              0.4444444444444444,
              "#bd3786"
             ],
             [
              0.5555555555555556,
              "#d8576b"
             ],
             [
              0.6666666666666666,
              "#ed7953"
             ],
             [
              0.7777777777777778,
              "#fb9f3a"
             ],
             [
              0.8888888888888888,
              "#fdca26"
             ],
             [
              1,
              "#f0f921"
             ]
            ],
            "type": "surface"
           }
          ],
          "table": [
           {
            "cells": {
             "fill": {
              "color": "#506784"
             },
             "line": {
              "color": "rgb(17,17,17)"
             }
            },
            "header": {
             "fill": {
              "color": "#2a3f5f"
             },
             "line": {
              "color": "rgb(17,17,17)"
             }
            },
            "type": "table"
           }
          ]
         },
         "layout": {
          "annotationdefaults": {
           "arrowcolor": "#f2f5fa",
           "arrowhead": 0,
           "arrowwidth": 1
          },
          "autotypenumbers": "strict",
          "coloraxis": {
           "colorbar": {
            "outlinewidth": 0,
            "ticks": ""
           }
          },
          "colorscale": {
           "diverging": [
            [
             0,
             "#8e0152"
            ],
            [
             0.1,
             "#c51b7d"
            ],
            [
             0.2,
             "#de77ae"
            ],
            [
             0.3,
             "#f1b6da"
            ],
            [
             0.4,
             "#fde0ef"
            ],
            [
             0.5,
             "#f7f7f7"
            ],
            [
             0.6,
             "#e6f5d0"
            ],
            [
             0.7,
             "#b8e186"
            ],
            [
             0.8,
             "#7fbc41"
            ],
            [
             0.9,
             "#4d9221"
            ],
            [
             1,
             "#276419"
            ]
           ],
           "sequential": [
            [
             0,
             "#0d0887"
            ],
            [
             0.1111111111111111,
             "#46039f"
            ],
            [
             0.2222222222222222,
             "#7201a8"
            ],
            [
             0.3333333333333333,
             "#9c179e"
            ],
            [
             0.4444444444444444,
             "#bd3786"
            ],
            [
             0.5555555555555556,
             "#d8576b"
            ],
            [
             0.6666666666666666,
             "#ed7953"
            ],
            [
             0.7777777777777778,
             "#fb9f3a"
            ],
            [
             0.8888888888888888,
             "#fdca26"
            ],
            [
             1,
             "#f0f921"
            ]
           ],
           "sequentialminus": [
            [
             0,
             "#0d0887"
            ],
            [
             0.1111111111111111,
             "#46039f"
            ],
            [
             0.2222222222222222,
             "#7201a8"
            ],
            [
             0.3333333333333333,
             "#9c179e"
            ],
            [
             0.4444444444444444,
             "#bd3786"
            ],
            [
             0.5555555555555556,
             "#d8576b"
            ],
            [
             0.6666666666666666,
             "#ed7953"
            ],
            [
             0.7777777777777778,
             "#fb9f3a"
            ],
            [
             0.8888888888888888,
             "#fdca26"
            ],
            [
             1,
             "#f0f921"
            ]
           ]
          },
          "colorway": [
           "#636efa",
           "#EF553B",
           "#00cc96",
           "#ab63fa",
           "#FFA15A",
           "#19d3f3",
           "#FF6692",
           "#B6E880",
           "#FF97FF",
           "#FECB52"
          ],
          "font": {
           "color": "#f2f5fa"
          },
          "geo": {
           "bgcolor": "rgb(17,17,17)",
           "lakecolor": "rgb(17,17,17)",
           "landcolor": "rgb(17,17,17)",
           "showlakes": true,
           "showland": true,
           "subunitcolor": "#506784"
          },
          "hoverlabel": {
           "align": "left"
          },
          "hovermode": "closest",
          "mapbox": {
           "style": "dark"
          },
          "paper_bgcolor": "rgb(17,17,17)",
          "plot_bgcolor": "rgb(17,17,17)",
          "polar": {
           "angularaxis": {
            "gridcolor": "#506784",
            "linecolor": "#506784",
            "ticks": ""
           },
           "bgcolor": "rgb(17,17,17)",
           "radialaxis": {
            "gridcolor": "#506784",
            "linecolor": "#506784",
            "ticks": ""
           }
          },
          "scene": {
           "xaxis": {
            "backgroundcolor": "rgb(17,17,17)",
            "gridcolor": "#506784",
            "gridwidth": 2,
            "linecolor": "#506784",
            "showbackground": true,
            "ticks": "",
            "zerolinecolor": "#C8D4E3"
           },
           "yaxis": {
            "backgroundcolor": "rgb(17,17,17)",
            "gridcolor": "#506784",
            "gridwidth": 2,
            "linecolor": "#506784",
            "showbackground": true,
            "ticks": "",
            "zerolinecolor": "#C8D4E3"
           },
           "zaxis": {
            "backgroundcolor": "rgb(17,17,17)",
            "gridcolor": "#506784",
            "gridwidth": 2,
            "linecolor": "#506784",
            "showbackground": true,
            "ticks": "",
            "zerolinecolor": "#C8D4E3"
           }
          },
          "shapedefaults": {
           "line": {
            "color": "#f2f5fa"
           }
          },
          "sliderdefaults": {
           "bgcolor": "#C8D4E3",
           "bordercolor": "rgb(17,17,17)",
           "borderwidth": 1,
           "tickwidth": 0
          },
          "ternary": {
           "aaxis": {
            "gridcolor": "#506784",
            "linecolor": "#506784",
            "ticks": ""
           },
           "baxis": {
            "gridcolor": "#506784",
            "linecolor": "#506784",
            "ticks": ""
           },
           "bgcolor": "rgb(17,17,17)",
           "caxis": {
            "gridcolor": "#506784",
            "linecolor": "#506784",
            "ticks": ""
           }
          },
          "title": {
           "x": 0.05
          },
          "updatemenudefaults": {
           "bgcolor": "#506784",
           "borderwidth": 0
          },
          "xaxis": {
           "automargin": true,
           "gridcolor": "#283442",
           "linecolor": "#506784",
           "ticks": "",
           "title": {
            "standoff": 15
           },
           "zerolinecolor": "#283442",
           "zerolinewidth": 2
          },
          "yaxis": {
           "automargin": true,
           "gridcolor": "#283442",
           "linecolor": "#506784",
           "ticks": "",
           "title": {
            "standoff": 15
           },
           "zerolinecolor": "#283442",
           "zerolinewidth": 2
          }
         }
        },
        "title": {
         "text": "Most unsafe District"
        },
        "xaxis": {
         "anchor": "y",
         "domain": [
          0,
          1
         ],
         "title": {
          "text": "Crimes"
         }
        },
        "yaxis": {
         "anchor": "x",
         "domain": [
          0,
          1
         ],
         "title": {
          "text": "District"
         }
        }
       }
      },
      "text/html": [
       "<div>                            <div id=\"93eb15d7-3092-4651-b4be-c02f6c8b3ea7\" class=\"plotly-graph-div\" style=\"height:525px; width:100%;\"></div>            <script type=\"text/javascript\">                require([\"plotly\"], function(Plotly) {                    window.PLOTLYENV=window.PLOTLYENV || {};                                    if (document.getElementById(\"93eb15d7-3092-4651-b4be-c02f6c8b3ea7\")) {                    Plotly.newPlot(                        \"93eb15d7-3092-4651-b4be-c02f6c8b3ea7\",                        [{\"alignmentgroup\":\"True\",\"hovertemplate\":\"TOTAL IPC CRIMES=%{x}<br>DISTRICT=%{y}<extra></extra>\",\"legendgroup\":\"\",\"marker\":{\"color\":\"blue\",\"pattern\":{\"shape\":\"\"}},\"name\":\"\",\"offsetgroup\":\"\",\"orientation\":\"h\",\"showlegend\":false,\"textposition\":\"auto\",\"x\":[30508,31070,31262,31432,32188,32380,32647,32770,33932,34638],\"xaxis\":\"x\",\"y\":[\"MUMBAI COMMR.\",\"MUMBAI COMMR.\",\"MUMBAI COMMR.\",\"MUMBAI\",\"BANGALORE COMMR.\",\"BANGALORE COMMR.\",\"MUMBAI COMMR.\",\"MUMBAI COMMR.\",\"MUMBAI COMMR.\",\"ERNAKULAM RURAL\"],\"yaxis\":\"y\",\"type\":\"bar\"}],                        {\"template\":{\"data\":{\"barpolar\":[{\"marker\":{\"line\":{\"color\":\"rgb(17,17,17)\",\"width\":0.5},\"pattern\":{\"fillmode\":\"overlay\",\"size\":10,\"solidity\":0.2}},\"type\":\"barpolar\"}],\"bar\":[{\"error_x\":{\"color\":\"#f2f5fa\"},\"error_y\":{\"color\":\"#f2f5fa\"},\"marker\":{\"line\":{\"color\":\"rgb(17,17,17)\",\"width\":0.5},\"pattern\":{\"fillmode\":\"overlay\",\"size\":10,\"solidity\":0.2}},\"type\":\"bar\"}],\"carpet\":[{\"aaxis\":{\"endlinecolor\":\"#A2B1C6\",\"gridcolor\":\"#506784\",\"linecolor\":\"#506784\",\"minorgridcolor\":\"#506784\",\"startlinecolor\":\"#A2B1C6\"},\"baxis\":{\"endlinecolor\":\"#A2B1C6\",\"gridcolor\":\"#506784\",\"linecolor\":\"#506784\",\"minorgridcolor\":\"#506784\",\"startlinecolor\":\"#A2B1C6\"},\"type\":\"carpet\"}],\"choropleth\":[{\"colorbar\":{\"outlinewidth\":0,\"ticks\":\"\"},\"type\":\"choropleth\"}],\"contourcarpet\":[{\"colorbar\":{\"outlinewidth\":0,\"ticks\":\"\"},\"type\":\"contourcarpet\"}],\"contour\":[{\"colorbar\":{\"outlinewidth\":0,\"ticks\":\"\"},\"colorscale\":[[0.0,\"#0d0887\"],[0.1111111111111111,\"#46039f\"],[0.2222222222222222,\"#7201a8\"],[0.3333333333333333,\"#9c179e\"],[0.4444444444444444,\"#bd3786\"],[0.5555555555555556,\"#d8576b\"],[0.6666666666666666,\"#ed7953\"],[0.7777777777777778,\"#fb9f3a\"],[0.8888888888888888,\"#fdca26\"],[1.0,\"#f0f921\"]],\"type\":\"contour\"}],\"heatmapgl\":[{\"colorbar\":{\"outlinewidth\":0,\"ticks\":\"\"},\"colorscale\":[[0.0,\"#0d0887\"],[0.1111111111111111,\"#46039f\"],[0.2222222222222222,\"#7201a8\"],[0.3333333333333333,\"#9c179e\"],[0.4444444444444444,\"#bd3786\"],[0.5555555555555556,\"#d8576b\"],[0.6666666666666666,\"#ed7953\"],[0.7777777777777778,\"#fb9f3a\"],[0.8888888888888888,\"#fdca26\"],[1.0,\"#f0f921\"]],\"type\":\"heatmapgl\"}],\"heatmap\":[{\"colorbar\":{\"outlinewidth\":0,\"ticks\":\"\"},\"colorscale\":[[0.0,\"#0d0887\"],[0.1111111111111111,\"#46039f\"],[0.2222222222222222,\"#7201a8\"],[0.3333333333333333,\"#9c179e\"],[0.4444444444444444,\"#bd3786\"],[0.5555555555555556,\"#d8576b\"],[0.6666666666666666,\"#ed7953\"],[0.7777777777777778,\"#fb9f3a\"],[0.8888888888888888,\"#fdca26\"],[1.0,\"#f0f921\"]],\"type\":\"heatmap\"}],\"histogram2dcontour\":[{\"colorbar\":{\"outlinewidth\":0,\"ticks\":\"\"},\"colorscale\":[[0.0,\"#0d0887\"],[0.1111111111111111,\"#46039f\"],[0.2222222222222222,\"#7201a8\"],[0.3333333333333333,\"#9c179e\"],[0.4444444444444444,\"#bd3786\"],[0.5555555555555556,\"#d8576b\"],[0.6666666666666666,\"#ed7953\"],[0.7777777777777778,\"#fb9f3a\"],[0.8888888888888888,\"#fdca26\"],[1.0,\"#f0f921\"]],\"type\":\"histogram2dcontour\"}],\"histogram2d\":[{\"colorbar\":{\"outlinewidth\":0,\"ticks\":\"\"},\"colorscale\":[[0.0,\"#0d0887\"],[0.1111111111111111,\"#46039f\"],[0.2222222222222222,\"#7201a8\"],[0.3333333333333333,\"#9c179e\"],[0.4444444444444444,\"#bd3786\"],[0.5555555555555556,\"#d8576b\"],[0.6666666666666666,\"#ed7953\"],[0.7777777777777778,\"#fb9f3a\"],[0.8888888888888888,\"#fdca26\"],[1.0,\"#f0f921\"]],\"type\":\"histogram2d\"}],\"histogram\":[{\"marker\":{\"pattern\":{\"fillmode\":\"overlay\",\"size\":10,\"solidity\":0.2}},\"type\":\"histogram\"}],\"mesh3d\":[{\"colorbar\":{\"outlinewidth\":0,\"ticks\":\"\"},\"type\":\"mesh3d\"}],\"parcoords\":[{\"line\":{\"colorbar\":{\"outlinewidth\":0,\"ticks\":\"\"}},\"type\":\"parcoords\"}],\"pie\":[{\"automargin\":true,\"type\":\"pie\"}],\"scatter3d\":[{\"line\":{\"colorbar\":{\"outlinewidth\":0,\"ticks\":\"\"}},\"marker\":{\"colorbar\":{\"outlinewidth\":0,\"ticks\":\"\"}},\"type\":\"scatter3d\"}],\"scattercarpet\":[{\"marker\":{\"colorbar\":{\"outlinewidth\":0,\"ticks\":\"\"}},\"type\":\"scattercarpet\"}],\"scattergeo\":[{\"marker\":{\"colorbar\":{\"outlinewidth\":0,\"ticks\":\"\"}},\"type\":\"scattergeo\"}],\"scattergl\":[{\"marker\":{\"line\":{\"color\":\"#283442\"}},\"type\":\"scattergl\"}],\"scattermapbox\":[{\"marker\":{\"colorbar\":{\"outlinewidth\":0,\"ticks\":\"\"}},\"type\":\"scattermapbox\"}],\"scatterpolargl\":[{\"marker\":{\"colorbar\":{\"outlinewidth\":0,\"ticks\":\"\"}},\"type\":\"scatterpolargl\"}],\"scatterpolar\":[{\"marker\":{\"colorbar\":{\"outlinewidth\":0,\"ticks\":\"\"}},\"type\":\"scatterpolar\"}],\"scatter\":[{\"marker\":{\"line\":{\"color\":\"#283442\"}},\"type\":\"scatter\"}],\"scatterternary\":[{\"marker\":{\"colorbar\":{\"outlinewidth\":0,\"ticks\":\"\"}},\"type\":\"scatterternary\"}],\"surface\":[{\"colorbar\":{\"outlinewidth\":0,\"ticks\":\"\"},\"colorscale\":[[0.0,\"#0d0887\"],[0.1111111111111111,\"#46039f\"],[0.2222222222222222,\"#7201a8\"],[0.3333333333333333,\"#9c179e\"],[0.4444444444444444,\"#bd3786\"],[0.5555555555555556,\"#d8576b\"],[0.6666666666666666,\"#ed7953\"],[0.7777777777777778,\"#fb9f3a\"],[0.8888888888888888,\"#fdca26\"],[1.0,\"#f0f921\"]],\"type\":\"surface\"}],\"table\":[{\"cells\":{\"fill\":{\"color\":\"#506784\"},\"line\":{\"color\":\"rgb(17,17,17)\"}},\"header\":{\"fill\":{\"color\":\"#2a3f5f\"},\"line\":{\"color\":\"rgb(17,17,17)\"}},\"type\":\"table\"}]},\"layout\":{\"annotationdefaults\":{\"arrowcolor\":\"#f2f5fa\",\"arrowhead\":0,\"arrowwidth\":1},\"autotypenumbers\":\"strict\",\"coloraxis\":{\"colorbar\":{\"outlinewidth\":0,\"ticks\":\"\"}},\"colorscale\":{\"diverging\":[[0,\"#8e0152\"],[0.1,\"#c51b7d\"],[0.2,\"#de77ae\"],[0.3,\"#f1b6da\"],[0.4,\"#fde0ef\"],[0.5,\"#f7f7f7\"],[0.6,\"#e6f5d0\"],[0.7,\"#b8e186\"],[0.8,\"#7fbc41\"],[0.9,\"#4d9221\"],[1,\"#276419\"]],\"sequential\":[[0.0,\"#0d0887\"],[0.1111111111111111,\"#46039f\"],[0.2222222222222222,\"#7201a8\"],[0.3333333333333333,\"#9c179e\"],[0.4444444444444444,\"#bd3786\"],[0.5555555555555556,\"#d8576b\"],[0.6666666666666666,\"#ed7953\"],[0.7777777777777778,\"#fb9f3a\"],[0.8888888888888888,\"#fdca26\"],[1.0,\"#f0f921\"]],\"sequentialminus\":[[0.0,\"#0d0887\"],[0.1111111111111111,\"#46039f\"],[0.2222222222222222,\"#7201a8\"],[0.3333333333333333,\"#9c179e\"],[0.4444444444444444,\"#bd3786\"],[0.5555555555555556,\"#d8576b\"],[0.6666666666666666,\"#ed7953\"],[0.7777777777777778,\"#fb9f3a\"],[0.8888888888888888,\"#fdca26\"],[1.0,\"#f0f921\"]]},\"colorway\":[\"#636efa\",\"#EF553B\",\"#00cc96\",\"#ab63fa\",\"#FFA15A\",\"#19d3f3\",\"#FF6692\",\"#B6E880\",\"#FF97FF\",\"#FECB52\"],\"font\":{\"color\":\"#f2f5fa\"},\"geo\":{\"bgcolor\":\"rgb(17,17,17)\",\"lakecolor\":\"rgb(17,17,17)\",\"landcolor\":\"rgb(17,17,17)\",\"showlakes\":true,\"showland\":true,\"subunitcolor\":\"#506784\"},\"hoverlabel\":{\"align\":\"left\"},\"hovermode\":\"closest\",\"mapbox\":{\"style\":\"dark\"},\"paper_bgcolor\":\"rgb(17,17,17)\",\"plot_bgcolor\":\"rgb(17,17,17)\",\"polar\":{\"angularaxis\":{\"gridcolor\":\"#506784\",\"linecolor\":\"#506784\",\"ticks\":\"\"},\"bgcolor\":\"rgb(17,17,17)\",\"radialaxis\":{\"gridcolor\":\"#506784\",\"linecolor\":\"#506784\",\"ticks\":\"\"}},\"scene\":{\"xaxis\":{\"backgroundcolor\":\"rgb(17,17,17)\",\"gridcolor\":\"#506784\",\"gridwidth\":2,\"linecolor\":\"#506784\",\"showbackground\":true,\"ticks\":\"\",\"zerolinecolor\":\"#C8D4E3\"},\"yaxis\":{\"backgroundcolor\":\"rgb(17,17,17)\",\"gridcolor\":\"#506784\",\"gridwidth\":2,\"linecolor\":\"#506784\",\"showbackground\":true,\"ticks\":\"\",\"zerolinecolor\":\"#C8D4E3\"},\"zaxis\":{\"backgroundcolor\":\"rgb(17,17,17)\",\"gridcolor\":\"#506784\",\"gridwidth\":2,\"linecolor\":\"#506784\",\"showbackground\":true,\"ticks\":\"\",\"zerolinecolor\":\"#C8D4E3\"}},\"shapedefaults\":{\"line\":{\"color\":\"#f2f5fa\"}},\"sliderdefaults\":{\"bgcolor\":\"#C8D4E3\",\"bordercolor\":\"rgb(17,17,17)\",\"borderwidth\":1,\"tickwidth\":0},\"ternary\":{\"aaxis\":{\"gridcolor\":\"#506784\",\"linecolor\":\"#506784\",\"ticks\":\"\"},\"baxis\":{\"gridcolor\":\"#506784\",\"linecolor\":\"#506784\",\"ticks\":\"\"},\"bgcolor\":\"rgb(17,17,17)\",\"caxis\":{\"gridcolor\":\"#506784\",\"linecolor\":\"#506784\",\"ticks\":\"\"}},\"title\":{\"x\":0.05},\"updatemenudefaults\":{\"bgcolor\":\"#506784\",\"borderwidth\":0},\"xaxis\":{\"automargin\":true,\"gridcolor\":\"#283442\",\"linecolor\":\"#506784\",\"ticks\":\"\",\"title\":{\"standoff\":15},\"zerolinecolor\":\"#283442\",\"zerolinewidth\":2},\"yaxis\":{\"automargin\":true,\"gridcolor\":\"#283442\",\"linecolor\":\"#506784\",\"ticks\":\"\",\"title\":{\"standoff\":15},\"zerolinecolor\":\"#283442\",\"zerolinewidth\":2}}},\"xaxis\":{\"anchor\":\"y\",\"domain\":[0.0,1.0],\"title\":{\"text\":\"Crimes\"}},\"yaxis\":{\"anchor\":\"x\",\"domain\":[0.0,1.0],\"title\":{\"text\":\"District\"}},\"legend\":{\"tracegroupgap\":0},\"title\":{\"text\":\"Most unsafe District\"},\"barmode\":\"relative\"},                        {\"responsive\": true}                    ).then(function(){\n",
       "                            \n",
       "var gd = document.getElementById('93eb15d7-3092-4651-b4be-c02f6c8b3ea7');\n",
       "var x = new MutationObserver(function (mutations, observer) {{\n",
       "        var display = window.getComputedStyle(gd).display;\n",
       "        if (!display || display === 'none') {{\n",
       "            console.log([gd, 'removed!']);\n",
       "            Plotly.purge(gd);\n",
       "            observer.disconnect();\n",
       "        }}\n",
       "}});\n",
       "\n",
       "// Listen for the removal of the full notebook cells\n",
       "var notebookContainer = gd.closest('#notebook-container');\n",
       "if (notebookContainer) {{\n",
       "    x.observe(notebookContainer, {childList: true});\n",
       "}}\n",
       "\n",
       "// Listen for the clearing of the current output cell\n",
       "var outputEl = gd.closest('.output');\n",
       "if (outputEl) {{\n",
       "    x.observe(outputEl, {childList: true});\n",
       "}}\n",
       "\n",
       "                        })                };                });            </script>        </div>"
      ]
     },
     "metadata": {},
     "output_type": "display_data"
    }
   ],
   "source": [
    "fig = px.bar(unsafe, x=\"TOTAL IPC CRIMES\", y='DISTRICT',color_discrete_sequence=[\"blue\"], title=\"Most unsafe District\")\n",
    "fig.update_layout(xaxis_title = \"Crimes\",\n",
    "                  yaxis_title = \"District\")\n",
    "fig.layout.template =\"plotly_dark\"\n",
    "fig.show()"
   ]
  },
  {
   "cell_type": "markdown",
   "id": "6c55d3f0",
   "metadata": {},
   "source": [
    "kerala sate ernakulum district find to be most unsafe in 2011 year,mumbai,bangalore,chennai are the most unsafe districts over the year."
   ]
  },
  {
   "cell_type": "markdown",
   "id": "dae39530",
   "metadata": {},
   "source": [
    "# 4.4 Capstone project overall story in your own words. Min 1000 words."
   ]
  },
  {
   "cell_type": "markdown",
   "id": "0df7b029",
   "metadata": {},
   "source": [
    "Phase1:\n",
    "-----------------\n",
    "1]Requirements:\n",
    "\n",
    "The population of each state.\n",
    "Literacy Rate in each state\n",
    "Area of each state\n",
    "Collect any other data that helps with your analysis. There is no limitation for anything.\n",
    "Create a new file and keep the above-collected data.\n",
    "2]first i go through this requirements and collect data as per that.\n",
    "collect data from Sites:\n",
    "        1.Open Government Data(https://data.gov.in/search)\n",
    "        2.https://www.arcgis.com/home/item.html?id=443e1ef30cfb49bb93f15ccb56195a10#data\n",
    "3]download this files:\n",
    "        1.population_of_India-2001-2011.csv\n",
    "        2.StatWise-Literacy_Rates_(1951-2011).csv\n",
    "        3.Statewise_Crime(2001&2011).csv\n",
    "        4.statewise_crime_crimerate 2001.csv\n",
    "        5.Statewise_crime_crimerate 2011.csv\n",
    "        6.StatWise-Literacy_Rates_(1951-2011).csv\n",
    "        7.01_District_wise_crimes_committed_IPC_2001_2012.csv\n",
    "Analysis of population according to census 2011, i took population every state from year 2001 to 2011. Then I performed comparison between population across the years. I observed from the datasets, you can find total number of crimes and literacy rate in the below observation:\n",
    "1.'2011' has the highest correlation with 'Total_Crime2011' (0.836045) and 'Total_Crime2001' (0.832963), indicating a strong positive relationship with both years' total crime numbers. \n",
    "2.'2011' has weaker correlations with 'lr_2001' (-0.024591) and 'Total_Crime2001' (0.999025). \n",
    "3.Both literacy rates ('lr_2001' and 'lr_2011') have weaker correlations with other features, particularly with crime-related variables. \n",
    "4.'Total_CrimeRate2001' shows a moderate positive correlation with 'Total_Crime2001' (0.225639) and 'Total_Crime2011' (0.185811). \n",
    "5.'Total_Crime2011' has the highest correlation with 'Total_Crime2001' (0.974960) and '2011' (0.836045), indicating strong positive relationships with the total crime numbers in both years and the population in 2011.\n",
    "\n",
    "Phase2:\n",
    "----------------\n",
    "Requirements:\n",
    "2.1\tAnalysis of Literacy Rate vs Total Crimes\n",
    "Literacy Rate state wise upto 2011.csv \n",
    "        Reference files:\n",
    "state wise total crime2001.csv \n",
    "      *state wise total crime20011.csv \n",
    "      *state wise total crimes1991.csv \n",
    "      \n",
    "we analyse columns from dataset :(\\literacyRate statewise upto 2011.xls)     \n",
    "1.total number of crimes during 2001 and Average literacy rate in 2001 . 2.Above plot showing the relationship between the both features as mentioned. 3.it displaying the data points areseperate from linear trendline,it means there is weaker correlation between two features.\n",
    "4.Literacy between male and female in every year in every state.\n",
    "5.crimes are less where average literacy rate is high.\n",
    "In some states has literacy rate is 63,51,75 there number of crimes are high.\n",
    "6.literacy rate high with lower number of crimes in lakshadweep,goa,diu daman,tripura.\n",
    "\n",
    "      \n",
    "2.2 Analysis of the type of crime vs each state vs Literacy rate.\n",
    "    ref file:\n",
    "    Statewise_Crime(2001&2011).csv \n",
    "    \n",
    "1.column name '2001','2011'  showing population of each state in that year.\n",
    "2.lr_2001,lr_2011 showing literacy rate in 2001 and 2011. \n",
    "3.data collected according to 2001,2011 census.\n",
    "here we compare crime rate and literacy rate in each state.\n",
    "4.drow pie charts so that we can analyze year wise the crime rate of each state.\n",
    "5 i observe that In 2001 having highest  literacy rate in Kerala and lowest literacy rate in himachal pradesh.\n",
    "\n",
    "    \n",
    "2.3:Analysis of year-on-year total crime rate.\n",
    "\tCalculate crime rate of every year\n",
    "    \n",
    "1.I have population and total ipc crime data\n",
    "so from that we can calculate crime rate of each year.\n",
    "\n",
    "formula:crime_rate = (total_ipc_crimes / population) * 1000\n",
    "with this formula we calculate crime rate.\n",
    "I took same file data but add only one column with crime rate and create new file .(YearOnYear_CrimeRate.csv)\n",
    "2.crime rate of each state in over every year(2001-2011)\n",
    "3.Analyzed crime heads of according to the crime rate of each state. \n",
    "4 last checked correlation with features.\n",
    "\n",
    "2.4:Analysis of area vs overall crime.\n",
    "\t01_District_wise_crimes_committed_IPC_2001_2012.csv\n",
    "    Getting Idea from https://www.kaggle.com/datasets.\n",
    "1.state and district wise overall crimes \n",
    "2.In this dataset head of crimes are mentioned with total count in every year (2001 to 2012)\n",
    "3.district wise number of crimes happed in every year.\n",
    "4.But we have to analyze data state wise not District wise.\n",
    "5.Here we can see data state wise also district wise.\n",
    "6.We consider District as Area of state where crimes had done and get count of crimes.\n",
    "7.For doing visualizations we are creating a dataframe with State name and total number of cases on that state.\n",
    "8.here i analyze crime heads with reported cases in each state.\n",
    "9.i took only some of state to analyze number of reported cases in every year.\n",
    "10.analyzed total number of cases reported all over india in every year.(2001-2012)\n",
    "\n",
    "\n",
    "2.5:Analysis of Population vs overall Crime.\n",
    "\n",
    "1]source:01_District_wise_crimes_committed_IPC_2001_2012.csv\n",
    "2]create new file with source file data with adding population column data.\n",
    "3]created file: statewise_PopulationOverallCrimes.csv\n",
    "4]Visualize statewise overall crimes and population over year(2001-2011).\n",
    "5]population getting increase over year. \n",
    "reported number of crimes getting high in number .\n",
    "in 2011 total reported ipc crimes are more than previous years.\n",
    "6]Analyzed population, year,and total ipc crimes with crime heads.\n",
    " \n",
    "2.6.Each State Crime Report. \n",
    "I create report in seperate file.\n",
    "filename:ds-capstoneProject-phase2(Report)\n",
    "       \n",
    "Phase3\n",
    "-----------\n",
    "Note: Create a separate table for each file and give a meaningful name.\n",
    "\n",
    "When you are inserting make sure you are NOT inserting the column name in the table, else you don’t get a result.\n",
    "\n",
    "3.1\tInsert records from 42_District_wise_crimes_committed_against_women_2001_2012.csv into a table.\n",
    "\n",
    "3.2\tWrite SQL query to find the highest number of rapes & Kidnappings that happened in which state, District, and year\n",
    "\n",
    "3.3\tWrite SQL query to find All the lowest number of rapes & Kidnappings that happened in which state, District, and year\n",
    "\n",
    "3.4\tInsert records from 02_District_wise_crimes_committed_against_ST_2001_2012.csv into a new table\n",
    "\n",
    "3.5\tWrite SQL query to find the highest number of dacoity/robbery in which district.\n",
    "\n",
    "3.6\tWrite SQL query to find in which districts(All) the lowest number of murders happened\n",
    "\n",
    "3.7\tWrite SQL query to find the number of murders in ascending order in district and yearwise.\n",
    "\n",
    "\n",
    "3.8.1\tInsert records of STATE/UT, DISTRICT, YEAR, MURDER, ATTEMPT TO MURDER, and RAPE columns only from 01_District_wise_crimes_committed_IPC_2001_2012.csv into a new table\n",
    "\n",
    "\n",
    "3.8.2\tWrite SQL query to find which District in each state/ut has the highest number of murders yearwise. Your output should show STATE/UT, YEAR, DISTRICT, and MURDERS.\n",
    "\n",
    "1]i completed this phase with sqlite3 .\n",
    "2]create dataframe and complete query according to requirements.\n",
    "3]Last analyzed crime heads by year and districts.\n",
    "\n",
    "Phase4\n",
    "--------------------\n",
    "1.In this Phase i have create cluster named sensitive areas,moderate areas,peaceful areas.\n",
    "2.\n",
    "1]Sensitive area: where number of crimes is more.(highest number of crimes)\n",
    "    state,district,total ipc crimes: 01_District_wise_crimes_committed_IPC_2001_2012.csv'.\n",
    "    \n",
    "2]Moderate Area: where number of crimes in medium not so high.\n",
    "    state,district,total ipc crimes: 01_District_wise_crimes_committed_IPC_2001_2012.csv'.\n",
    "    \n",
    "3]Peaceful Areas: where lowest number of crimes.\n",
    "\n",
    "file:\n",
    "*Districtwise_crimes.csv\n",
    "*removed rows which has district value 'total' and 'delhi ut total'\n",
    "*create file name: Districtwise_crimes.csv\n",
    "*apply kmeans algorithm and create clusters\n",
    "*then create dataframe of each cluster and create csv file as well with cluster name.\n",
    "*Did some analyze with cluster data."
   ]
  },
  {
   "cell_type": "code",
   "execution_count": null,
   "id": "dfe873de",
   "metadata": {},
   "outputs": [],
   "source": []
  }
 ],
 "metadata": {
  "kernelspec": {
   "display_name": "Python 3 (ipykernel)",
   "language": "python",
   "name": "python3"
  },
  "language_info": {
   "codemirror_mode": {
    "name": "ipython",
    "version": 3
   },
   "file_extension": ".py",
   "mimetype": "text/x-python",
   "name": "python",
   "nbconvert_exporter": "python",
   "pygments_lexer": "ipython3",
   "version": "3.9.13"
  }
 },
 "nbformat": 4,
 "nbformat_minor": 5
}
